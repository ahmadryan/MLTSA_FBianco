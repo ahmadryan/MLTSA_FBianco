{
  "nbformat": 4,
  "nbformat_minor": 0,
  "metadata": {
    "kernelspec": {
      "display_name": "Python 3",
      "language": "python",
      "name": "python3"
    },
    "language_info": {
      "codemirror_mode": {
        "name": "ipython",
        "version": 3
      },
      "file_extension": ".py",
      "mimetype": "text/x-python",
      "name": "python",
      "nbconvert_exporter": "python",
      "pygments_lexer": "ipython3",
      "version": "3.7.3"
    },
    "latex_envs": {
      "LaTeX_envs_menu_present": true,
      "autoclose": false,
      "autocomplete": true,
      "bibliofile": "biblio.bib",
      "cite_by": "apalike",
      "current_citInitial": 1,
      "eqLabelWithNumbers": true,
      "eqNumInitial": 1,
      "hotkeys": {
        "equation": "Ctrl-E",
        "itemize": "Ctrl-I"
      },
      "labels_anchors": false,
      "latex_user_defs": false,
      "report_style_numbering": false,
      "user_envs_cfg": false
    },
    "nbTranslate": {
      "displayLangs": [
        "*"
      ],
      "hotkey": "alt-t",
      "langInMainMenu": true,
      "sourceLang": "en",
      "targetLang": "fr",
      "useGoogleTranslate": true
    },
    "toc": {
      "base_numbering": 1,
      "nav_menu": {},
      "number_sections": true,
      "sideBar": true,
      "skip_h1_title": false,
      "title_cell": "Table of Contents",
      "title_sidebar": "Contents",
      "toc_cell": false,
      "toc_position": {},
      "toc_section_display": true,
      "toc_window_display": false
    },
    "colab": {
      "name": "ClimateBSTS_solution.ipynb",
      "provenance": [],
      "include_colab_link": true
    }
  },
  "cells": [
    {
      "cell_type": "markdown",
      "metadata": {
        "id": "view-in-github",
        "colab_type": "text"
      },
      "source": [
        "<a href=\"https://colab.research.google.com/github/fedhere/MLTSA_FBianco/blob/master/HW4/ClimateBSTS_solution.ipynb\" target=\"_parent\"><img src=\"https://colab.research.google.com/assets/colab-badge.svg\" alt=\"Open In Colab\"/></a>"
      ]
    },
    {
      "cell_type": "code",
      "metadata": {
        "ExecuteTime": {
          "end_time": "2020-02-28T13:25:21.956990Z",
          "start_time": "2020-02-28T13:25:20.741770Z"
        },
        "id": "eF_e2y8mu9W4",
        "colab_type": "code",
        "outputId": "33f72cba-a12f-4f07-bd1f-fa23fb938ceb",
        "colab": {
          "base_uri": "https://localhost:8080/",
          "height": 34
        }
      },
      "source": [
        "import pandas as pd\n",
        "import pylab as pl\n",
        "import numpy as np\n",
        "\n",
        "\n",
        "%pylab inline\n",
        "\n"
      ],
      "execution_count": 1,
      "outputs": [
        {
          "output_type": "stream",
          "text": [
            "Populating the interactive namespace from numpy and matplotlib\n"
          ],
          "name": "stdout"
        }
      ]
    },
    {
      "cell_type": "code",
      "metadata": {
        "id": "9tnANQib8apB",
        "colab_type": "code",
        "outputId": "1d45fea0-03fc-457d-cd04-63c4ff60d92e",
        "colab": {
          "base_uri": "https://localhost:8080/",
          "height": 338
        }
      },
      "source": [
        "! pip install pydlm\n",
        "from pydlm import dlm, trend, seasonality, dynamic\n"
      ],
      "execution_count": 2,
      "outputs": [
        {
          "output_type": "stream",
          "text": [
            "Collecting pydlm\n",
            "\u001b[?25l  Downloading https://files.pythonhosted.org/packages/3f/a5/9741f8ea14f13d8f1f40946cf1c7a3cbdd6cea9ea631a3b24faab1a79203/pydlm-0.1.1.11.tar.gz (46kB)\n",
            "\u001b[K     |████████████████████████████████| 51kB 901kB/s \n",
            "\u001b[?25hRequirement already satisfied: numpy in /usr/local/lib/python3.6/dist-packages (from pydlm) (1.18.2)\n",
            "Requirement already satisfied: matplotlib in /usr/local/lib/python3.6/dist-packages (from pydlm) (3.2.1)\n",
            "Requirement already satisfied: pyparsing!=2.0.4,!=2.1.2,!=2.1.6,>=2.0.1 in /usr/local/lib/python3.6/dist-packages (from matplotlib->pydlm) (2.4.7)\n",
            "Requirement already satisfied: kiwisolver>=1.0.1 in /usr/local/lib/python3.6/dist-packages (from matplotlib->pydlm) (1.2.0)\n",
            "Requirement already satisfied: cycler>=0.10 in /usr/local/lib/python3.6/dist-packages (from matplotlib->pydlm) (0.10.0)\n",
            "Requirement already satisfied: python-dateutil>=2.1 in /usr/local/lib/python3.6/dist-packages (from matplotlib->pydlm) (2.8.1)\n",
            "Requirement already satisfied: six in /usr/local/lib/python3.6/dist-packages (from cycler>=0.10->matplotlib->pydlm) (1.12.0)\n",
            "Building wheels for collected packages: pydlm\n",
            "  Building wheel for pydlm (setup.py) ... \u001b[?25l\u001b[?25hdone\n",
            "  Created wheel for pydlm: filename=pydlm-0.1.1.11-py2.py3-none-any.whl size=58997 sha256=5b2ca8d4bc0442d7865c98fce0ef4f946b61564c4ee6c2e0765304833ba1edb2\n",
            "  Stored in directory: /root/.cache/pip/wheels/69/d3/ca/f5a7bc0976a2779bf87c20f82a9adece40616ee3b9d39bf410\n",
            "Successfully built pydlm\n",
            "Installing collected packages: pydlm\n",
            "Successfully installed pydlm-0.1.1.11\n"
          ],
          "name": "stdout"
        }
      ]
    },
    {
      "cell_type": "markdown",
      "metadata": {
        "id": "Err7cINC7CUf",
        "colab_type": "text"
      },
      "source": [
        "# Data acquisition and pre-processing"
      ]
    },
    {
      "cell_type": "code",
      "metadata": {
        "id": "JKx73mE3xSl6",
        "colab_type": "code",
        "outputId": "2144592a-958f-460b-d521-51e3200fc70a",
        "colab": {
          "base_uri": "https://localhost:8080/",
          "height": 125
        }
      },
      "source": [
        "from google.colab import drive\n",
        "\n",
        "drive.mount(\"/content/gdrive\")\n"
      ],
      "execution_count": 3,
      "outputs": [
        {
          "output_type": "stream",
          "text": [
            "Go to this URL in a browser: https://accounts.google.com/o/oauth2/auth?client_id=947318989803-6bn6qk8qdgf4n4g3pfee6491hc0brc4i.apps.googleusercontent.com&redirect_uri=urn%3aietf%3awg%3aoauth%3a2.0%3aoob&response_type=code&scope=email%20https%3a%2f%2fwww.googleapis.com%2fauth%2fdocs.test%20https%3a%2f%2fwww.googleapis.com%2fauth%2fdrive%20https%3a%2f%2fwww.googleapis.com%2fauth%2fdrive.photos.readonly%20https%3a%2f%2fwww.googleapis.com%2fauth%2fpeopleapi.readonly\n",
            "\n",
            "Enter your authorization code:\n",
            "··········\n",
            "Mounted at /content/gdrive\n"
          ],
          "name": "stdout"
        }
      ]
    },
    {
      "cell_type": "code",
      "metadata": {
        "id": "mSQNrCZI5tUh",
        "colab_type": "code",
        "outputId": "22eae17a-28f6-4e05-eeda-b0534cc54743",
        "colab": {
          "base_uri": "https://localhost:8080/",
          "height": 34
        }
      },
      "source": [
        "cd /content/gdrive/My\\ Drive\n"
      ],
      "execution_count": 8,
      "outputs": [
        {
          "output_type": "stream",
          "text": [
            "/content/gdrive/My Drive\n"
          ],
          "name": "stdout"
        }
      ]
    },
    {
      "cell_type": "code",
      "metadata": {
        "id": "2XVZBrXLxd2F",
        "colab_type": "code",
        "outputId": "ec1235b9-bc1c-4867-97d6-9ca59f885afa",
        "colab": {
          "base_uri": "https://localhost:8080/",
          "height": 34
        }
      },
      "source": [
        "cd MLTSA2020/\n"
      ],
      "execution_count": 9,
      "outputs": [
        {
          "output_type": "stream",
          "text": [
            "/content/gdrive/My Drive/MLTSA2020\n"
          ],
          "name": "stdout"
        }
      ]
    },
    {
      "cell_type": "markdown",
      "metadata": {
        "id": "xTBN1pS5we8U",
        "colab_type": "text"
      },
      "source": [
        "acquire the Co2 emission data from the world bank. save it on your drive and read it in\n",
        "The file should be called API_EN.ATM.CO2E.PC_DS2_en_csv_v2_713061.csv and should be store on your google drive in MLTSA/data.\n",
        "\n",
        "Choose the \"world\" row and transpose the file so that it has one column, world, which you should rename \"co2\", and N rows for N years. Make sure the years are readin as datetime data type (you can use pd.to_datetime(... format=\"%Y\") \n"
      ]
    },
    {
      "cell_type": "code",
      "metadata": {
        "id": "YzRhk7ZNweF8",
        "colab_type": "code",
        "colab": {}
      },
      "source": [
        "co2 = pd.read_csv(\"data/API_EN.ATM.CO2E.PC_DS2_en_csv_v2_713061.csv\", \n",
        "                  skiprows=3)"
      ],
      "execution_count": 0,
      "outputs": []
    },
    {
      "cell_type": "code",
      "metadata": {
        "ExecuteTime": {
          "end_time": "2020-02-27T23:56:52.860343Z",
          "start_time": "2020-02-27T23:56:52.839338Z"
        },
        "id": "5ZTVdcVIu9XB",
        "colab_type": "code",
        "outputId": "c532f17c-3f8d-4f29-8da7-29416cb1aa8f",
        "colab": {
          "base_uri": "https://localhost:8080/",
          "height": 484
        }
      },
      "source": [
        "co2.head()"
      ],
      "execution_count": 82,
      "outputs": [
        {
          "output_type": "execute_result",
          "data": {
            "text/html": [
              "<div>\n",
              "<style scoped>\n",
              "    .dataframe tbody tr th:only-of-type {\n",
              "        vertical-align: middle;\n",
              "    }\n",
              "\n",
              "    .dataframe tbody tr th {\n",
              "        vertical-align: top;\n",
              "    }\n",
              "\n",
              "    .dataframe thead th {\n",
              "        text-align: right;\n",
              "    }\n",
              "</style>\n",
              "<table border=\"1\" class=\"dataframe\">\n",
              "  <thead>\n",
              "    <tr style=\"text-align: right;\">\n",
              "      <th></th>\n",
              "      <th>Country Name</th>\n",
              "      <th>Country Code</th>\n",
              "      <th>Indicator Name</th>\n",
              "      <th>Indicator Code</th>\n",
              "      <th>1960</th>\n",
              "      <th>1961</th>\n",
              "      <th>1962</th>\n",
              "      <th>1963</th>\n",
              "      <th>1964</th>\n",
              "      <th>1965</th>\n",
              "      <th>1966</th>\n",
              "      <th>1967</th>\n",
              "      <th>1968</th>\n",
              "      <th>1969</th>\n",
              "      <th>1970</th>\n",
              "      <th>1971</th>\n",
              "      <th>1972</th>\n",
              "      <th>1973</th>\n",
              "      <th>1974</th>\n",
              "      <th>1975</th>\n",
              "      <th>1976</th>\n",
              "      <th>1977</th>\n",
              "      <th>1978</th>\n",
              "      <th>1979</th>\n",
              "      <th>1980</th>\n",
              "      <th>1981</th>\n",
              "      <th>1982</th>\n",
              "      <th>1983</th>\n",
              "      <th>1984</th>\n",
              "      <th>1985</th>\n",
              "      <th>1986</th>\n",
              "      <th>1987</th>\n",
              "      <th>1988</th>\n",
              "      <th>1989</th>\n",
              "      <th>1990</th>\n",
              "      <th>1991</th>\n",
              "      <th>1992</th>\n",
              "      <th>1993</th>\n",
              "      <th>1994</th>\n",
              "      <th>1995</th>\n",
              "      <th>1996</th>\n",
              "      <th>1997</th>\n",
              "      <th>1998</th>\n",
              "      <th>1999</th>\n",
              "      <th>2000</th>\n",
              "      <th>2001</th>\n",
              "      <th>2002</th>\n",
              "      <th>2003</th>\n",
              "      <th>2004</th>\n",
              "      <th>2005</th>\n",
              "      <th>2006</th>\n",
              "      <th>2007</th>\n",
              "      <th>2008</th>\n",
              "      <th>2009</th>\n",
              "      <th>2010</th>\n",
              "      <th>2011</th>\n",
              "      <th>2012</th>\n",
              "      <th>2013</th>\n",
              "      <th>2014</th>\n",
              "      <th>2015</th>\n",
              "      <th>2016</th>\n",
              "      <th>2017</th>\n",
              "      <th>2018</th>\n",
              "      <th>2019</th>\n",
              "      <th>Unnamed: 64</th>\n",
              "    </tr>\n",
              "  </thead>\n",
              "  <tbody>\n",
              "    <tr>\n",
              "      <th>0</th>\n",
              "      <td>Aruba</td>\n",
              "      <td>ABW</td>\n",
              "      <td>CO2 emissions (metric tons per capita)</td>\n",
              "      <td>EN.ATM.CO2E.PC</td>\n",
              "      <td>NaN</td>\n",
              "      <td>NaN</td>\n",
              "      <td>NaN</td>\n",
              "      <td>NaN</td>\n",
              "      <td>NaN</td>\n",
              "      <td>NaN</td>\n",
              "      <td>NaN</td>\n",
              "      <td>NaN</td>\n",
              "      <td>NaN</td>\n",
              "      <td>NaN</td>\n",
              "      <td>NaN</td>\n",
              "      <td>NaN</td>\n",
              "      <td>NaN</td>\n",
              "      <td>NaN</td>\n",
              "      <td>NaN</td>\n",
              "      <td>NaN</td>\n",
              "      <td>NaN</td>\n",
              "      <td>NaN</td>\n",
              "      <td>NaN</td>\n",
              "      <td>NaN</td>\n",
              "      <td>NaN</td>\n",
              "      <td>NaN</td>\n",
              "      <td>NaN</td>\n",
              "      <td>NaN</td>\n",
              "      <td>NaN</td>\n",
              "      <td>NaN</td>\n",
              "      <td>2.868319</td>\n",
              "      <td>7.235198</td>\n",
              "      <td>10.026179</td>\n",
              "      <td>10.634733</td>\n",
              "      <td>26.374503</td>\n",
              "      <td>26.046130</td>\n",
              "      <td>21.442559</td>\n",
              "      <td>22.000786</td>\n",
              "      <td>21.036245</td>\n",
              "      <td>20.771936</td>\n",
              "      <td>20.318353</td>\n",
              "      <td>20.426818</td>\n",
              "      <td>20.587669</td>\n",
              "      <td>20.311567</td>\n",
              "      <td>26.194875</td>\n",
              "      <td>25.934024</td>\n",
              "      <td>25.671162</td>\n",
              "      <td>26.420452</td>\n",
              "      <td>26.517293</td>\n",
              "      <td>27.200708</td>\n",
              "      <td>26.947726</td>\n",
              "      <td>27.895023</td>\n",
              "      <td>26.229553</td>\n",
              "      <td>25.915322</td>\n",
              "      <td>24.670529</td>\n",
              "      <td>24.507516</td>\n",
              "      <td>13.157722</td>\n",
              "      <td>8.353561</td>\n",
              "      <td>8.410064</td>\n",
              "      <td>NaN</td>\n",
              "      <td>NaN</td>\n",
              "      <td>NaN</td>\n",
              "      <td>NaN</td>\n",
              "      <td>NaN</td>\n",
              "      <td>NaN</td>\n",
              "    </tr>\n",
              "    <tr>\n",
              "      <th>1</th>\n",
              "      <td>Afghanistan</td>\n",
              "      <td>AFG</td>\n",
              "      <td>CO2 emissions (metric tons per capita)</td>\n",
              "      <td>EN.ATM.CO2E.PC</td>\n",
              "      <td>0.046057</td>\n",
              "      <td>0.053589</td>\n",
              "      <td>0.073721</td>\n",
              "      <td>0.074161</td>\n",
              "      <td>0.086174</td>\n",
              "      <td>0.101285</td>\n",
              "      <td>0.107399</td>\n",
              "      <td>0.123410</td>\n",
              "      <td>0.115142</td>\n",
              "      <td>0.086510</td>\n",
              "      <td>0.149651</td>\n",
              "      <td>0.165208</td>\n",
              "      <td>0.129996</td>\n",
              "      <td>0.135367</td>\n",
              "      <td>0.154503</td>\n",
              "      <td>0.167612</td>\n",
              "      <td>0.153558</td>\n",
              "      <td>0.181522</td>\n",
              "      <td>0.161894</td>\n",
              "      <td>0.167066</td>\n",
              "      <td>0.131783</td>\n",
              "      <td>0.150615</td>\n",
              "      <td>0.163104</td>\n",
              "      <td>0.201224</td>\n",
              "      <td>0.231961</td>\n",
              "      <td>0.293957</td>\n",
              "      <td>0.267772</td>\n",
              "      <td>0.269230</td>\n",
              "      <td>0.246823</td>\n",
              "      <td>0.233882</td>\n",
              "      <td>0.210643</td>\n",
              "      <td>0.183364</td>\n",
              "      <td>0.096197</td>\n",
              "      <td>0.085087</td>\n",
              "      <td>0.075806</td>\n",
              "      <td>0.068640</td>\n",
              "      <td>0.062435</td>\n",
              "      <td>0.056642</td>\n",
              "      <td>0.052763</td>\n",
              "      <td>0.040723</td>\n",
              "      <td>0.037235</td>\n",
              "      <td>0.037846</td>\n",
              "      <td>0.047377</td>\n",
              "      <td>0.050481</td>\n",
              "      <td>0.038410</td>\n",
              "      <td>0.051744</td>\n",
              "      <td>0.062428</td>\n",
              "      <td>0.083893</td>\n",
              "      <td>0.151721</td>\n",
              "      <td>0.238399</td>\n",
              "      <td>0.289988</td>\n",
              "      <td>0.406424</td>\n",
              "      <td>0.345149</td>\n",
              "      <td>0.310341</td>\n",
              "      <td>0.293946</td>\n",
              "      <td>NaN</td>\n",
              "      <td>NaN</td>\n",
              "      <td>NaN</td>\n",
              "      <td>NaN</td>\n",
              "      <td>NaN</td>\n",
              "      <td>NaN</td>\n",
              "    </tr>\n",
              "    <tr>\n",
              "      <th>2</th>\n",
              "      <td>Angola</td>\n",
              "      <td>AGO</td>\n",
              "      <td>CO2 emissions (metric tons per capita)</td>\n",
              "      <td>EN.ATM.CO2E.PC</td>\n",
              "      <td>0.100835</td>\n",
              "      <td>0.082204</td>\n",
              "      <td>0.210531</td>\n",
              "      <td>0.202737</td>\n",
              "      <td>0.213560</td>\n",
              "      <td>0.205891</td>\n",
              "      <td>0.268941</td>\n",
              "      <td>0.172102</td>\n",
              "      <td>0.289718</td>\n",
              "      <td>0.480234</td>\n",
              "      <td>0.608224</td>\n",
              "      <td>0.564548</td>\n",
              "      <td>0.721246</td>\n",
              "      <td>0.751240</td>\n",
              "      <td>0.720776</td>\n",
              "      <td>0.628569</td>\n",
              "      <td>0.451354</td>\n",
              "      <td>0.469221</td>\n",
              "      <td>0.694737</td>\n",
              "      <td>0.683063</td>\n",
              "      <td>0.640966</td>\n",
              "      <td>0.611135</td>\n",
              "      <td>0.519355</td>\n",
              "      <td>0.551349</td>\n",
              "      <td>0.520983</td>\n",
              "      <td>0.471903</td>\n",
              "      <td>0.451619</td>\n",
              "      <td>0.544085</td>\n",
              "      <td>0.463508</td>\n",
              "      <td>0.437295</td>\n",
              "      <td>0.431744</td>\n",
              "      <td>0.415531</td>\n",
              "      <td>0.410523</td>\n",
              "      <td>0.441721</td>\n",
              "      <td>0.288119</td>\n",
              "      <td>0.787033</td>\n",
              "      <td>0.726233</td>\n",
              "      <td>0.496361</td>\n",
              "      <td>0.475815</td>\n",
              "      <td>0.577083</td>\n",
              "      <td>0.581961</td>\n",
              "      <td>0.574316</td>\n",
              "      <td>0.722959</td>\n",
              "      <td>0.500225</td>\n",
              "      <td>1.001878</td>\n",
              "      <td>0.985736</td>\n",
              "      <td>1.105019</td>\n",
              "      <td>1.203134</td>\n",
              "      <td>1.185000</td>\n",
              "      <td>1.234425</td>\n",
              "      <td>1.244092</td>\n",
              "      <td>1.252681</td>\n",
              "      <td>1.330219</td>\n",
              "      <td>1.253776</td>\n",
              "      <td>1.290307</td>\n",
              "      <td>NaN</td>\n",
              "      <td>NaN</td>\n",
              "      <td>NaN</td>\n",
              "      <td>NaN</td>\n",
              "      <td>NaN</td>\n",
              "      <td>NaN</td>\n",
              "    </tr>\n",
              "    <tr>\n",
              "      <th>3</th>\n",
              "      <td>Albania</td>\n",
              "      <td>ALB</td>\n",
              "      <td>CO2 emissions (metric tons per capita)</td>\n",
              "      <td>EN.ATM.CO2E.PC</td>\n",
              "      <td>1.258195</td>\n",
              "      <td>1.374186</td>\n",
              "      <td>1.439956</td>\n",
              "      <td>1.181681</td>\n",
              "      <td>1.111742</td>\n",
              "      <td>1.166099</td>\n",
              "      <td>1.333055</td>\n",
              "      <td>1.363746</td>\n",
              "      <td>1.519551</td>\n",
              "      <td>1.558968</td>\n",
              "      <td>1.753240</td>\n",
              "      <td>1.989498</td>\n",
              "      <td>2.515914</td>\n",
              "      <td>2.303897</td>\n",
              "      <td>1.849007</td>\n",
              "      <td>1.910634</td>\n",
              "      <td>2.013585</td>\n",
              "      <td>2.275876</td>\n",
              "      <td>2.530625</td>\n",
              "      <td>2.898209</td>\n",
              "      <td>1.935058</td>\n",
              "      <td>2.693024</td>\n",
              "      <td>2.624857</td>\n",
              "      <td>2.683240</td>\n",
              "      <td>2.694291</td>\n",
              "      <td>2.658015</td>\n",
              "      <td>2.665356</td>\n",
              "      <td>2.414061</td>\n",
              "      <td>2.331599</td>\n",
              "      <td>2.783243</td>\n",
              "      <td>1.678107</td>\n",
              "      <td>1.312213</td>\n",
              "      <td>0.774725</td>\n",
              "      <td>0.723790</td>\n",
              "      <td>0.600204</td>\n",
              "      <td>0.654537</td>\n",
              "      <td>0.636625</td>\n",
              "      <td>0.490365</td>\n",
              "      <td>0.560271</td>\n",
              "      <td>0.960164</td>\n",
              "      <td>0.978175</td>\n",
              "      <td>1.053304</td>\n",
              "      <td>1.229541</td>\n",
              "      <td>1.412697</td>\n",
              "      <td>1.376213</td>\n",
              "      <td>1.412498</td>\n",
              "      <td>1.302576</td>\n",
              "      <td>1.322335</td>\n",
              "      <td>1.484311</td>\n",
              "      <td>1.495600</td>\n",
              "      <td>1.578574</td>\n",
              "      <td>1.803715</td>\n",
              "      <td>1.692908</td>\n",
              "      <td>1.749211</td>\n",
              "      <td>1.978763</td>\n",
              "      <td>NaN</td>\n",
              "      <td>NaN</td>\n",
              "      <td>NaN</td>\n",
              "      <td>NaN</td>\n",
              "      <td>NaN</td>\n",
              "      <td>NaN</td>\n",
              "    </tr>\n",
              "    <tr>\n",
              "      <th>4</th>\n",
              "      <td>Andorra</td>\n",
              "      <td>AND</td>\n",
              "      <td>CO2 emissions (metric tons per capita)</td>\n",
              "      <td>EN.ATM.CO2E.PC</td>\n",
              "      <td>NaN</td>\n",
              "      <td>NaN</td>\n",
              "      <td>NaN</td>\n",
              "      <td>NaN</td>\n",
              "      <td>NaN</td>\n",
              "      <td>NaN</td>\n",
              "      <td>NaN</td>\n",
              "      <td>NaN</td>\n",
              "      <td>NaN</td>\n",
              "      <td>NaN</td>\n",
              "      <td>NaN</td>\n",
              "      <td>NaN</td>\n",
              "      <td>NaN</td>\n",
              "      <td>NaN</td>\n",
              "      <td>NaN</td>\n",
              "      <td>NaN</td>\n",
              "      <td>NaN</td>\n",
              "      <td>NaN</td>\n",
              "      <td>NaN</td>\n",
              "      <td>NaN</td>\n",
              "      <td>NaN</td>\n",
              "      <td>NaN</td>\n",
              "      <td>NaN</td>\n",
              "      <td>NaN</td>\n",
              "      <td>NaN</td>\n",
              "      <td>NaN</td>\n",
              "      <td>NaN</td>\n",
              "      <td>NaN</td>\n",
              "      <td>NaN</td>\n",
              "      <td>NaN</td>\n",
              "      <td>7.467336</td>\n",
              "      <td>7.182457</td>\n",
              "      <td>6.912053</td>\n",
              "      <td>6.736055</td>\n",
              "      <td>6.494200</td>\n",
              "      <td>6.662052</td>\n",
              "      <td>7.065071</td>\n",
              "      <td>7.239713</td>\n",
              "      <td>7.660784</td>\n",
              "      <td>7.975454</td>\n",
              "      <td>8.019284</td>\n",
              "      <td>7.786950</td>\n",
              "      <td>7.590615</td>\n",
              "      <td>7.315761</td>\n",
              "      <td>7.358625</td>\n",
              "      <td>7.299872</td>\n",
              "      <td>6.746052</td>\n",
              "      <td>6.519387</td>\n",
              "      <td>6.427810</td>\n",
              "      <td>6.121580</td>\n",
              "      <td>6.122595</td>\n",
              "      <td>5.867410</td>\n",
              "      <td>5.916884</td>\n",
              "      <td>5.901775</td>\n",
              "      <td>5.832906</td>\n",
              "      <td>NaN</td>\n",
              "      <td>NaN</td>\n",
              "      <td>NaN</td>\n",
              "      <td>NaN</td>\n",
              "      <td>NaN</td>\n",
              "      <td>NaN</td>\n",
              "    </tr>\n",
              "  </tbody>\n",
              "</table>\n",
              "</div>"
            ],
            "text/plain": [
              "  Country Name Country Code  ... 2019 Unnamed: 64\n",
              "0        Aruba          ABW  ...  NaN         NaN\n",
              "1  Afghanistan          AFG  ...  NaN         NaN\n",
              "2       Angola          AGO  ...  NaN         NaN\n",
              "3      Albania          ALB  ...  NaN         NaN\n",
              "4      Andorra          AND  ...  NaN         NaN\n",
              "\n",
              "[5 rows x 65 columns]"
            ]
          },
          "metadata": {
            "tags": []
          },
          "execution_count": 82
        }
      ]
    },
    {
      "cell_type": "code",
      "metadata": {
        "ExecuteTime": {
          "end_time": "2020-02-27T23:56:53.207144Z",
          "start_time": "2020-02-27T23:56:53.202017Z"
        },
        "id": "t0soum_-u9XE",
        "colab_type": "code",
        "outputId": "36b54407-1982-48bf-98a3-52dd80097000",
        "colab": {
          "base_uri": "https://localhost:8080/",
          "height": 324
        }
      },
      "source": [
        "co2.describe()"
      ],
      "execution_count": 83,
      "outputs": [
        {
          "output_type": "execute_result",
          "data": {
            "text/html": [
              "<div>\n",
              "<style scoped>\n",
              "    .dataframe tbody tr th:only-of-type {\n",
              "        vertical-align: middle;\n",
              "    }\n",
              "\n",
              "    .dataframe tbody tr th {\n",
              "        vertical-align: top;\n",
              "    }\n",
              "\n",
              "    .dataframe thead th {\n",
              "        text-align: right;\n",
              "    }\n",
              "</style>\n",
              "<table border=\"1\" class=\"dataframe\">\n",
              "  <thead>\n",
              "    <tr style=\"text-align: right;\">\n",
              "      <th></th>\n",
              "      <th>1960</th>\n",
              "      <th>1961</th>\n",
              "      <th>1962</th>\n",
              "      <th>1963</th>\n",
              "      <th>1964</th>\n",
              "      <th>1965</th>\n",
              "      <th>1966</th>\n",
              "      <th>1967</th>\n",
              "      <th>1968</th>\n",
              "      <th>1969</th>\n",
              "      <th>1970</th>\n",
              "      <th>1971</th>\n",
              "      <th>1972</th>\n",
              "      <th>1973</th>\n",
              "      <th>1974</th>\n",
              "      <th>1975</th>\n",
              "      <th>1976</th>\n",
              "      <th>1977</th>\n",
              "      <th>1978</th>\n",
              "      <th>1979</th>\n",
              "      <th>1980</th>\n",
              "      <th>1981</th>\n",
              "      <th>1982</th>\n",
              "      <th>1983</th>\n",
              "      <th>1984</th>\n",
              "      <th>1985</th>\n",
              "      <th>1986</th>\n",
              "      <th>1987</th>\n",
              "      <th>1988</th>\n",
              "      <th>1989</th>\n",
              "      <th>1990</th>\n",
              "      <th>1991</th>\n",
              "      <th>1992</th>\n",
              "      <th>1993</th>\n",
              "      <th>1994</th>\n",
              "      <th>1995</th>\n",
              "      <th>1996</th>\n",
              "      <th>1997</th>\n",
              "      <th>1998</th>\n",
              "      <th>1999</th>\n",
              "      <th>2000</th>\n",
              "      <th>2001</th>\n",
              "      <th>2002</th>\n",
              "      <th>2003</th>\n",
              "      <th>2004</th>\n",
              "      <th>2005</th>\n",
              "      <th>2006</th>\n",
              "      <th>2007</th>\n",
              "      <th>2008</th>\n",
              "      <th>2009</th>\n",
              "      <th>2010</th>\n",
              "      <th>2011</th>\n",
              "      <th>2012</th>\n",
              "      <th>2013</th>\n",
              "      <th>2014</th>\n",
              "      <th>2015</th>\n",
              "      <th>2016</th>\n",
              "      <th>2017</th>\n",
              "      <th>2018</th>\n",
              "      <th>2019</th>\n",
              "      <th>Unnamed: 64</th>\n",
              "    </tr>\n",
              "  </thead>\n",
              "  <tbody>\n",
              "    <tr>\n",
              "      <th>count</th>\n",
              "      <td>193.000000</td>\n",
              "      <td>194.000000</td>\n",
              "      <td>196.000000</td>\n",
              "      <td>197.000000</td>\n",
              "      <td>203.000000</td>\n",
              "      <td>203.000000</td>\n",
              "      <td>203.000000</td>\n",
              "      <td>203.000000</td>\n",
              "      <td>203.000000</td>\n",
              "      <td>203.000000</td>\n",
              "      <td>205.000000</td>\n",
              "      <td>206.000000</td>\n",
              "      <td>208.000000</td>\n",
              "      <td>208.000000</td>\n",
              "      <td>208.000000</td>\n",
              "      <td>208.000000</td>\n",
              "      <td>208.000000</td>\n",
              "      <td>208.000000</td>\n",
              "      <td>208.000000</td>\n",
              "      <td>208.000000</td>\n",
              "      <td>208.000000</td>\n",
              "      <td>208.000000</td>\n",
              "      <td>208.000000</td>\n",
              "      <td>208.000000</td>\n",
              "      <td>208.000000</td>\n",
              "      <td>208.000000</td>\n",
              "      <td>209.000000</td>\n",
              "      <td>209.000000</td>\n",
              "      <td>209.000000</td>\n",
              "      <td>209.000000</td>\n",
              "      <td>215.000000</td>\n",
              "      <td>217.000000</td>\n",
              "      <td>241.000000</td>\n",
              "      <td>241.000000</td>\n",
              "      <td>242.000000</td>\n",
              "      <td>243.000000</td>\n",
              "      <td>243.000000</td>\n",
              "      <td>244.000000</td>\n",
              "      <td>245.000000</td>\n",
              "      <td>245.000000</td>\n",
              "      <td>245.000000</td>\n",
              "      <td>245.000000</td>\n",
              "      <td>246.000000</td>\n",
              "      <td>246.000000</td>\n",
              "      <td>246.000000</td>\n",
              "      <td>247.000000</td>\n",
              "      <td>248.000000</td>\n",
              "      <td>249.000000</td>\n",
              "      <td>249.000000</td>\n",
              "      <td>249.000000</td>\n",
              "      <td>249.000000</td>\n",
              "      <td>249.000000</td>\n",
              "      <td>251.000000</td>\n",
              "      <td>251.000000</td>\n",
              "      <td>250.000000</td>\n",
              "      <td>1.0</td>\n",
              "      <td>1.0</td>\n",
              "      <td>1.0</td>\n",
              "      <td>1.0</td>\n",
              "      <td>0.0</td>\n",
              "      <td>0.0</td>\n",
              "    </tr>\n",
              "    <tr>\n",
              "      <th>mean</th>\n",
              "      <td>2.037282</td>\n",
              "      <td>2.150171</td>\n",
              "      <td>2.241690</td>\n",
              "      <td>2.753812</td>\n",
              "      <td>2.916141</td>\n",
              "      <td>3.035673</td>\n",
              "      <td>3.049316</td>\n",
              "      <td>3.116120</td>\n",
              "      <td>3.315619</td>\n",
              "      <td>3.927816</td>\n",
              "      <td>4.204099</td>\n",
              "      <td>4.427336</td>\n",
              "      <td>4.494008</td>\n",
              "      <td>4.812818</td>\n",
              "      <td>4.507408</td>\n",
              "      <td>4.377664</td>\n",
              "      <td>4.368837</td>\n",
              "      <td>4.499300</td>\n",
              "      <td>4.526618</td>\n",
              "      <td>4.577355</td>\n",
              "      <td>4.475246</td>\n",
              "      <td>4.003176</td>\n",
              "      <td>3.883912</td>\n",
              "      <td>3.735079</td>\n",
              "      <td>3.833816</td>\n",
              "      <td>3.927593</td>\n",
              "      <td>3.913394</td>\n",
              "      <td>3.950233</td>\n",
              "      <td>4.084677</td>\n",
              "      <td>4.219883</td>\n",
              "      <td>4.087860</td>\n",
              "      <td>4.125632</td>\n",
              "      <td>4.482813</td>\n",
              "      <td>4.505842</td>\n",
              "      <td>4.428009</td>\n",
              "      <td>4.478244</td>\n",
              "      <td>4.496961</td>\n",
              "      <td>4.495002</td>\n",
              "      <td>4.485427</td>\n",
              "      <td>4.453672</td>\n",
              "      <td>4.583647</td>\n",
              "      <td>4.637700</td>\n",
              "      <td>4.605110</td>\n",
              "      <td>4.737570</td>\n",
              "      <td>4.784463</td>\n",
              "      <td>4.826155</td>\n",
              "      <td>4.901256</td>\n",
              "      <td>4.930568</td>\n",
              "      <td>4.935583</td>\n",
              "      <td>4.721868</td>\n",
              "      <td>4.847677</td>\n",
              "      <td>4.811059</td>\n",
              "      <td>4.955428</td>\n",
              "      <td>4.872777</td>\n",
              "      <td>4.886320</td>\n",
              "      <td>0.0</td>\n",
              "      <td>0.0</td>\n",
              "      <td>0.0</td>\n",
              "      <td>0.0</td>\n",
              "      <td>NaN</td>\n",
              "      <td>NaN</td>\n",
              "    </tr>\n",
              "    <tr>\n",
              "      <th>std</th>\n",
              "      <td>4.184849</td>\n",
              "      <td>4.377180</td>\n",
              "      <td>4.717044</td>\n",
              "      <td>8.443484</td>\n",
              "      <td>8.493180</td>\n",
              "      <td>8.706497</td>\n",
              "      <td>8.062852</td>\n",
              "      <td>7.263779</td>\n",
              "      <td>7.187105</td>\n",
              "      <td>9.921855</td>\n",
              "      <td>9.263233</td>\n",
              "      <td>9.886576</td>\n",
              "      <td>10.141886</td>\n",
              "      <td>10.766220</td>\n",
              "      <td>9.198437</td>\n",
              "      <td>8.467537</td>\n",
              "      <td>8.085626</td>\n",
              "      <td>8.012298</td>\n",
              "      <td>8.069064</td>\n",
              "      <td>7.968325</td>\n",
              "      <td>7.429310</td>\n",
              "      <td>6.211035</td>\n",
              "      <td>5.797967</td>\n",
              "      <td>5.297735</td>\n",
              "      <td>5.576488</td>\n",
              "      <td>5.617238</td>\n",
              "      <td>5.537729</td>\n",
              "      <td>5.336876</td>\n",
              "      <td>5.485957</td>\n",
              "      <td>5.738058</td>\n",
              "      <td>5.639184</td>\n",
              "      <td>5.694542</td>\n",
              "      <td>6.025123</td>\n",
              "      <td>6.347220</td>\n",
              "      <td>6.247433</td>\n",
              "      <td>6.392206</td>\n",
              "      <td>6.252384</td>\n",
              "      <td>6.563317</td>\n",
              "      <td>6.179797</td>\n",
              "      <td>5.966715</td>\n",
              "      <td>6.380133</td>\n",
              "      <td>6.535791</td>\n",
              "      <td>6.335804</td>\n",
              "      <td>6.387948</td>\n",
              "      <td>6.304327</td>\n",
              "      <td>6.408915</td>\n",
              "      <td>6.528367</td>\n",
              "      <td>6.353846</td>\n",
              "      <td>6.134005</td>\n",
              "      <td>5.811829</td>\n",
              "      <td>5.858565</td>\n",
              "      <td>5.786095</td>\n",
              "      <td>6.155163</td>\n",
              "      <td>5.840759</td>\n",
              "      <td>6.068998</td>\n",
              "      <td>NaN</td>\n",
              "      <td>NaN</td>\n",
              "      <td>NaN</td>\n",
              "      <td>NaN</td>\n",
              "      <td>NaN</td>\n",
              "      <td>NaN</td>\n",
              "    </tr>\n",
              "    <tr>\n",
              "      <th>min</th>\n",
              "      <td>0.007984</td>\n",
              "      <td>0.007857</td>\n",
              "      <td>0.008435</td>\n",
              "      <td>0.009336</td>\n",
              "      <td>0.011589</td>\n",
              "      <td>0.011851</td>\n",
              "      <td>0.013248</td>\n",
              "      <td>0.011791</td>\n",
              "      <td>-0.020098</td>\n",
              "      <td>0.016104</td>\n",
              "      <td>0.012334</td>\n",
              "      <td>0.011946</td>\n",
              "      <td>0.011574</td>\n",
              "      <td>0.011215</td>\n",
              "      <td>0.009735</td>\n",
              "      <td>0.009747</td>\n",
              "      <td>0.009905</td>\n",
              "      <td>0.010192</td>\n",
              "      <td>0.007379</td>\n",
              "      <td>0.004333</td>\n",
              "      <td>0.035283</td>\n",
              "      <td>0.029589</td>\n",
              "      <td>0.028209</td>\n",
              "      <td>0.030747</td>\n",
              "      <td>0.041402</td>\n",
              "      <td>0.035264</td>\n",
              "      <td>0.035641</td>\n",
              "      <td>0.036583</td>\n",
              "      <td>0.011809</td>\n",
              "      <td>0.017783</td>\n",
              "      <td>0.023982</td>\n",
              "      <td>0.010720</td>\n",
              "      <td>0.013268</td>\n",
              "      <td>0.013966</td>\n",
              "      <td>0.015142</td>\n",
              "      <td>0.015693</td>\n",
              "      <td>0.017195</td>\n",
              "      <td>0.019060</td>\n",
              "      <td>0.019350</td>\n",
              "      <td>0.020034</td>\n",
              "      <td>0.017282</td>\n",
              "      <td>0.017264</td>\n",
              "      <td>0.018603</td>\n",
              "      <td>0.019182</td>\n",
              "      <td>0.022595</td>\n",
              "      <td>0.020912</td>\n",
              "      <td>0.024582</td>\n",
              "      <td>0.023787</td>\n",
              "      <td>0.023466</td>\n",
              "      <td>0.022707</td>\n",
              "      <td>0.024515</td>\n",
              "      <td>0.027016</td>\n",
              "      <td>0.030539</td>\n",
              "      <td>0.030365</td>\n",
              "      <td>0.044700</td>\n",
              "      <td>0.0</td>\n",
              "      <td>0.0</td>\n",
              "      <td>0.0</td>\n",
              "      <td>0.0</td>\n",
              "      <td>NaN</td>\n",
              "      <td>NaN</td>\n",
              "    </tr>\n",
              "    <tr>\n",
              "      <th>25%</th>\n",
              "      <td>0.183316</td>\n",
              "      <td>0.180620</td>\n",
              "      <td>0.198531</td>\n",
              "      <td>0.199338</td>\n",
              "      <td>0.214492</td>\n",
              "      <td>0.233321</td>\n",
              "      <td>0.242972</td>\n",
              "      <td>0.251838</td>\n",
              "      <td>0.280633</td>\n",
              "      <td>0.320451</td>\n",
              "      <td>0.349795</td>\n",
              "      <td>0.340798</td>\n",
              "      <td>0.355732</td>\n",
              "      <td>0.368516</td>\n",
              "      <td>0.371617</td>\n",
              "      <td>0.380724</td>\n",
              "      <td>0.362854</td>\n",
              "      <td>0.387947</td>\n",
              "      <td>0.401433</td>\n",
              "      <td>0.438602</td>\n",
              "      <td>0.448290</td>\n",
              "      <td>0.466774</td>\n",
              "      <td>0.453681</td>\n",
              "      <td>0.450120</td>\n",
              "      <td>0.475806</td>\n",
              "      <td>0.473886</td>\n",
              "      <td>0.441159</td>\n",
              "      <td>0.483382</td>\n",
              "      <td>0.500122</td>\n",
              "      <td>0.497808</td>\n",
              "      <td>0.457140</td>\n",
              "      <td>0.440831</td>\n",
              "      <td>0.569229</td>\n",
              "      <td>0.528187</td>\n",
              "      <td>0.568108</td>\n",
              "      <td>0.587897</td>\n",
              "      <td>0.620413</td>\n",
              "      <td>0.678608</td>\n",
              "      <td>0.675733</td>\n",
              "      <td>0.726635</td>\n",
              "      <td>0.742181</td>\n",
              "      <td>0.757221</td>\n",
              "      <td>0.755792</td>\n",
              "      <td>0.783483</td>\n",
              "      <td>0.828754</td>\n",
              "      <td>0.859606</td>\n",
              "      <td>0.808379</td>\n",
              "      <td>0.898907</td>\n",
              "      <td>0.816057</td>\n",
              "      <td>0.827852</td>\n",
              "      <td>0.815799</td>\n",
              "      <td>0.832929</td>\n",
              "      <td>0.836163</td>\n",
              "      <td>0.866682</td>\n",
              "      <td>0.880427</td>\n",
              "      <td>0.0</td>\n",
              "      <td>0.0</td>\n",
              "      <td>0.0</td>\n",
              "      <td>0.0</td>\n",
              "      <td>NaN</td>\n",
              "      <td>NaN</td>\n",
              "    </tr>\n",
              "    <tr>\n",
              "      <th>50%</th>\n",
              "      <td>0.612271</td>\n",
              "      <td>0.636830</td>\n",
              "      <td>0.654542</td>\n",
              "      <td>0.640002</td>\n",
              "      <td>0.765958</td>\n",
              "      <td>0.695949</td>\n",
              "      <td>0.750375</td>\n",
              "      <td>0.802935</td>\n",
              "      <td>1.004495</td>\n",
              "      <td>1.056845</td>\n",
              "      <td>1.000292</td>\n",
              "      <td>1.103881</td>\n",
              "      <td>1.111408</td>\n",
              "      <td>1.136338</td>\n",
              "      <td>1.233332</td>\n",
              "      <td>1.285485</td>\n",
              "      <td>1.361852</td>\n",
              "      <td>1.412222</td>\n",
              "      <td>1.518657</td>\n",
              "      <td>1.580338</td>\n",
              "      <td>1.528621</td>\n",
              "      <td>1.581525</td>\n",
              "      <td>1.479083</td>\n",
              "      <td>1.365647</td>\n",
              "      <td>1.447949</td>\n",
              "      <td>1.540763</td>\n",
              "      <td>1.588908</td>\n",
              "      <td>1.637335</td>\n",
              "      <td>1.755377</td>\n",
              "      <td>1.641918</td>\n",
              "      <td>1.678107</td>\n",
              "      <td>1.864979</td>\n",
              "      <td>2.295183</td>\n",
              "      <td>2.286818</td>\n",
              "      <td>2.229188</td>\n",
              "      <td>2.326499</td>\n",
              "      <td>2.411662</td>\n",
              "      <td>2.282605</td>\n",
              "      <td>2.256440</td>\n",
              "      <td>2.268336</td>\n",
              "      <td>2.344271</td>\n",
              "      <td>2.540171</td>\n",
              "      <td>2.544182</td>\n",
              "      <td>2.644354</td>\n",
              "      <td>2.672370</td>\n",
              "      <td>2.757264</td>\n",
              "      <td>2.929917</td>\n",
              "      <td>2.823702</td>\n",
              "      <td>3.029991</td>\n",
              "      <td>2.939359</td>\n",
              "      <td>2.935527</td>\n",
              "      <td>2.951649</td>\n",
              "      <td>3.027053</td>\n",
              "      <td>3.042065</td>\n",
              "      <td>3.091317</td>\n",
              "      <td>0.0</td>\n",
              "      <td>0.0</td>\n",
              "      <td>0.0</td>\n",
              "      <td>0.0</td>\n",
              "      <td>NaN</td>\n",
              "      <td>NaN</td>\n",
              "    </tr>\n",
              "    <tr>\n",
              "      <th>75%</th>\n",
              "      <td>1.694988</td>\n",
              "      <td>1.726250</td>\n",
              "      <td>1.939525</td>\n",
              "      <td>1.710527</td>\n",
              "      <td>1.998806</td>\n",
              "      <td>2.190061</td>\n",
              "      <td>2.455830</td>\n",
              "      <td>2.923741</td>\n",
              "      <td>3.257972</td>\n",
              "      <td>3.597430</td>\n",
              "      <td>4.014685</td>\n",
              "      <td>4.502778</td>\n",
              "      <td>4.525627</td>\n",
              "      <td>5.223770</td>\n",
              "      <td>4.664393</td>\n",
              "      <td>4.898802</td>\n",
              "      <td>5.173553</td>\n",
              "      <td>5.322942</td>\n",
              "      <td>5.746698</td>\n",
              "      <td>5.496695</td>\n",
              "      <td>5.492031</td>\n",
              "      <td>5.307244</td>\n",
              "      <td>5.376697</td>\n",
              "      <td>5.408734</td>\n",
              "      <td>5.273742</td>\n",
              "      <td>5.573662</td>\n",
              "      <td>4.977945</td>\n",
              "      <td>5.386307</td>\n",
              "      <td>5.796251</td>\n",
              "      <td>5.837883</td>\n",
              "      <td>5.914871</td>\n",
              "      <td>5.988953</td>\n",
              "      <td>6.471896</td>\n",
              "      <td>6.655498</td>\n",
              "      <td>6.446692</td>\n",
              "      <td>6.477661</td>\n",
              "      <td>6.758176</td>\n",
              "      <td>6.576799</td>\n",
              "      <td>6.553864</td>\n",
              "      <td>6.696470</td>\n",
              "      <td>6.603843</td>\n",
              "      <td>6.938325</td>\n",
              "      <td>6.956241</td>\n",
              "      <td>7.251943</td>\n",
              "      <td>7.142759</td>\n",
              "      <td>7.037947</td>\n",
              "      <td>7.052989</td>\n",
              "      <td>6.916701</td>\n",
              "      <td>7.010559</td>\n",
              "      <td>6.413945</td>\n",
              "      <td>6.642697</td>\n",
              "      <td>6.715381</td>\n",
              "      <td>6.694898</td>\n",
              "      <td>6.745239</td>\n",
              "      <td>6.391435</td>\n",
              "      <td>0.0</td>\n",
              "      <td>0.0</td>\n",
              "      <td>0.0</td>\n",
              "      <td>0.0</td>\n",
              "      <td>NaN</td>\n",
              "      <td>NaN</td>\n",
              "    </tr>\n",
              "    <tr>\n",
              "      <th>max</th>\n",
              "      <td>36.685183</td>\n",
              "      <td>36.583778</td>\n",
              "      <td>42.360705</td>\n",
              "      <td>99.464612</td>\n",
              "      <td>92.860862</td>\n",
              "      <td>85.458585</td>\n",
              "      <td>78.625153</td>\n",
              "      <td>77.502352</td>\n",
              "      <td>75.967182</td>\n",
              "      <td>101.051663</td>\n",
              "      <td>69.111602</td>\n",
              "      <td>76.647897</td>\n",
              "      <td>82.640973</td>\n",
              "      <td>87.686551</td>\n",
              "      <td>68.269442</td>\n",
              "      <td>66.680842</td>\n",
              "      <td>62.156927</td>\n",
              "      <td>54.446456</td>\n",
              "      <td>54.866211</td>\n",
              "      <td>69.990262</td>\n",
              "      <td>58.571779</td>\n",
              "      <td>51.858029</td>\n",
              "      <td>44.563363</td>\n",
              "      <td>36.432177</td>\n",
              "      <td>36.135754</td>\n",
              "      <td>36.544811</td>\n",
              "      <td>33.430236</td>\n",
              "      <td>31.100021</td>\n",
              "      <td>29.726963</td>\n",
              "      <td>31.574754</td>\n",
              "      <td>28.444624</td>\n",
              "      <td>36.327418</td>\n",
              "      <td>54.102490</td>\n",
              "      <td>61.263036</td>\n",
              "      <td>59.607436</td>\n",
              "      <td>61.913951</td>\n",
              "      <td>61.812478</td>\n",
              "      <td>70.042227</td>\n",
              "      <td>58.745185</td>\n",
              "      <td>55.054269</td>\n",
              "      <td>58.619465</td>\n",
              "      <td>67.310496</td>\n",
              "      <td>63.828097</td>\n",
              "      <td>60.900809</td>\n",
              "      <td>57.005574</td>\n",
              "      <td>58.881084</td>\n",
              "      <td>62.066185</td>\n",
              "      <td>51.933672</td>\n",
              "      <td>45.134782</td>\n",
              "      <td>41.827221</td>\n",
              "      <td>39.059708</td>\n",
              "      <td>39.509205</td>\n",
              "      <td>42.860375</td>\n",
              "      <td>36.387918</td>\n",
              "      <td>43.857308</td>\n",
              "      <td>0.0</td>\n",
              "      <td>0.0</td>\n",
              "      <td>0.0</td>\n",
              "      <td>0.0</td>\n",
              "      <td>NaN</td>\n",
              "      <td>NaN</td>\n",
              "    </tr>\n",
              "  </tbody>\n",
              "</table>\n",
              "</div>"
            ],
            "text/plain": [
              "             1960        1961        1962  ...  2018  2019  Unnamed: 64\n",
              "count  193.000000  194.000000  196.000000  ...   1.0   0.0          0.0\n",
              "mean     2.037282    2.150171    2.241690  ...   0.0   NaN          NaN\n",
              "std      4.184849    4.377180    4.717044  ...   NaN   NaN          NaN\n",
              "min      0.007984    0.007857    0.008435  ...   0.0   NaN          NaN\n",
              "25%      0.183316    0.180620    0.198531  ...   0.0   NaN          NaN\n",
              "50%      0.612271    0.636830    0.654542  ...   0.0   NaN          NaN\n",
              "75%      1.694988    1.726250    1.939525  ...   0.0   NaN          NaN\n",
              "max     36.685183   36.583778   42.360705  ...   0.0   NaN          NaN\n",
              "\n",
              "[8 rows x 61 columns]"
            ]
          },
          "metadata": {
            "tags": []
          },
          "execution_count": 83
        }
      ]
    },
    {
      "cell_type": "code",
      "metadata": {
        "id": "07NklwqQy3E_",
        "colab_type": "code",
        "outputId": "740c9a45-6fd1-417e-cad8-230a99dcbcf7",
        "colab": {
          "base_uri": "https://localhost:8080/",
          "height": 176
        }
      },
      "source": [
        "co2.columns"
      ],
      "execution_count": 84,
      "outputs": [
        {
          "output_type": "execute_result",
          "data": {
            "text/plain": [
              "Index(['Country Name', 'Country Code', 'Indicator Name', 'Indicator Code',\n",
              "       '1960', '1961', '1962', '1963', '1964', '1965', '1966', '1967', '1968',\n",
              "       '1969', '1970', '1971', '1972', '1973', '1974', '1975', '1976', '1977',\n",
              "       '1978', '1979', '1980', '1981', '1982', '1983', '1984', '1985', '1986',\n",
              "       '1987', '1988', '1989', '1990', '1991', '1992', '1993', '1994', '1995',\n",
              "       '1996', '1997', '1998', '1999', '2000', '2001', '2002', '2003', '2004',\n",
              "       '2005', '2006', '2007', '2008', '2009', '2010', '2011', '2012', '2013',\n",
              "       '2014', '2015', '2016', '2017', '2018', '2019', 'Unnamed: 64'],\n",
              "      dtype='object')"
            ]
          },
          "metadata": {
            "tags": []
          },
          "execution_count": 84
        }
      ]
    },
    {
      "cell_type": "code",
      "metadata": {
        "ExecuteTime": {
          "end_time": "2020-02-27T23:56:53.882591Z",
          "start_time": "2020-02-27T23:56:53.721354Z"
        },
        "id": "tQ1l1YzPu9XH",
        "colab_type": "code",
        "outputId": "008171f9-f7eb-45ab-9f3f-9588c8785279",
        "colab": {
          "base_uri": "https://localhost:8080/",
          "height": 278
        }
      },
      "source": [
        "co2[co2[\"Country Name\"] ==  \"World\"].T.iloc[5:].plot(legend=False)\n",
        "pl.xlabel(\"year\")\n",
        "pl.ylabel(\"CO2 world level\");"
      ],
      "execution_count": 85,
      "outputs": [
        {
          "output_type": "display_data",
          "data": {
            "image/png": "[encoded data removed]",
            "text/plain": [
              "<Figure size 432x288 with 1 Axes>"
            ]
          },
          "metadata": {
            "tags": [],
            "needs_background": "light"
          }
        }
      ]
    },
    {
      "cell_type": "markdown",
      "metadata": {
        "id": "31Bsx8ipL5a1",
        "colab_type": "text"
      },
      "source": [
        "Figure 1: global levels of CO2 (Kilotons per capita)*italicized text* over time, measured annyally. Data sourced from the World Bank (last accessed Feb15 2020 at https://data.worldbank.org/indicator/EN.ATM.CO2E.LF.KT?end=2014&start=1960&view=chart)"
      ]
    },
    {
      "cell_type": "code",
      "metadata": {
        "ExecuteTime": {
          "end_time": "2020-02-27T23:56:54.189729Z",
          "start_time": "2020-02-27T23:56:54.185208Z"
        },
        "id": "Sw5MNNCfu9XJ",
        "colab_type": "code",
        "colab": {}
      },
      "source": [
        "co2 = co2[co2[\"Country Name\"] ==  \"World\"].T.iloc[5:]"
      ],
      "execution_count": 0,
      "outputs": []
    },
    {
      "cell_type": "code",
      "metadata": {
        "ExecuteTime": {
          "end_time": "2020-02-27T23:56:57.552605Z",
          "start_time": "2020-02-27T23:56:57.546888Z"
        },
        "id": "Frk-LHnau9XM",
        "colab_type": "code",
        "outputId": "45425dfe-0ac2-4a5f-9d12-faedc3ebd3f1",
        "colab": {
          "base_uri": "https://localhost:8080/",
          "height": 197
        }
      },
      "source": [
        "co2.head()"
      ],
      "execution_count": 87,
      "outputs": [
        {
          "output_type": "execute_result",
          "data": {
            "text/html": [
              "<div>\n",
              "<style scoped>\n",
              "    .dataframe tbody tr th:only-of-type {\n",
              "        vertical-align: middle;\n",
              "    }\n",
              "\n",
              "    .dataframe tbody tr th {\n",
              "        vertical-align: top;\n",
              "    }\n",
              "\n",
              "    .dataframe thead th {\n",
              "        text-align: right;\n",
              "    }\n",
              "</style>\n",
              "<table border=\"1\" class=\"dataframe\">\n",
              "  <thead>\n",
              "    <tr style=\"text-align: right;\">\n",
              "      <th></th>\n",
              "      <th>257</th>\n",
              "    </tr>\n",
              "  </thead>\n",
              "  <tbody>\n",
              "    <tr>\n",
              "      <th>1961</th>\n",
              "      <td>3.07002</td>\n",
              "    </tr>\n",
              "    <tr>\n",
              "      <th>1962</th>\n",
              "      <td>3.14096</td>\n",
              "    </tr>\n",
              "    <tr>\n",
              "      <th>1963</th>\n",
              "      <td>3.24511</td>\n",
              "    </tr>\n",
              "    <tr>\n",
              "      <th>1964</th>\n",
              "      <td>3.36138</td>\n",
              "    </tr>\n",
              "    <tr>\n",
              "      <th>1965</th>\n",
              "      <td>3.44005</td>\n",
              "    </tr>\n",
              "  </tbody>\n",
              "</table>\n",
              "</div>"
            ],
            "text/plain": [
              "          257\n",
              "1961  3.07002\n",
              "1962  3.14096\n",
              "1963  3.24511\n",
              "1964  3.36138\n",
              "1965  3.44005"
            ]
          },
          "metadata": {
            "tags": []
          },
          "execution_count": 87
        }
      ]
    },
    {
      "cell_type": "code",
      "metadata": {
        "ExecuteTime": {
          "end_time": "2020-02-27T23:57:00.836187Z",
          "start_time": "2020-02-27T23:57:00.830429Z"
        },
        "id": "6gFRUw9Wu9XO",
        "colab_type": "code",
        "outputId": "fe0f6a8d-0c25-4823-e472-e45a20268475",
        "colab": {
          "base_uri": "https://localhost:8080/",
          "height": 197
        }
      },
      "source": [
        "co2.tail()"
      ],
      "execution_count": 88,
      "outputs": [
        {
          "output_type": "execute_result",
          "data": {
            "text/html": [
              "<div>\n",
              "<style scoped>\n",
              "    .dataframe tbody tr th:only-of-type {\n",
              "        vertical-align: middle;\n",
              "    }\n",
              "\n",
              "    .dataframe tbody tr th {\n",
              "        vertical-align: top;\n",
              "    }\n",
              "\n",
              "    .dataframe thead th {\n",
              "        text-align: right;\n",
              "    }\n",
              "</style>\n",
              "<table border=\"1\" class=\"dataframe\">\n",
              "  <thead>\n",
              "    <tr style=\"text-align: right;\">\n",
              "      <th></th>\n",
              "      <th>257</th>\n",
              "    </tr>\n",
              "  </thead>\n",
              "  <tbody>\n",
              "    <tr>\n",
              "      <th>2016</th>\n",
              "      <td>NaN</td>\n",
              "    </tr>\n",
              "    <tr>\n",
              "      <th>2017</th>\n",
              "      <td>NaN</td>\n",
              "    </tr>\n",
              "    <tr>\n",
              "      <th>2018</th>\n",
              "      <td>NaN</td>\n",
              "    </tr>\n",
              "    <tr>\n",
              "      <th>2019</th>\n",
              "      <td>NaN</td>\n",
              "    </tr>\n",
              "    <tr>\n",
              "      <th>Unnamed: 64</th>\n",
              "      <td>NaN</td>\n",
              "    </tr>\n",
              "  </tbody>\n",
              "</table>\n",
              "</div>"
            ],
            "text/plain": [
              "             257\n",
              "2016         NaN\n",
              "2017         NaN\n",
              "2018         NaN\n",
              "2019         NaN\n",
              "Unnamed: 64  NaN"
            ]
          },
          "metadata": {
            "tags": []
          },
          "execution_count": 88
        }
      ]
    },
    {
      "cell_type": "code",
      "metadata": {
        "ExecuteTime": {
          "end_time": "2020-02-27T23:57:01.583920Z",
          "start_time": "2020-02-27T23:57:01.576038Z"
        },
        "id": "en89vCDau9XR",
        "colab_type": "code",
        "outputId": "523cde5b-ef26-4a50-dcc2-dd4bd31040a7",
        "colab": {
          "base_uri": "https://localhost:8080/",
          "height": 1000
        }
      },
      "source": [
        "co2 = co2[:-1]\n",
        "co2"
      ],
      "execution_count": 89,
      "outputs": [
        {
          "output_type": "execute_result",
          "data": {
            "text/html": [
              "<div>\n",
              "<style scoped>\n",
              "    .dataframe tbody tr th:only-of-type {\n",
              "        vertical-align: middle;\n",
              "    }\n",
              "\n",
              "    .dataframe tbody tr th {\n",
              "        vertical-align: top;\n",
              "    }\n",
              "\n",
              "    .dataframe thead th {\n",
              "        text-align: right;\n",
              "    }\n",
              "</style>\n",
              "<table border=\"1\" class=\"dataframe\">\n",
              "  <thead>\n",
              "    <tr style=\"text-align: right;\">\n",
              "      <th></th>\n",
              "      <th>257</th>\n",
              "    </tr>\n",
              "  </thead>\n",
              "  <tbody>\n",
              "    <tr>\n",
              "      <th>1961</th>\n",
              "      <td>3.07002</td>\n",
              "    </tr>\n",
              "    <tr>\n",
              "      <th>1962</th>\n",
              "      <td>3.14096</td>\n",
              "    </tr>\n",
              "    <tr>\n",
              "      <th>1963</th>\n",
              "      <td>3.24511</td>\n",
              "    </tr>\n",
              "    <tr>\n",
              "      <th>1964</th>\n",
              "      <td>3.36138</td>\n",
              "    </tr>\n",
              "    <tr>\n",
              "      <th>1965</th>\n",
              "      <td>3.44005</td>\n",
              "    </tr>\n",
              "    <tr>\n",
              "      <th>1966</th>\n",
              "      <td>3.53875</td>\n",
              "    </tr>\n",
              "    <tr>\n",
              "      <th>1967</th>\n",
              "      <td>3.57758</td>\n",
              "    </tr>\n",
              "    <tr>\n",
              "      <th>1968</th>\n",
              "      <td>3.6839</td>\n",
              "    </tr>\n",
              "    <tr>\n",
              "      <th>1969</th>\n",
              "      <td>3.82378</td>\n",
              "    </tr>\n",
              "    <tr>\n",
              "      <th>1970</th>\n",
              "      <td>4.01468</td>\n",
              "    </tr>\n",
              "    <tr>\n",
              "      <th>1971</th>\n",
              "      <td>4.0739</td>\n",
              "    </tr>\n",
              "    <tr>\n",
              "      <th>1972</th>\n",
              "      <td>4.15798</td>\n",
              "    </tr>\n",
              "    <tr>\n",
              "      <th>1973</th>\n",
              "      <td>4.29879</td>\n",
              "    </tr>\n",
              "    <tr>\n",
              "      <th>1974</th>\n",
              "      <td>4.22391</td>\n",
              "    </tr>\n",
              "    <tr>\n",
              "      <th>1975</th>\n",
              "      <td>4.12072</td>\n",
              "    </tr>\n",
              "    <tr>\n",
              "      <th>1976</th>\n",
              "      <td>4.2854</td>\n",
              "    </tr>\n",
              "    <tr>\n",
              "      <th>1977</th>\n",
              "      <td>4.34326</td>\n",
              "    </tr>\n",
              "    <tr>\n",
              "      <th>1978</th>\n",
              "      <td>4.31958</td>\n",
              "    </tr>\n",
              "    <tr>\n",
              "      <th>1979</th>\n",
              "      <td>4.48244</td>\n",
              "    </tr>\n",
              "    <tr>\n",
              "      <th>1980</th>\n",
              "      <td>4.35819</td>\n",
              "    </tr>\n",
              "    <tr>\n",
              "      <th>1981</th>\n",
              "      <td>4.15007</td>\n",
              "    </tr>\n",
              "    <tr>\n",
              "      <th>1982</th>\n",
              "      <td>4.04104</td>\n",
              "    </tr>\n",
              "    <tr>\n",
              "      <th>1983</th>\n",
              "      <td>3.95356</td>\n",
              "    </tr>\n",
              "    <tr>\n",
              "      <th>1984</th>\n",
              "      <td>4.02478</td>\n",
              "    </tr>\n",
              "    <tr>\n",
              "      <th>1985</th>\n",
              "      <td>4.07409</td>\n",
              "    </tr>\n",
              "    <tr>\n",
              "      <th>1986</th>\n",
              "      <td>4.12427</td>\n",
              "    </tr>\n",
              "    <tr>\n",
              "      <th>1987</th>\n",
              "      <td>4.15216</td>\n",
              "    </tr>\n",
              "    <tr>\n",
              "      <th>1988</th>\n",
              "      <td>4.22661</td>\n",
              "    </tr>\n",
              "    <tr>\n",
              "      <th>1989</th>\n",
              "      <td>4.24379</td>\n",
              "    </tr>\n",
              "    <tr>\n",
              "      <th>1990</th>\n",
              "      <td>4.1939</td>\n",
              "    </tr>\n",
              "    <tr>\n",
              "      <th>1991</th>\n",
              "      <td>4.17267</td>\n",
              "    </tr>\n",
              "    <tr>\n",
              "      <th>1992</th>\n",
              "      <td>4.06782</td>\n",
              "    </tr>\n",
              "    <tr>\n",
              "      <th>1993</th>\n",
              "      <td>4.00151</td>\n",
              "    </tr>\n",
              "    <tr>\n",
              "      <th>1994</th>\n",
              "      <td>4.01092</td>\n",
              "    </tr>\n",
              "    <tr>\n",
              "      <th>1995</th>\n",
              "      <td>4.03634</td>\n",
              "    </tr>\n",
              "    <tr>\n",
              "      <th>1996</th>\n",
              "      <td>4.07076</td>\n",
              "    </tr>\n",
              "    <tr>\n",
              "      <th>1997</th>\n",
              "      <td>4.08219</td>\n",
              "    </tr>\n",
              "    <tr>\n",
              "      <th>1998</th>\n",
              "      <td>4.04953</td>\n",
              "    </tr>\n",
              "    <tr>\n",
              "      <th>1999</th>\n",
              "      <td>3.98642</td>\n",
              "    </tr>\n",
              "    <tr>\n",
              "      <th>2000</th>\n",
              "      <td>4.03753</td>\n",
              "    </tr>\n",
              "    <tr>\n",
              "      <th>2001</th>\n",
              "      <td>4.08052</td>\n",
              "    </tr>\n",
              "    <tr>\n",
              "      <th>2002</th>\n",
              "      <td>4.08813</td>\n",
              "    </tr>\n",
              "    <tr>\n",
              "      <th>2003</th>\n",
              "      <td>4.2577</td>\n",
              "    </tr>\n",
              "    <tr>\n",
              "      <th>2004</th>\n",
              "      <td>4.41417</td>\n",
              "    </tr>\n",
              "    <tr>\n",
              "      <th>2005</th>\n",
              "      <td>4.52815</td>\n",
              "    </tr>\n",
              "    <tr>\n",
              "      <th>2006</th>\n",
              "      <td>4.63601</td>\n",
              "    </tr>\n",
              "    <tr>\n",
              "      <th>2007</th>\n",
              "      <td>4.67114</td>\n",
              "    </tr>\n",
              "    <tr>\n",
              "      <th>2008</th>\n",
              "      <td>4.76208</td>\n",
              "    </tr>\n",
              "    <tr>\n",
              "      <th>2009</th>\n",
              "      <td>4.66216</td>\n",
              "    </tr>\n",
              "    <tr>\n",
              "      <th>2010</th>\n",
              "      <td>4.83499</td>\n",
              "    </tr>\n",
              "    <tr>\n",
              "      <th>2011</th>\n",
              "      <td>4.97536</td>\n",
              "    </tr>\n",
              "    <tr>\n",
              "      <th>2012</th>\n",
              "      <td>5.00507</td>\n",
              "    </tr>\n",
              "    <tr>\n",
              "      <th>2013</th>\n",
              "      <td>4.9976</td>\n",
              "    </tr>\n",
              "    <tr>\n",
              "      <th>2014</th>\n",
              "      <td>4.98071</td>\n",
              "    </tr>\n",
              "    <tr>\n",
              "      <th>2015</th>\n",
              "      <td>NaN</td>\n",
              "    </tr>\n",
              "    <tr>\n",
              "      <th>2016</th>\n",
              "      <td>NaN</td>\n",
              "    </tr>\n",
              "    <tr>\n",
              "      <th>2017</th>\n",
              "      <td>NaN</td>\n",
              "    </tr>\n",
              "    <tr>\n",
              "      <th>2018</th>\n",
              "      <td>NaN</td>\n",
              "    </tr>\n",
              "    <tr>\n",
              "      <th>2019</th>\n",
              "      <td>NaN</td>\n",
              "    </tr>\n",
              "  </tbody>\n",
              "</table>\n",
              "</div>"
            ],
            "text/plain": [
              "          257\n",
              "1961  3.07002\n",
              "1962  3.14096\n",
              "1963  3.24511\n",
              "1964  3.36138\n",
              "1965  3.44005\n",
              "1966  3.53875\n",
              "1967  3.57758\n",
              "1968   3.6839\n",
              "1969  3.82378\n",
              "1970  4.01468\n",
              "1971   4.0739\n",
              "1972  4.15798\n",
              "1973  4.29879\n",
              "1974  4.22391\n",
              "1975  4.12072\n",
              "1976   4.2854\n",
              "1977  4.34326\n",
              "1978  4.31958\n",
              "1979  4.48244\n",
              "1980  4.35819\n",
              "1981  4.15007\n",
              "1982  4.04104\n",
              "1983  3.95356\n",
              "1984  4.02478\n",
              "1985  4.07409\n",
              "1986  4.12427\n",
              "1987  4.15216\n",
              "1988  4.22661\n",
              "1989  4.24379\n",
              "1990   4.1939\n",
              "1991  4.17267\n",
              "1992  4.06782\n",
              "1993  4.00151\n",
              "1994  4.01092\n",
              "1995  4.03634\n",
              "1996  4.07076\n",
              "1997  4.08219\n",
              "1998  4.04953\n",
              "1999  3.98642\n",
              "2000  4.03753\n",
              "2001  4.08052\n",
              "2002  4.08813\n",
              "2003   4.2577\n",
              "2004  4.41417\n",
              "2005  4.52815\n",
              "2006  4.63601\n",
              "2007  4.67114\n",
              "2008  4.76208\n",
              "2009  4.66216\n",
              "2010  4.83499\n",
              "2011  4.97536\n",
              "2012  5.00507\n",
              "2013   4.9976\n",
              "2014  4.98071\n",
              "2015      NaN\n",
              "2016      NaN\n",
              "2017      NaN\n",
              "2018      NaN\n",
              "2019      NaN"
            ]
          },
          "metadata": {
            "tags": []
          },
          "execution_count": 89
        }
      ]
    },
    {
      "cell_type": "code",
      "metadata": {
        "ExecuteTime": {
          "end_time": "2020-02-27T23:57:02.152449Z",
          "start_time": "2020-02-27T23:57:02.149007Z"
        },
        "id": "nRwxu-pYu9XV",
        "colab_type": "code",
        "colab": {}
      },
      "source": [
        "co2.index = pd.to_datetime(co2.index.values, format=\"%Y\")"
      ],
      "execution_count": 0,
      "outputs": []
    },
    {
      "cell_type": "code",
      "metadata": {
        "ExecuteTime": {
          "end_time": "2020-02-27T23:57:04.513346Z",
          "start_time": "2020-02-27T23:57:04.119094Z"
        },
        "id": "yXwMJHWUu9Xa",
        "colab_type": "code",
        "colab": {}
      },
      "source": [
        "co2.rename(columns={257:\"co2\"}, inplace=True)"
      ],
      "execution_count": 0,
      "outputs": []
    },
    {
      "cell_type": "code",
      "metadata": {
        "ExecuteTime": {
          "end_time": "2020-02-27T23:57:06.782627Z",
          "start_time": "2020-02-27T23:57:06.780186Z"
        },
        "id": "U6YN5wQMu9Xf",
        "colab_type": "code",
        "colab": {}
      },
      "source": [
        "co2.index = co2.index.map(lambda x: x.year)"
      ],
      "execution_count": 0,
      "outputs": []
    },
    {
      "cell_type": "code",
      "metadata": {
        "id": "6emJp47wziwy",
        "colab_type": "code",
        "outputId": "e9f19ce9-c0e0-4abe-ba04-e125409acb64",
        "colab": {
          "base_uri": "https://localhost:8080/",
          "height": 215
        }
      },
      "source": [
        "print(\"CO2 dataframe\")\n",
        "co2.head()"
      ],
      "execution_count": 93,
      "outputs": [
        {
          "output_type": "stream",
          "text": [
            "CO2 dataframe\n"
          ],
          "name": "stdout"
        },
        {
          "output_type": "execute_result",
          "data": {
            "text/html": [
              "<div>\n",
              "<style scoped>\n",
              "    .dataframe tbody tr th:only-of-type {\n",
              "        vertical-align: middle;\n",
              "    }\n",
              "\n",
              "    .dataframe tbody tr th {\n",
              "        vertical-align: top;\n",
              "    }\n",
              "\n",
              "    .dataframe thead th {\n",
              "        text-align: right;\n",
              "    }\n",
              "</style>\n",
              "<table border=\"1\" class=\"dataframe\">\n",
              "  <thead>\n",
              "    <tr style=\"text-align: right;\">\n",
              "      <th></th>\n",
              "      <th>co2</th>\n",
              "    </tr>\n",
              "  </thead>\n",
              "  <tbody>\n",
              "    <tr>\n",
              "      <th>1961</th>\n",
              "      <td>3.07002</td>\n",
              "    </tr>\n",
              "    <tr>\n",
              "      <th>1962</th>\n",
              "      <td>3.14096</td>\n",
              "    </tr>\n",
              "    <tr>\n",
              "      <th>1963</th>\n",
              "      <td>3.24511</td>\n",
              "    </tr>\n",
              "    <tr>\n",
              "      <th>1964</th>\n",
              "      <td>3.36138</td>\n",
              "    </tr>\n",
              "    <tr>\n",
              "      <th>1965</th>\n",
              "      <td>3.44005</td>\n",
              "    </tr>\n",
              "  </tbody>\n",
              "</table>\n",
              "</div>"
            ],
            "text/plain": [
              "          co2\n",
              "1961  3.07002\n",
              "1962  3.14096\n",
              "1963  3.24511\n",
              "1964  3.36138\n",
              "1965  3.44005"
            ]
          },
          "metadata": {
            "tags": []
          },
          "execution_count": 93
        }
      ]
    },
    {
      "cell_type": "markdown",
      "metadata": {
        "id": "XMMGu4PHz-Pn",
        "colab_type": "text"
      },
      "source": [
        " standardize the data by subtracting by the mean **over the time period 1960-2003** (which is the period that you will use) and dividing by the stdev over the same period"
      ]
    },
    {
      "cell_type": "code",
      "metadata": {
        "id": "HqHlHrPuz2Ip",
        "colab_type": "code",
        "colab": {}
      },
      "source": [
        "co2[\"co2\"] = co2.co2.map(lambda x: (x - np.nanmean((co2.loc[\n",
        "     (co2.index > 1960) & (co2.index <= 2003)][\"co2\"].values).astype(float))))\n",
        "co2[\"co2\"] = co2.co2.map(lambda x: (x / np.nanstd((co2.loc[\n",
        "     (co2.index > 1960) & (co2.index <= 2003)][\"co2\"].values).astype(float))))\n"
      ],
      "execution_count": 0,
      "outputs": []
    },
    {
      "cell_type": "code",
      "metadata": {
        "id": "8LSygRVV0T-S",
        "colab_type": "code",
        "outputId": "29c1091e-6dd5-4547-c1fa-32d3a6170613",
        "colab": {
          "base_uri": "https://localhost:8080/",
          "height": 264
        }
      },
      "source": [
        "ax = co2.plot()\n",
        "pl.ylabel(\"CO2\"); \n",
        "co2.loc[\n",
        "     (co2.index > 1980) & (co2.index <= 2003)].plot(ax=ax);"
      ],
      "execution_count": 95,
      "outputs": [
        {
          "output_type": "display_data",
          "data": {
            "image/png": "[encoded data removed]",
            "text/plain": [
              "<Figure size 432x288 with 1 Axes>"
            ]
          },
          "metadata": {
            "tags": [],
            "needs_background": "light"
          }
        }
      ]
    },
    {
      "cell_type": "markdown",
      "metadata": {
        "id": "8SiFGYLnRkkO",
        "colab_type": "text"
      },
      "source": [
        "Figure 2: same as figure 1, but in stanrardized units with the relevant portion of the data used for standardizing hightighted in orange. This portion of the data is selected because it is available for all needed datasets: Solar Irradiance, CO2, and global temperature. This will allow us to generate an additive model to predict and interpret temperature data."
      ]
    },
    {
      "cell_type": "markdown",
      "metadata": {
        "id": "ikGfHn5x0tmg",
        "colab_type": "text"
      },
      "source": [
        "acquire the solar irradiance data from http://lasp.colorado.edu/data/sorce/tsi_data/TSI_TIM_Reconstruction.txt.  Explore the data as you did for the CO2 dataset. Modify the dataframe so that it has year as the index (pd.data_frame() type) and \"[W/m^2]\" is the only column, which you should rename \"irradiance\". Each year shoud have a single entry, the mean for that year, which you can obtain with the method DataFrame.groupby() and the .mean() method applied to the groupby object as \n",
        "\n",
        "```sIr.groupby(\"Year\").mean()```"
      ]
    },
    {
      "cell_type": "code",
      "metadata": {
        "ExecuteTime": {
          "end_time": "2020-02-27T23:57:55.562301Z",
          "start_time": "2020-02-27T23:57:55.385276Z"
        },
        "colab_type": "code",
        "outputId": "5e240dd5-541c-4048-8baa-1e648663f918",
        "id": "PjwUgqJU2bQL",
        "colab": {
          "base_uri": "https://localhost:8080/",
          "height": 54
        }
      },
      "source": [
        "sIr = pd.read_csv(\"http://lasp.colorado.edu/data/sorce/tsi_data/TSI_TIM_Reconstruction.txt\", skiprows=6, sep=\" \")\n",
        "sIr.columns\n",
        "\n"
      ],
      "execution_count": 110,
      "outputs": [
        {
          "output_type": "execute_result",
          "data": {
            "text/plain": [
              "Index([';', 'Year', 'Unnamed: 2', 'Unnamed: 3', 'TSI', '[W/m^2]'], dtype='object')"
            ]
          },
          "metadata": {
            "tags": []
          },
          "execution_count": 110
        }
      ]
    },
    {
      "cell_type": "code",
      "metadata": {
        "id": "NIqcqqDgSlDQ",
        "colab_type": "code",
        "colab": {
          "base_uri": "https://localhost:8080/",
          "height": 197
        },
        "outputId": "4815fbc5-0c38-4792-8e0d-7894dd66c573"
      },
      "source": [
        "sIr.head()"
      ],
      "execution_count": 111,
      "outputs": [
        {
          "output_type": "execute_result",
          "data": {
            "text/html": [
              "<div>\n",
              "<style scoped>\n",
              "    .dataframe tbody tr th:only-of-type {\n",
              "        vertical-align: middle;\n",
              "    }\n",
              "\n",
              "    .dataframe tbody tr th {\n",
              "        vertical-align: top;\n",
              "    }\n",
              "\n",
              "    .dataframe thead th {\n",
              "        text-align: right;\n",
              "    }\n",
              "</style>\n",
              "<table border=\"1\" class=\"dataframe\">\n",
              "  <thead>\n",
              "    <tr style=\"text-align: right;\">\n",
              "      <th></th>\n",
              "      <th>;</th>\n",
              "      <th>Year</th>\n",
              "      <th>Unnamed: 2</th>\n",
              "      <th>Unnamed: 3</th>\n",
              "      <th>TSI</th>\n",
              "      <th>[W/m^2]</th>\n",
              "    </tr>\n",
              "  </thead>\n",
              "  <tbody>\n",
              "    <tr>\n",
              "      <th>0</th>\n",
              "      <td>1610.5</td>\n",
              "      <td>NaN</td>\n",
              "      <td>NaN</td>\n",
              "      <td>NaN</td>\n",
              "      <td>NaN</td>\n",
              "      <td>1359.8655</td>\n",
              "    </tr>\n",
              "    <tr>\n",
              "      <th>1</th>\n",
              "      <td>1611.5</td>\n",
              "      <td>NaN</td>\n",
              "      <td>NaN</td>\n",
              "      <td>NaN</td>\n",
              "      <td>NaN</td>\n",
              "      <td>1360.2017</td>\n",
              "    </tr>\n",
              "    <tr>\n",
              "      <th>2</th>\n",
              "      <td>1612.5</td>\n",
              "      <td>NaN</td>\n",
              "      <td>NaN</td>\n",
              "      <td>NaN</td>\n",
              "      <td>NaN</td>\n",
              "      <td>1360.4352</td>\n",
              "    </tr>\n",
              "    <tr>\n",
              "      <th>3</th>\n",
              "      <td>1613.5</td>\n",
              "      <td>NaN</td>\n",
              "      <td>NaN</td>\n",
              "      <td>NaN</td>\n",
              "      <td>NaN</td>\n",
              "      <td>1360.7561</td>\n",
              "    </tr>\n",
              "    <tr>\n",
              "      <th>4</th>\n",
              "      <td>1614.5</td>\n",
              "      <td>NaN</td>\n",
              "      <td>NaN</td>\n",
              "      <td>NaN</td>\n",
              "      <td>NaN</td>\n",
              "      <td>1360.9097</td>\n",
              "    </tr>\n",
              "  </tbody>\n",
              "</table>\n",
              "</div>"
            ],
            "text/plain": [
              "        ;  Year  Unnamed: 2  Unnamed: 3  TSI    [W/m^2]\n",
              "0  1610.5   NaN         NaN         NaN  NaN  1359.8655\n",
              "1  1611.5   NaN         NaN         NaN  NaN  1360.2017\n",
              "2  1612.5   NaN         NaN         NaN  NaN  1360.4352\n",
              "3  1613.5   NaN         NaN         NaN  NaN  1360.7561\n",
              "4  1614.5   NaN         NaN         NaN  NaN  1360.9097"
            ]
          },
          "metadata": {
            "tags": []
          },
          "execution_count": 111
        }
      ]
    },
    {
      "cell_type": "code",
      "metadata": {
        "id": "a0a3rvYa2eL8",
        "colab_type": "code",
        "outputId": "298379cc-9635-4cc5-8119-0ac20a87a53c",
        "colab": {
          "base_uri": "https://localhost:8080/",
          "height": 287
        }
      },
      "source": [
        "sIr.describe()"
      ],
      "execution_count": 112,
      "outputs": [
        {
          "output_type": "execute_result",
          "data": {
            "text/html": [
              "<div>\n",
              "<style scoped>\n",
              "    .dataframe tbody tr th:only-of-type {\n",
              "        vertical-align: middle;\n",
              "    }\n",
              "\n",
              "    .dataframe tbody tr th {\n",
              "        vertical-align: top;\n",
              "    }\n",
              "\n",
              "    .dataframe thead th {\n",
              "        text-align: right;\n",
              "    }\n",
              "</style>\n",
              "<table border=\"1\" class=\"dataframe\">\n",
              "  <thead>\n",
              "    <tr style=\"text-align: right;\">\n",
              "      <th></th>\n",
              "      <th>;</th>\n",
              "      <th>Year</th>\n",
              "      <th>Unnamed: 2</th>\n",
              "      <th>Unnamed: 3</th>\n",
              "      <th>TSI</th>\n",
              "      <th>[W/m^2]</th>\n",
              "    </tr>\n",
              "  </thead>\n",
              "  <tbody>\n",
              "    <tr>\n",
              "      <th>count</th>\n",
              "      <td>404.000000</td>\n",
              "      <td>0.0</td>\n",
              "      <td>0.0</td>\n",
              "      <td>0.0</td>\n",
              "      <td>0.0</td>\n",
              "      <td>404.000000</td>\n",
              "    </tr>\n",
              "    <tr>\n",
              "      <th>mean</th>\n",
              "      <td>1812.000000</td>\n",
              "      <td>NaN</td>\n",
              "      <td>NaN</td>\n",
              "      <td>NaN</td>\n",
              "      <td>NaN</td>\n",
              "      <td>1360.543793</td>\n",
              "    </tr>\n",
              "    <tr>\n",
              "      <th>std</th>\n",
              "      <td>116.769003</td>\n",
              "      <td>NaN</td>\n",
              "      <td>NaN</td>\n",
              "      <td>NaN</td>\n",
              "      <td>NaN</td>\n",
              "      <td>0.464534</td>\n",
              "    </tr>\n",
              "    <tr>\n",
              "      <th>min</th>\n",
              "      <td>1610.500000</td>\n",
              "      <td>NaN</td>\n",
              "      <td>NaN</td>\n",
              "      <td>NaN</td>\n",
              "      <td>NaN</td>\n",
              "      <td>1359.865500</td>\n",
              "    </tr>\n",
              "    <tr>\n",
              "      <th>25%</th>\n",
              "      <td>1711.250000</td>\n",
              "      <td>NaN</td>\n",
              "      <td>NaN</td>\n",
              "      <td>NaN</td>\n",
              "      <td>NaN</td>\n",
              "      <td>1360.191125</td>\n",
              "    </tr>\n",
              "    <tr>\n",
              "      <th>50%</th>\n",
              "      <td>1812.000000</td>\n",
              "      <td>NaN</td>\n",
              "      <td>NaN</td>\n",
              "      <td>NaN</td>\n",
              "      <td>NaN</td>\n",
              "      <td>1360.471800</td>\n",
              "    </tr>\n",
              "    <tr>\n",
              "      <th>75%</th>\n",
              "      <td>1912.750000</td>\n",
              "      <td>NaN</td>\n",
              "      <td>NaN</td>\n",
              "      <td>NaN</td>\n",
              "      <td>NaN</td>\n",
              "      <td>1360.821275</td>\n",
              "    </tr>\n",
              "    <tr>\n",
              "      <th>max</th>\n",
              "      <td>2013.500000</td>\n",
              "      <td>NaN</td>\n",
              "      <td>NaN</td>\n",
              "      <td>NaN</td>\n",
              "      <td>NaN</td>\n",
              "      <td>1362.142500</td>\n",
              "    </tr>\n",
              "  </tbody>\n",
              "</table>\n",
              "</div>"
            ],
            "text/plain": [
              "                 ;  Year  Unnamed: 2  Unnamed: 3  TSI      [W/m^2]\n",
              "count   404.000000   0.0         0.0         0.0  0.0   404.000000\n",
              "mean   1812.000000   NaN         NaN         NaN  NaN  1360.543793\n",
              "std     116.769003   NaN         NaN         NaN  NaN     0.464534\n",
              "min    1610.500000   NaN         NaN         NaN  NaN  1359.865500\n",
              "25%    1711.250000   NaN         NaN         NaN  NaN  1360.191125\n",
              "50%    1812.000000   NaN         NaN         NaN  NaN  1360.471800\n",
              "75%    1912.750000   NaN         NaN         NaN  NaN  1360.821275\n",
              "max    2013.500000   NaN         NaN         NaN  NaN  1362.142500"
            ]
          },
          "metadata": {
            "tags": []
          },
          "execution_count": 112
        }
      ]
    },
    {
      "cell_type": "code",
      "metadata": {
        "ExecuteTime": {
          "end_time": "2020-02-27T23:57:56.355652Z",
          "start_time": "2020-02-27T23:57:56.348886Z"
        },
        "id": "QM4anKBxu9X3",
        "colab_type": "code",
        "colab": {}
      },
      "source": [
        "sIr[\"Year\"] = sIr[\";\"].astype(int)\n",
        "sIr = sIr.groupby(\"Year\").mean()[[\"[W/m^2]\"]]"
      ],
      "execution_count": 0,
      "outputs": []
    },
    {
      "cell_type": "code",
      "metadata": {
        "ExecuteTime": {
          "end_time": "2020-02-27T23:57:57.459516Z",
          "start_time": "2020-02-27T23:57:57.042723Z"
        },
        "id": "ofUSl2zVu9X8",
        "colab_type": "code",
        "colab": {}
      },
      "source": [
        "sIr.rename({\"[W/m^2]\":\"irradiance\"}, axis=1, inplace=True)"
      ],
      "execution_count": 0,
      "outputs": []
    },
    {
      "cell_type": "code",
      "metadata": {
        "ExecuteTime": {
          "end_time": "2020-02-27T23:57:57.666051Z",
          "start_time": "2020-02-27T23:57:57.525319Z"
        },
        "id": "7Rp2XZvSu9X_",
        "colab_type": "code",
        "outputId": "4be46caa-7aa2-42c2-bcc3-5df1071f0527",
        "colab": {
          "base_uri": "https://localhost:8080/",
          "height": 278
        }
      },
      "source": [
        "sIr.plot()\n",
        "pl.ylabel(\"Solar Irradiance\");"
      ],
      "execution_count": 115,
      "outputs": [
        {
          "output_type": "display_data",
          "data": {
            "image/png": "[encoded data removed]",
            "text/plain": [
              "<Figure size 432x288 with 1 Axes>"
            ]
          },
          "metadata": {
            "tags": [],
            "needs_background": "light"
          }
        }
      ]
    },
    {
      "cell_type": "markdown",
      "metadata": {
        "id": "jnO-9jYhSXKM",
        "colab_type": "text"
      },
      "source": [
        "Figure 3: global solar irradiance over time , measured annyally n Watts per square meter. Data sourced from the Laboratory form Solar and Atmospheric Physics (Colorado) accesses on   Feb 15th at http://lasp.colorado.edu/data/sorce/tsi_data/TSI_TIM_Reconstruction.txt"
      ]
    },
    {
      "cell_type": "markdown",
      "metadata": {
        "id": "sBvTifl83u15",
        "colab_type": "text"
      },
      "source": [
        "\n",
        "Standardize the data by the value **starting in 1960**. (subtract by the mean and divide by the standard deviation)\n"
      ]
    },
    {
      "cell_type": "code",
      "metadata": {
        "id": "BIfDktv-37Z5",
        "colab_type": "code",
        "colab": {}
      },
      "source": [
        "sIr['irradiance'] -= sIr[sIr.index>1960].irradiance.mean()\n",
        "sIr['irradiance'] /= sIr[sIr.index>1960].irradiance.std()\n"
      ],
      "execution_count": 0,
      "outputs": []
    },
    {
      "cell_type": "code",
      "metadata": {
        "ExecuteTime": {
          "end_time": "2020-02-27T23:56:13.450701Z",
          "start_time": "2020-02-27T23:56:12.585867Z"
        },
        "id": "CFBT4P0Fu9YE",
        "colab_type": "code",
        "outputId": "1cb8100f-b6c0-4a69-b130-51ab83100b03",
        "colab": {
          "base_uri": "https://localhost:8080/",
          "height": 278
        }
      },
      "source": [
        "#leave\n",
        "ax = sIr.plot()\n",
        "ax = sIr[sIr.index>1960].plot(ax=ax);\n",
        "pl.ylabel(\"Solar Irradiance\");"
      ],
      "execution_count": 117,
      "outputs": [
        {
          "output_type": "display_data",
          "data": {
            "image/png": "[encoded data removed]",
            "text/plain": [
              "<Figure size 432x288 with 1 Axes>"
            ]
          },
          "metadata": {
            "tags": [],
            "needs_background": "light"
          }
        }
      ]
    },
    {
      "cell_type": "markdown",
      "metadata": {
        "id": "JpdqVypOTXx5",
        "colab_type": "text"
      },
      "source": [
        "Figure 4: Same as figure 3 but the irradiance is standardized and the relevant portion of the data used to standardize is highlighted in orange"
      ]
    },
    {
      "cell_type": "markdown",
      "metadata": {
        "id": "mHCQ4imE4JmR",
        "colab_type": "text"
      },
      "source": [
        "acquire the global anomaly (temperature difference) data which I save in the MLTSA_FBianco/HW4 repository as \"GLB.Ts%2BdSST.csv\"(never say that I am not nice!!)\n",
        "\n",
        "This required some tricks to set the years as index due to missing values. the soution is in the repository README but I encourage you to figure out how to do it yourself (maybe in a single line of code!)\n"
      ]
    },
    {
      "cell_type": "code",
      "metadata": {
        "id": "YM87OEg-6G1q",
        "colab_type": "code",
        "outputId": "d4b81ed9-55e6-41e4-9930-a4c75c57c89b",
        "colab": {
          "base_uri": "https://localhost:8080/",
          "height": 456
        }
      },
      "source": [
        "gt = pd.read_csv(\"https://raw.githubusercontent.com/fedhere/MLTSA_FBianco/master/HW4/GLB.Ts%2BdSST.csv\", \n",
        "                          skiprows=1).set_index(\"Year\").T.iloc[:12]\n",
        "gt"
      ],
      "execution_count": 0,
      "outputs": [
        {
          "output_type": "execute_result",
          "data": {
            "text/html": [
              "<div>\n",
              "<style scoped>\n",
              "    .dataframe tbody tr th:only-of-type {\n",
              "        vertical-align: middle;\n",
              "    }\n",
              "\n",
              "    .dataframe tbody tr th {\n",
              "        vertical-align: top;\n",
              "    }\n",
              "\n",
              "    .dataframe thead th {\n",
              "        text-align: right;\n",
              "    }\n",
              "</style>\n",
              "<table border=\"1\" class=\"dataframe\">\n",
              "  <thead>\n",
              "    <tr style=\"text-align: right;\">\n",
              "      <th>Year</th>\n",
              "      <th>1880</th>\n",
              "      <th>1881</th>\n",
              "      <th>1882</th>\n",
              "      <th>1883</th>\n",
              "      <th>1884</th>\n",
              "      <th>1885</th>\n",
              "      <th>1886</th>\n",
              "      <th>1887</th>\n",
              "      <th>1888</th>\n",
              "      <th>1889</th>\n",
              "      <th>1890</th>\n",
              "      <th>1891</th>\n",
              "      <th>1892</th>\n",
              "      <th>1893</th>\n",
              "      <th>1894</th>\n",
              "      <th>1895</th>\n",
              "      <th>1896</th>\n",
              "      <th>1897</th>\n",
              "      <th>1898</th>\n",
              "      <th>1899</th>\n",
              "      <th>1900</th>\n",
              "      <th>1901</th>\n",
              "      <th>1902</th>\n",
              "      <th>1903</th>\n",
              "      <th>1904</th>\n",
              "      <th>1905</th>\n",
              "      <th>1906</th>\n",
              "      <th>1907</th>\n",
              "      <th>1908</th>\n",
              "      <th>1909</th>\n",
              "      <th>1910</th>\n",
              "      <th>1911</th>\n",
              "      <th>1912</th>\n",
              "      <th>1913</th>\n",
              "      <th>1914</th>\n",
              "      <th>1915</th>\n",
              "      <th>1916</th>\n",
              "      <th>1917</th>\n",
              "      <th>1918</th>\n",
              "      <th>1919</th>\n",
              "      <th>...</th>\n",
              "      <th>1980</th>\n",
              "      <th>1981</th>\n",
              "      <th>1982</th>\n",
              "      <th>1983</th>\n",
              "      <th>1984</th>\n",
              "      <th>1985</th>\n",
              "      <th>1986</th>\n",
              "      <th>1987</th>\n",
              "      <th>1988</th>\n",
              "      <th>1989</th>\n",
              "      <th>1990</th>\n",
              "      <th>1991</th>\n",
              "      <th>1992</th>\n",
              "      <th>1993</th>\n",
              "      <th>1994</th>\n",
              "      <th>1995</th>\n",
              "      <th>1996</th>\n",
              "      <th>1997</th>\n",
              "      <th>1998</th>\n",
              "      <th>1999</th>\n",
              "      <th>2000</th>\n",
              "      <th>2001</th>\n",
              "      <th>2002</th>\n",
              "      <th>2003</th>\n",
              "      <th>2004</th>\n",
              "      <th>2005</th>\n",
              "      <th>2006</th>\n",
              "      <th>2007</th>\n",
              "      <th>2008</th>\n",
              "      <th>2009</th>\n",
              "      <th>2010</th>\n",
              "      <th>2011</th>\n",
              "      <th>2012</th>\n",
              "      <th>2013</th>\n",
              "      <th>2014</th>\n",
              "      <th>2015</th>\n",
              "      <th>2016</th>\n",
              "      <th>2017</th>\n",
              "      <th>2018</th>\n",
              "      <th>2019</th>\n",
              "    </tr>\n",
              "  </thead>\n",
              "  <tbody>\n",
              "    <tr>\n",
              "      <th>Jan</th>\n",
              "      <td>-0.29</td>\n",
              "      <td>-0.16</td>\n",
              "      <td>0.14</td>\n",
              "      <td>-0.32</td>\n",
              "      <td>-0.16</td>\n",
              "      <td>-0.59</td>\n",
              "      <td>-0.42</td>\n",
              "      <td>-0.73</td>\n",
              "      <td>-0.38</td>\n",
              "      <td>-0.11</td>\n",
              "      <td>-0.44</td>\n",
              "      <td>-0.42</td>\n",
              "      <td>-0.28</td>\n",
              "      <td>-0.8</td>\n",
              "      <td>-0.54</td>\n",
              "      <td>-0.44</td>\n",
              "      <td>-0.26</td>\n",
              "      <td>-0.15</td>\n",
              "      <td>-0.03</td>\n",
              "      <td>-0.19</td>\n",
              "      <td>-0.37</td>\n",
              "      <td>-0.24</td>\n",
              "      <td>-0.2</td>\n",
              "      <td>-0.26</td>\n",
              "      <td>-0.68</td>\n",
              "      <td>-0.4</td>\n",
              "      <td>-0.28</td>\n",
              "      <td>-0.42</td>\n",
              "      <td>-0.44</td>\n",
              "      <td>-0.69</td>\n",
              "      <td>-0.45</td>\n",
              "      <td>-0.64</td>\n",
              "      <td>-0.26</td>\n",
              "      <td>-0.42</td>\n",
              "      <td>0.04</td>\n",
              "      <td>-0.17</td>\n",
              "      <td>-0.09</td>\n",
              "      <td>-0.58</td>\n",
              "      <td>-0.42</td>\n",
              "      <td>-0.2</td>\n",
              "      <td>...</td>\n",
              "      <td>0.3</td>\n",
              "      <td>0.55</td>\n",
              "      <td>0.1</td>\n",
              "      <td>0.52</td>\n",
              "      <td>0.3</td>\n",
              "      <td>0.22</td>\n",
              "      <td>0.28</td>\n",
              "      <td>0.36</td>\n",
              "      <td>0.58</td>\n",
              "      <td>0.15</td>\n",
              "      <td>0.41</td>\n",
              "      <td>0.41</td>\n",
              "      <td>0.44</td>\n",
              "      <td>0.37</td>\n",
              "      <td>0.27</td>\n",
              "      <td>0.51</td>\n",
              "      <td>0.25</td>\n",
              "      <td>0.31</td>\n",
              "      <td>0.6</td>\n",
              "      <td>0.48</td>\n",
              "      <td>0.23</td>\n",
              "      <td>0.42</td>\n",
              "      <td>0.75</td>\n",
              "      <td>0.73</td>\n",
              "      <td>0.58</td>\n",
              "      <td>0.72</td>\n",
              "      <td>0.56</td>\n",
              "      <td>0.95</td>\n",
              "      <td>0.23</td>\n",
              "      <td>0.61</td>\n",
              "      <td>0.73</td>\n",
              "      <td>0.48</td>\n",
              "      <td>0.45</td>\n",
              "      <td>0.67</td>\n",
              "      <td>0.73</td>\n",
              "      <td>0.81</td>\n",
              "      <td>1.15</td>\n",
              "      <td>0.98</td>\n",
              "      <td>0.77</td>\n",
              "      <td>0.87</td>\n",
              "    </tr>\n",
              "    <tr>\n",
              "      <th>Feb</th>\n",
              "      <td>-0.18</td>\n",
              "      <td>-0.17</td>\n",
              "      <td>0.15</td>\n",
              "      <td>-0.39</td>\n",
              "      <td>-0.08</td>\n",
              "      <td>-0.3</td>\n",
              "      <td>-0.45</td>\n",
              "      <td>-0.52</td>\n",
              "      <td>-0.36</td>\n",
              "      <td>0.19</td>\n",
              "      <td>-0.45</td>\n",
              "      <td>-0.47</td>\n",
              "      <td>-0.12</td>\n",
              "      <td>-0.54</td>\n",
              "      <td>-0.33</td>\n",
              "      <td>-0.42</td>\n",
              "      <td>-0.14</td>\n",
              "      <td>-0.15</td>\n",
              "      <td>-0.3</td>\n",
              "      <td>-0.4</td>\n",
              "      <td>-0.03</td>\n",
              "      <td>-0.04</td>\n",
              "      <td>-0.03</td>\n",
              "      <td>-0.04</td>\n",
              "      <td>-0.58</td>\n",
              "      <td>-0.59</td>\n",
              "      <td>-0.31</td>\n",
              "      <td>-0.51</td>\n",
              "      <td>-0.31</td>\n",
              "      <td>-0.47</td>\n",
              "      <td>-0.44</td>\n",
              "      <td>-0.58</td>\n",
              "      <td>-0.12</td>\n",
              "      <td>-0.43</td>\n",
              "      <td>-0.11</td>\n",
              "      <td>0</td>\n",
              "      <td>-0.13</td>\n",
              "      <td>-0.61</td>\n",
              "      <td>-0.32</td>\n",
              "      <td>-0.23</td>\n",
              "      <td>...</td>\n",
              "      <td>0.42</td>\n",
              "      <td>0.41</td>\n",
              "      <td>0.15</td>\n",
              "      <td>0.41</td>\n",
              "      <td>0.17</td>\n",
              "      <td>-0.06</td>\n",
              "      <td>0.39</td>\n",
              "      <td>0.46</td>\n",
              "      <td>0.43</td>\n",
              "      <td>0.35</td>\n",
              "      <td>0.41</td>\n",
              "      <td>0.49</td>\n",
              "      <td>0.42</td>\n",
              "      <td>0.39</td>\n",
              "      <td>0.02</td>\n",
              "      <td>0.78</td>\n",
              "      <td>0.48</td>\n",
              "      <td>0.38</td>\n",
              "      <td>0.9</td>\n",
              "      <td>0.65</td>\n",
              "      <td>0.56</td>\n",
              "      <td>0.43</td>\n",
              "      <td>0.75</td>\n",
              "      <td>0.55</td>\n",
              "      <td>0.72</td>\n",
              "      <td>0.57</td>\n",
              "      <td>0.69</td>\n",
              "      <td>0.7</td>\n",
              "      <td>0.34</td>\n",
              "      <td>0.51</td>\n",
              "      <td>0.79</td>\n",
              "      <td>0.51</td>\n",
              "      <td>0.48</td>\n",
              "      <td>0.56</td>\n",
              "      <td>0.52</td>\n",
              "      <td>0.87</td>\n",
              "      <td>1.35</td>\n",
              "      <td>1.13</td>\n",
              "      <td>0.85</td>\n",
              "      <td>0.92</td>\n",
              "    </tr>\n",
              "    <tr>\n",
              "      <th>Mar</th>\n",
              "      <td>-0.11</td>\n",
              "      <td>0.04</td>\n",
              "      <td>0.03</td>\n",
              "      <td>-0.13</td>\n",
              "      <td>-0.37</td>\n",
              "      <td>-0.25</td>\n",
              "      <td>-0.39</td>\n",
              "      <td>-0.34</td>\n",
              "      <td>-0.41</td>\n",
              "      <td>0.08</td>\n",
              "      <td>-0.4</td>\n",
              "      <td>-0.19</td>\n",
              "      <td>-0.35</td>\n",
              "      <td>-0.23</td>\n",
              "      <td>-0.25</td>\n",
              "      <td>-0.29</td>\n",
              "      <td>-0.26</td>\n",
              "      <td>-0.14</td>\n",
              "      <td>-0.52</td>\n",
              "      <td>-0.34</td>\n",
              "      <td>0.01</td>\n",
              "      <td>0.08</td>\n",
              "      <td>-0.29</td>\n",
              "      <td>-0.24</td>\n",
              "      <td>-0.51</td>\n",
              "      <td>-0.24</td>\n",
              "      <td>-0.16</td>\n",
              "      <td>-0.27</td>\n",
              "      <td>-0.54</td>\n",
              "      <td>-0.51</td>\n",
              "      <td>-0.51</td>\n",
              "      <td>-0.6</td>\n",
              "      <td>-0.35</td>\n",
              "      <td>-0.43</td>\n",
              "      <td>-0.22</td>\n",
              "      <td>-0.1</td>\n",
              "      <td>-0.28</td>\n",
              "      <td>-0.6</td>\n",
              "      <td>-0.25</td>\n",
              "      <td>-0.2</td>\n",
              "      <td>...</td>\n",
              "      <td>0.3</td>\n",
              "      <td>0.49</td>\n",
              "      <td>-0.01</td>\n",
              "      <td>0.43</td>\n",
              "      <td>0.29</td>\n",
              "      <td>0.17</td>\n",
              "      <td>0.27</td>\n",
              "      <td>0.16</td>\n",
              "      <td>0.51</td>\n",
              "      <td>0.36</td>\n",
              "      <td>0.77</td>\n",
              "      <td>0.35</td>\n",
              "      <td>0.48</td>\n",
              "      <td>0.36</td>\n",
              "      <td>0.27</td>\n",
              "      <td>0.45</td>\n",
              "      <td>0.32</td>\n",
              "      <td>0.53</td>\n",
              "      <td>0.63</td>\n",
              "      <td>0.34</td>\n",
              "      <td>0.57</td>\n",
              "      <td>0.55</td>\n",
              "      <td>0.89</td>\n",
              "      <td>0.57</td>\n",
              "      <td>0.64</td>\n",
              "      <td>0.69</td>\n",
              "      <td>0.62</td>\n",
              "      <td>0.69</td>\n",
              "      <td>0.73</td>\n",
              "      <td>0.52</td>\n",
              "      <td>0.91</td>\n",
              "      <td>0.62</td>\n",
              "      <td>0.56</td>\n",
              "      <td>0.65</td>\n",
              "      <td>0.76</td>\n",
              "      <td>0.9</td>\n",
              "      <td>1.31</td>\n",
              "      <td>1.13</td>\n",
              "      <td>0.91</td>\n",
              "      <td>1.11</td>\n",
              "    </tr>\n",
              "    <tr>\n",
              "      <th>Apr</th>\n",
              "      <td>-0.2</td>\n",
              "      <td>0.04</td>\n",
              "      <td>-0.19</td>\n",
              "      <td>-0.17</td>\n",
              "      <td>-0.43</td>\n",
              "      <td>-0.42</td>\n",
              "      <td>-0.28</td>\n",
              "      <td>-0.39</td>\n",
              "      <td>-0.22</td>\n",
              "      <td>0.07</td>\n",
              "      <td>-0.37</td>\n",
              "      <td>-0.28</td>\n",
              "      <td>-0.35</td>\n",
              "      <td>-0.3</td>\n",
              "      <td>-0.48</td>\n",
              "      <td>-0.25</td>\n",
              "      <td>-0.31</td>\n",
              "      <td>-0.02</td>\n",
              "      <td>-0.33</td>\n",
              "      <td>-0.21</td>\n",
              "      <td>-0.12</td>\n",
              "      <td>-0.04</td>\n",
              "      <td>-0.3</td>\n",
              "      <td>-0.43</td>\n",
              "      <td>-0.55</td>\n",
              "      <td>-0.36</td>\n",
              "      <td>-0.04</td>\n",
              "      <td>-0.39</td>\n",
              "      <td>-0.46</td>\n",
              "      <td>-0.6</td>\n",
              "      <td>-0.4</td>\n",
              "      <td>-0.54</td>\n",
              "      <td>-0.2</td>\n",
              "      <td>-0.4</td>\n",
              "      <td>-0.29</td>\n",
              "      <td>0.06</td>\n",
              "      <td>-0.3</td>\n",
              "      <td>-0.51</td>\n",
              "      <td>-0.45</td>\n",
              "      <td>-0.14</td>\n",
              "      <td>...</td>\n",
              "      <td>0.33</td>\n",
              "      <td>0.32</td>\n",
              "      <td>0.1</td>\n",
              "      <td>0.31</td>\n",
              "      <td>0.08</td>\n",
              "      <td>0.11</td>\n",
              "      <td>0.24</td>\n",
              "      <td>0.22</td>\n",
              "      <td>0.45</td>\n",
              "      <td>0.33</td>\n",
              "      <td>0.55</td>\n",
              "      <td>0.52</td>\n",
              "      <td>0.24</td>\n",
              "      <td>0.27</td>\n",
              "      <td>0.4</td>\n",
              "      <td>0.47</td>\n",
              "      <td>0.36</td>\n",
              "      <td>0.36</td>\n",
              "      <td>0.63</td>\n",
              "      <td>0.32</td>\n",
              "      <td>0.57</td>\n",
              "      <td>0.5</td>\n",
              "      <td>0.56</td>\n",
              "      <td>0.53</td>\n",
              "      <td>0.62</td>\n",
              "      <td>0.66</td>\n",
              "      <td>0.5</td>\n",
              "      <td>0.73</td>\n",
              "      <td>0.51</td>\n",
              "      <td>0.58</td>\n",
              "      <td>0.85</td>\n",
              "      <td>0.62</td>\n",
              "      <td>0.68</td>\n",
              "      <td>0.53</td>\n",
              "      <td>0.77</td>\n",
              "      <td>0.75</td>\n",
              "      <td>1.07</td>\n",
              "      <td>0.92</td>\n",
              "      <td>0.87</td>\n",
              "      <td>0.97</td>\n",
              "    </tr>\n",
              "    <tr>\n",
              "      <th>May</th>\n",
              "      <td>-0.12</td>\n",
              "      <td>0.02</td>\n",
              "      <td>-0.16</td>\n",
              "      <td>-0.2</td>\n",
              "      <td>-0.37</td>\n",
              "      <td>-0.42</td>\n",
              "      <td>-0.26</td>\n",
              "      <td>-0.32</td>\n",
              "      <td>-0.22</td>\n",
              "      <td>-0.02</td>\n",
              "      <td>-0.45</td>\n",
              "      <td>-0.18</td>\n",
              "      <td>-0.25</td>\n",
              "      <td>-0.36</td>\n",
              "      <td>-0.35</td>\n",
              "      <td>-0.27</td>\n",
              "      <td>-0.18</td>\n",
              "      <td>-0.05</td>\n",
              "      <td>-0.32</td>\n",
              "      <td>-0.23</td>\n",
              "      <td>-0.1</td>\n",
              "      <td>-0.17</td>\n",
              "      <td>-0.35</td>\n",
              "      <td>-0.44</td>\n",
              "      <td>-0.56</td>\n",
              "      <td>-0.33</td>\n",
              "      <td>-0.24</td>\n",
              "      <td>-0.47</td>\n",
              "      <td>-0.41</td>\n",
              "      <td>-0.56</td>\n",
              "      <td>-0.35</td>\n",
              "      <td>-0.52</td>\n",
              "      <td>-0.22</td>\n",
              "      <td>-0.47</td>\n",
              "      <td>-0.23</td>\n",
              "      <td>-0.07</td>\n",
              "      <td>-0.32</td>\n",
              "      <td>-0.55</td>\n",
              "      <td>-0.46</td>\n",
              "      <td>-0.28</td>\n",
              "      <td>...</td>\n",
              "      <td>0.36</td>\n",
              "      <td>0.24</td>\n",
              "      <td>0.15</td>\n",
              "      <td>0.36</td>\n",
              "      <td>0.33</td>\n",
              "      <td>0.17</td>\n",
              "      <td>0.24</td>\n",
              "      <td>0.25</td>\n",
              "      <td>0.43</td>\n",
              "      <td>0.16</td>\n",
              "      <td>0.46</td>\n",
              "      <td>0.38</td>\n",
              "      <td>0.32</td>\n",
              "      <td>0.27</td>\n",
              "      <td>0.28</td>\n",
              "      <td>0.26</td>\n",
              "      <td>0.27</td>\n",
              "      <td>0.36</td>\n",
              "      <td>0.69</td>\n",
              "      <td>0.31</td>\n",
              "      <td>0.36</td>\n",
              "      <td>0.56</td>\n",
              "      <td>0.63</td>\n",
              "      <td>0.6</td>\n",
              "      <td>0.38</td>\n",
              "      <td>0.62</td>\n",
              "      <td>0.46</td>\n",
              "      <td>0.66</td>\n",
              "      <td>0.47</td>\n",
              "      <td>0.64</td>\n",
              "      <td>0.73</td>\n",
              "      <td>0.51</td>\n",
              "      <td>0.75</td>\n",
              "      <td>0.58</td>\n",
              "      <td>0.85</td>\n",
              "      <td>0.75</td>\n",
              "      <td>0.91</td>\n",
              "      <td>0.89</td>\n",
              "      <td>0.81</td>\n",
              "      <td>0.85</td>\n",
              "    </tr>\n",
              "    <tr>\n",
              "      <th>Jun</th>\n",
              "      <td>-0.23</td>\n",
              "      <td>-0.2</td>\n",
              "      <td>-0.26</td>\n",
              "      <td>-0.13</td>\n",
              "      <td>-0.41</td>\n",
              "      <td>-0.44</td>\n",
              "      <td>-0.39</td>\n",
              "      <td>-0.24</td>\n",
              "      <td>-0.18</td>\n",
              "      <td>-0.14</td>\n",
              "      <td>-0.27</td>\n",
              "      <td>-0.2</td>\n",
              "      <td>-0.23</td>\n",
              "      <td>-0.29</td>\n",
              "      <td>-0.44</td>\n",
              "      <td>-0.24</td>\n",
              "      <td>-0.14</td>\n",
              "      <td>-0.16</td>\n",
              "      <td>-0.21</td>\n",
              "      <td>-0.33</td>\n",
              "      <td>-0.13</td>\n",
              "      <td>-0.13</td>\n",
              "      <td>-0.35</td>\n",
              "      <td>-0.46</td>\n",
              "      <td>-0.51</td>\n",
              "      <td>-0.31</td>\n",
              "      <td>-0.21</td>\n",
              "      <td>-0.44</td>\n",
              "      <td>-0.41</td>\n",
              "      <td>-0.53</td>\n",
              "      <td>-0.38</td>\n",
              "      <td>-0.48</td>\n",
              "      <td>-0.26</td>\n",
              "      <td>-0.49</td>\n",
              "      <td>-0.26</td>\n",
              "      <td>-0.21</td>\n",
              "      <td>-0.47</td>\n",
              "      <td>-0.43</td>\n",
              "      <td>-0.36</td>\n",
              "      <td>-0.38</td>\n",
              "      <td>...</td>\n",
              "      <td>0.17</td>\n",
              "      <td>0.32</td>\n",
              "      <td>0.05</td>\n",
              "      <td>0.2</td>\n",
              "      <td>0.05</td>\n",
              "      <td>0.18</td>\n",
              "      <td>0.11</td>\n",
              "      <td>0.37</td>\n",
              "      <td>0.43</td>\n",
              "      <td>0.14</td>\n",
              "      <td>0.38</td>\n",
              "      <td>0.53</td>\n",
              "      <td>0.25</td>\n",
              "      <td>0.25</td>\n",
              "      <td>0.42</td>\n",
              "      <td>0.41</td>\n",
              "      <td>0.25</td>\n",
              "      <td>0.53</td>\n",
              "      <td>0.77</td>\n",
              "      <td>0.37</td>\n",
              "      <td>0.41</td>\n",
              "      <td>0.54</td>\n",
              "      <td>0.55</td>\n",
              "      <td>0.47</td>\n",
              "      <td>0.42</td>\n",
              "      <td>0.66</td>\n",
              "      <td>0.64</td>\n",
              "      <td>0.59</td>\n",
              "      <td>0.46</td>\n",
              "      <td>0.65</td>\n",
              "      <td>0.62</td>\n",
              "      <td>0.57</td>\n",
              "      <td>0.63</td>\n",
              "      <td>0.66</td>\n",
              "      <td>0.66</td>\n",
              "      <td>0.79</td>\n",
              "      <td>0.77</td>\n",
              "      <td>0.7</td>\n",
              "      <td>0.74</td>\n",
              "      <td>0.86</td>\n",
              "    </tr>\n",
              "    <tr>\n",
              "      <th>Jul</th>\n",
              "      <td>-0.21</td>\n",
              "      <td>-0.07</td>\n",
              "      <td>-0.21</td>\n",
              "      <td>-0.08</td>\n",
              "      <td>-0.35</td>\n",
              "      <td>-0.36</td>\n",
              "      <td>-0.22</td>\n",
              "      <td>-0.23</td>\n",
              "      <td>-0.09</td>\n",
              "      <td>-0.1</td>\n",
              "      <td>-0.27</td>\n",
              "      <td>-0.2</td>\n",
              "      <td>-0.32</td>\n",
              "      <td>-0.16</td>\n",
              "      <td>-0.26</td>\n",
              "      <td>-0.18</td>\n",
              "      <td>-0.04</td>\n",
              "      <td>-0.07</td>\n",
              "      <td>-0.24</td>\n",
              "      <td>-0.18</td>\n",
              "      <td>-0.13</td>\n",
              "      <td>-0.16</td>\n",
              "      <td>-0.3</td>\n",
              "      <td>-0.37</td>\n",
              "      <td>-0.54</td>\n",
              "      <td>-0.29</td>\n",
              "      <td>-0.25</td>\n",
              "      <td>-0.37</td>\n",
              "      <td>-0.4</td>\n",
              "      <td>-0.45</td>\n",
              "      <td>-0.35</td>\n",
              "      <td>-0.41</td>\n",
              "      <td>-0.44</td>\n",
              "      <td>-0.37</td>\n",
              "      <td>-0.24</td>\n",
              "      <td>-0.11</td>\n",
              "      <td>-0.36</td>\n",
              "      <td>-0.25</td>\n",
              "      <td>-0.31</td>\n",
              "      <td>-0.29</td>\n",
              "      <td>...</td>\n",
              "      <td>0.28</td>\n",
              "      <td>0.34</td>\n",
              "      <td>0.13</td>\n",
              "      <td>0.18</td>\n",
              "      <td>0.17</td>\n",
              "      <td>-0.01</td>\n",
              "      <td>0.11</td>\n",
              "      <td>0.45</td>\n",
              "      <td>0.34</td>\n",
              "      <td>0.34</td>\n",
              "      <td>0.43</td>\n",
              "      <td>0.48</td>\n",
              "      <td>0.12</td>\n",
              "      <td>0.28</td>\n",
              "      <td>0.3</td>\n",
              "      <td>0.48</td>\n",
              "      <td>0.35</td>\n",
              "      <td>0.35</td>\n",
              "      <td>0.68</td>\n",
              "      <td>0.37</td>\n",
              "      <td>0.38</td>\n",
              "      <td>0.6</td>\n",
              "      <td>0.61</td>\n",
              "      <td>0.53</td>\n",
              "      <td>0.24</td>\n",
              "      <td>0.63</td>\n",
              "      <td>0.52</td>\n",
              "      <td>0.6</td>\n",
              "      <td>0.59</td>\n",
              "      <td>0.69</td>\n",
              "      <td>0.59</td>\n",
              "      <td>0.71</td>\n",
              "      <td>0.53</td>\n",
              "      <td>0.57</td>\n",
              "      <td>0.56</td>\n",
              "      <td>0.71</td>\n",
              "      <td>0.82</td>\n",
              "      <td>0.82</td>\n",
              "      <td>0.78</td>\n",
              "      <td>0.9</td>\n",
              "    </tr>\n",
              "    <tr>\n",
              "      <th>Aug</th>\n",
              "      <td>-.09</td>\n",
              "      <td>-.03</td>\n",
              "      <td>-.06</td>\n",
              "      <td>-.15</td>\n",
              "      <td>-.26</td>\n",
              "      <td>-.32</td>\n",
              "      <td>-.34</td>\n",
              "      <td>-.32</td>\n",
              "      <td>-.16</td>\n",
              "      <td>-.20</td>\n",
              "      <td>-.38</td>\n",
              "      <td>-.16</td>\n",
              "      <td>-.25</td>\n",
              "      <td>-.27</td>\n",
              "      <td>-.22</td>\n",
              "      <td>-.16</td>\n",
              "      <td>-.04</td>\n",
              "      <td>-.11</td>\n",
              "      <td>-.25</td>\n",
              "      <td>-.07</td>\n",
              "      <td>-.10</td>\n",
              "      <td>-.20</td>\n",
              "      <td>-.32</td>\n",
              "      <td>-.49</td>\n",
              "      <td>-.50</td>\n",
              "      <td>-.22</td>\n",
              "      <td>-.20</td>\n",
              "      <td>-.35</td>\n",
              "      <td>-.46</td>\n",
              "      <td>-.31</td>\n",
              "      <td>-.37</td>\n",
              "      <td>-.42</td>\n",
              "      <td>-.55</td>\n",
              "      <td>-.34</td>\n",
              "      <td>-.14</td>\n",
              "      <td>-.20</td>\n",
              "      <td>-.26</td>\n",
              "      <td>-.22</td>\n",
              "      <td>-.30</td>\n",
              "      <td>-.33</td>\n",
              "      <td>...</td>\n",
              "      <td>.23</td>\n",
              "      <td>.32</td>\n",
              "      <td>.07</td>\n",
              "      <td>.33</td>\n",
              "      <td>.16</td>\n",
              "      <td>.15</td>\n",
              "      <td>.12</td>\n",
              "      <td>.28</td>\n",
              "      <td>.47</td>\n",
              "      <td>.37</td>\n",
              "      <td>.31</td>\n",
              "      <td>.40</td>\n",
              "      <td>.07</td>\n",
              "      <td>.13</td>\n",
              "      <td>.21</td>\n",
              "      <td>.46</td>\n",
              "      <td>.49</td>\n",
              "      <td>.41</td>\n",
              "      <td>.66</td>\n",
              "      <td>.31</td>\n",
              "      <td>.42</td>\n",
              "      <td>.48</td>\n",
              "      <td>.53</td>\n",
              "      <td>.65</td>\n",
              "      <td>.43</td>\n",
              "      <td>.60</td>\n",
              "      <td>.70</td>\n",
              "      <td>.57</td>\n",
              "      <td>.44</td>\n",
              "      <td>.66</td>\n",
              "      <td>.63</td>\n",
              "      <td>.71</td>\n",
              "      <td>.62</td>\n",
              "      <td>.66</td>\n",
              "      <td>.81</td>\n",
              "      <td>.79</td>\n",
              "      <td>1.00</td>\n",
              "      <td>.87</td>\n",
              "      <td>.73</td>\n",
              "      <td>***</td>\n",
              "    </tr>\n",
              "    <tr>\n",
              "      <th>Sep</th>\n",
              "      <td>-.16</td>\n",
              "      <td>-.14</td>\n",
              "      <td>-.10</td>\n",
              "      <td>-.21</td>\n",
              "      <td>-.27</td>\n",
              "      <td>-.24</td>\n",
              "      <td>-.26</td>\n",
              "      <td>-.23</td>\n",
              "      <td>-.10</td>\n",
              "      <td>-.22</td>\n",
              "      <td>-.39</td>\n",
              "      <td>-.14</td>\n",
              "      <td>-.13</td>\n",
              "      <td>-.20</td>\n",
              "      <td>-.25</td>\n",
              "      <td>-.09</td>\n",
              "      <td>-.03</td>\n",
              "      <td>-.08</td>\n",
              "      <td>-.22</td>\n",
              "      <td>-.03</td>\n",
              "      <td>-.05</td>\n",
              "      <td>-.22</td>\n",
              "      <td>-.29</td>\n",
              "      <td>-.49</td>\n",
              "      <td>-.53</td>\n",
              "      <td>-.19</td>\n",
              "      <td>-.27</td>\n",
              "      <td>-.33</td>\n",
              "      <td>-.36</td>\n",
              "      <td>-.35</td>\n",
              "      <td>-.36</td>\n",
              "      <td>-.38</td>\n",
              "      <td>-.51</td>\n",
              "      <td>-.36</td>\n",
              "      <td>-.13</td>\n",
              "      <td>-.17</td>\n",
              "      <td>-.32</td>\n",
              "      <td>-.18</td>\n",
              "      <td>-.15</td>\n",
              "      <td>-.22</td>\n",
              "      <td>...</td>\n",
              "      <td>.19</td>\n",
              "      <td>.17</td>\n",
              "      <td>.14</td>\n",
              "      <td>.39</td>\n",
              "      <td>.21</td>\n",
              "      <td>.15</td>\n",
              "      <td>.00</td>\n",
              "      <td>.39</td>\n",
              "      <td>.41</td>\n",
              "      <td>.37</td>\n",
              "      <td>.29</td>\n",
              "      <td>.48</td>\n",
              "      <td>.00</td>\n",
              "      <td>.10</td>\n",
              "      <td>.29</td>\n",
              "      <td>.32</td>\n",
              "      <td>.25</td>\n",
              "      <td>.53</td>\n",
              "      <td>.42</td>\n",
              "      <td>.41</td>\n",
              "      <td>.40</td>\n",
              "      <td>.53</td>\n",
              "      <td>.62</td>\n",
              "      <td>.64</td>\n",
              "      <td>.50</td>\n",
              "      <td>.74</td>\n",
              "      <td>.61</td>\n",
              "      <td>.59</td>\n",
              "      <td>.62</td>\n",
              "      <td>.68</td>\n",
              "      <td>.59</td>\n",
              "      <td>.54</td>\n",
              "      <td>.72</td>\n",
              "      <td>.78</td>\n",
              "      <td>.88</td>\n",
              "      <td>.82</td>\n",
              "      <td>.88</td>\n",
              "      <td>.76</td>\n",
              "      <td>.76</td>\n",
              "      <td>***</td>\n",
              "    </tr>\n",
              "    <tr>\n",
              "      <th>Oct</th>\n",
              "      <td>-.23</td>\n",
              "      <td>-.21</td>\n",
              "      <td>-.25</td>\n",
              "      <td>-.14</td>\n",
              "      <td>-.24</td>\n",
              "      <td>-.19</td>\n",
              "      <td>-.29</td>\n",
              "      <td>-.33</td>\n",
              "      <td>.02</td>\n",
              "      <td>-.22</td>\n",
              "      <td>-.24</td>\n",
              "      <td>-.21</td>\n",
              "      <td>-.13</td>\n",
              "      <td>-.17</td>\n",
              "      <td>-.21</td>\n",
              "      <td>-.08</td>\n",
              "      <td>.11</td>\n",
              "      <td>-.12</td>\n",
              "      <td>-.33</td>\n",
              "      <td>-.05</td>\n",
              "      <td>.09</td>\n",
              "      <td>-.31</td>\n",
              "      <td>-.29</td>\n",
              "      <td>-.48</td>\n",
              "      <td>-.40</td>\n",
              "      <td>-.25</td>\n",
              "      <td>-.19</td>\n",
              "      <td>-.24</td>\n",
              "      <td>-.45</td>\n",
              "      <td>-.37</td>\n",
              "      <td>-.38</td>\n",
              "      <td>-.23</td>\n",
              "      <td>-.57</td>\n",
              "      <td>-.34</td>\n",
              "      <td>-.04</td>\n",
              "      <td>-.25</td>\n",
              "      <td>-.27</td>\n",
              "      <td>-.40</td>\n",
              "      <td>-.05</td>\n",
              "      <td>-.19</td>\n",
              "      <td>...</td>\n",
              "      <td>.18</td>\n",
              "      <td>.14</td>\n",
              "      <td>.13</td>\n",
              "      <td>.16</td>\n",
              "      <td>.16</td>\n",
              "      <td>.11</td>\n",
              "      <td>.13</td>\n",
              "      <td>.32</td>\n",
              "      <td>.39</td>\n",
              "      <td>.32</td>\n",
              "      <td>.41</td>\n",
              "      <td>.30</td>\n",
              "      <td>.09</td>\n",
              "      <td>.22</td>\n",
              "      <td>.41</td>\n",
              "      <td>.47</td>\n",
              "      <td>.19</td>\n",
              "      <td>.62</td>\n",
              "      <td>.44</td>\n",
              "      <td>.39</td>\n",
              "      <td>.28</td>\n",
              "      <td>.50</td>\n",
              "      <td>.55</td>\n",
              "      <td>.74</td>\n",
              "      <td>.64</td>\n",
              "      <td>.75</td>\n",
              "      <td>.67</td>\n",
              "      <td>.57</td>\n",
              "      <td>.63</td>\n",
              "      <td>.63</td>\n",
              "      <td>.69</td>\n",
              "      <td>.63</td>\n",
              "      <td>.74</td>\n",
              "      <td>.67</td>\n",
              "      <td>.81</td>\n",
              "      <td>1.07</td>\n",
              "      <td>.90</td>\n",
              "      <td>.88</td>\n",
              "      <td>.99</td>\n",
              "      <td>***</td>\n",
              "    </tr>\n",
              "    <tr>\n",
              "      <th>Nov</th>\n",
              "      <td>-.20</td>\n",
              "      <td>-.22</td>\n",
              "      <td>-.16</td>\n",
              "      <td>-.22</td>\n",
              "      <td>-.30</td>\n",
              "      <td>-.20</td>\n",
              "      <td>-.31</td>\n",
              "      <td>-.23</td>\n",
              "      <td>.01</td>\n",
              "      <td>-.33</td>\n",
              "      <td>-.48</td>\n",
              "      <td>-.35</td>\n",
              "      <td>-.42</td>\n",
              "      <td>-.17</td>\n",
              "      <td>-.25</td>\n",
              "      <td>-.15</td>\n",
              "      <td>-.08</td>\n",
              "      <td>-.19</td>\n",
              "      <td>-.38</td>\n",
              "      <td>.12</td>\n",
              "      <td>-.10</td>\n",
              "      <td>-.17</td>\n",
              "      <td>-.39</td>\n",
              "      <td>-.45</td>\n",
              "      <td>-.22</td>\n",
              "      <td>-.10</td>\n",
              "      <td>-.39</td>\n",
              "      <td>-.49</td>\n",
              "      <td>-.50</td>\n",
              "      <td>-.31</td>\n",
              "      <td>-.54</td>\n",
              "      <td>-.18</td>\n",
              "      <td>-.38</td>\n",
              "      <td>-.19</td>\n",
              "      <td>-.18</td>\n",
              "      <td>-.13</td>\n",
              "      <td>-.40</td>\n",
              "      <td>-.28</td>\n",
              "      <td>-.11</td>\n",
              "      <td>-.41</td>\n",
              "      <td>...</td>\n",
              "      <td>.29</td>\n",
              "      <td>.24</td>\n",
              "      <td>.15</td>\n",
              "      <td>.32</td>\n",
              "      <td>.06</td>\n",
              "      <td>.08</td>\n",
              "      <td>.11</td>\n",
              "      <td>.25</td>\n",
              "      <td>.12</td>\n",
              "      <td>.20</td>\n",
              "      <td>.46</td>\n",
              "      <td>.31</td>\n",
              "      <td>.03</td>\n",
              "      <td>.06</td>\n",
              "      <td>.46</td>\n",
              "      <td>.45</td>\n",
              "      <td>.41</td>\n",
              "      <td>.65</td>\n",
              "      <td>.49</td>\n",
              "      <td>.38</td>\n",
              "      <td>.32</td>\n",
              "      <td>.69</td>\n",
              "      <td>.58</td>\n",
              "      <td>.52</td>\n",
              "      <td>.70</td>\n",
              "      <td>.71</td>\n",
              "      <td>.70</td>\n",
              "      <td>.54</td>\n",
              "      <td>.64</td>\n",
              "      <td>.76</td>\n",
              "      <td>.77</td>\n",
              "      <td>.56</td>\n",
              "      <td>.73</td>\n",
              "      <td>.78</td>\n",
              "      <td>.66</td>\n",
              "      <td>1.03</td>\n",
              "      <td>.91</td>\n",
              "      <td>.86</td>\n",
              "      <td>.78</td>\n",
              "      <td>***</td>\n",
              "    </tr>\n",
              "    <tr>\n",
              "      <th>Dec</th>\n",
              "      <td>-.23</td>\n",
              "      <td>-.11</td>\n",
              "      <td>-.25</td>\n",
              "      <td>-.16</td>\n",
              "      <td>-.29</td>\n",
              "      <td>-.05</td>\n",
              "      <td>-.27</td>\n",
              "      <td>-.34</td>\n",
              "      <td>-.06</td>\n",
              "      <td>-.30</td>\n",
              "      <td>-.31</td>\n",
              "      <td>-.04</td>\n",
              "      <td>-.39</td>\n",
              "      <td>-.35</td>\n",
              "      <td>-.20</td>\n",
              "      <td>-.16</td>\n",
              "      <td>-.04</td>\n",
              "      <td>-.19</td>\n",
              "      <td>-.25</td>\n",
              "      <td>-.28</td>\n",
              "      <td>-.07</td>\n",
              "      <td>-.28</td>\n",
              "      <td>-.46</td>\n",
              "      <td>-.52</td>\n",
              "      <td>-.35</td>\n",
              "      <td>-.19</td>\n",
              "      <td>-.16</td>\n",
              "      <td>-.48</td>\n",
              "      <td>-.49</td>\n",
              "      <td>-.55</td>\n",
              "      <td>-.66</td>\n",
              "      <td>-.22</td>\n",
              "      <td>-.43</td>\n",
              "      <td>-.04</td>\n",
              "      <td>-.08</td>\n",
              "      <td>-.17</td>\n",
              "      <td>-.80</td>\n",
              "      <td>-.68</td>\n",
              "      <td>-.28</td>\n",
              "      <td>-.42</td>\n",
              "      <td>...</td>\n",
              "      <td>.20</td>\n",
              "      <td>.43</td>\n",
              "      <td>.43</td>\n",
              "      <td>.17</td>\n",
              "      <td>-.05</td>\n",
              "      <td>.15</td>\n",
              "      <td>.16</td>\n",
              "      <td>.48</td>\n",
              "      <td>.33</td>\n",
              "      <td>.38</td>\n",
              "      <td>.41</td>\n",
              "      <td>.32</td>\n",
              "      <td>.22</td>\n",
              "      <td>.16</td>\n",
              "      <td>.36</td>\n",
              "      <td>.28</td>\n",
              "      <td>.40</td>\n",
              "      <td>.59</td>\n",
              "      <td>.56</td>\n",
              "      <td>.43</td>\n",
              "      <td>.29</td>\n",
              "      <td>.55</td>\n",
              "      <td>.43</td>\n",
              "      <td>.73</td>\n",
              "      <td>.51</td>\n",
              "      <td>.65</td>\n",
              "      <td>.73</td>\n",
              "      <td>.46</td>\n",
              "      <td>.53</td>\n",
              "      <td>.65</td>\n",
              "      <td>.46</td>\n",
              "      <td>.53</td>\n",
              "      <td>.52</td>\n",
              "      <td>.65</td>\n",
              "      <td>.77</td>\n",
              "      <td>1.10</td>\n",
              "      <td>.83</td>\n",
              "      <td>.89</td>\n",
              "      <td>.89</td>\n",
              "      <td>***</td>\n",
              "    </tr>\n",
              "  </tbody>\n",
              "</table>\n",
              "<p>12 rows × 140 columns</p>\n",
              "</div>"
            ],
            "text/plain": [
              "Year  1880  1881  1882  1883  1884  1885  ...  2014  2015  2016  2017  2018  2019\n",
              "Jan  -0.29 -0.16  0.14 -0.32 -0.16 -0.59  ...  0.73  0.81  1.15  0.98  0.77  0.87\n",
              "Feb  -0.18 -0.17  0.15 -0.39 -0.08  -0.3  ...  0.52  0.87  1.35  1.13  0.85  0.92\n",
              "Mar  -0.11  0.04  0.03 -0.13 -0.37 -0.25  ...  0.76   0.9  1.31  1.13  0.91  1.11\n",
              "Apr   -0.2  0.04 -0.19 -0.17 -0.43 -0.42  ...  0.77  0.75  1.07  0.92  0.87  0.97\n",
              "May  -0.12  0.02 -0.16  -0.2 -0.37 -0.42  ...  0.85  0.75  0.91  0.89  0.81  0.85\n",
              "Jun  -0.23  -0.2 -0.26 -0.13 -0.41 -0.44  ...  0.66  0.79  0.77   0.7  0.74  0.86\n",
              "Jul  -0.21 -0.07 -0.21 -0.08 -0.35 -0.36  ...  0.56  0.71  0.82  0.82  0.78   0.9\n",
              "Aug   -.09  -.03  -.06  -.15  -.26  -.32  ...   .81   .79  1.00   .87   .73   ***\n",
              "Sep   -.16  -.14  -.10  -.21  -.27  -.24  ...   .88   .82   .88   .76   .76   ***\n",
              "Oct   -.23  -.21  -.25  -.14  -.24  -.19  ...   .81  1.07   .90   .88   .99   ***\n",
              "Nov   -.20  -.22  -.16  -.22  -.30  -.20  ...   .66  1.03   .91   .86   .78   ***\n",
              "Dec   -.23  -.11  -.25  -.16  -.29  -.05  ...   .77  1.10   .83   .89   .89   ***\n",
              "\n",
              "[12 rows x 140 columns]"
            ]
          },
          "metadata": {
            "tags": []
          },
          "execution_count": 42
        }
      ]
    },
    {
      "cell_type": "code",
      "metadata": {
        "ExecuteTime": {
          "end_time": "2020-02-27T23:58:04.928108Z",
          "start_time": "2020-02-27T23:58:04.899847Z"
        },
        "id": "gqYUNIyhu9YG",
        "colab_type": "code",
        "colab": {}
      },
      "source": [
        "gt = pd.read_csv(\"https://raw.githubusercontent.com/fedhere/MLTSA_FBianco/master/HW4/GLB.Ts%2BdSST.csv\", \n",
        "                          skiprows=1).set_index(\"Year\").T.iloc[:12].replace('***', \n",
        "                                                np.nan).astype(float).mean()\n",
        "\n",
        "gt = pd.DataFrame(gt)"
      ],
      "execution_count": 0,
      "outputs": []
    },
    {
      "cell_type": "code",
      "metadata": {
        "ExecuteTime": {
          "end_time": "2020-02-27T23:58:09.848727Z",
          "start_time": "2020-02-27T23:58:09.835775Z"
        },
        "id": "Yuz2KcKiu9YM",
        "colab_type": "code",
        "outputId": "5d1fd481-5779-417f-fe29-4c77773c4e1f",
        "colab": {
          "base_uri": "https://localhost:8080/",
          "height": 436
        }
      },
      "source": [
        "gt.set_index(pd.to_datetime(gt.index, format=\"%Y\").year, inplace=True)\n",
        "gt.rename({0:\"Anomaly\"}, axis=1, inplace=True)\n",
        "gt"
      ],
      "execution_count": 119,
      "outputs": [
        {
          "output_type": "execute_result",
          "data": {
            "text/html": [
              "<div>\n",
              "<style scoped>\n",
              "    .dataframe tbody tr th:only-of-type {\n",
              "        vertical-align: middle;\n",
              "    }\n",
              "\n",
              "    .dataframe tbody tr th {\n",
              "        vertical-align: top;\n",
              "    }\n",
              "\n",
              "    .dataframe thead th {\n",
              "        text-align: right;\n",
              "    }\n",
              "</style>\n",
              "<table border=\"1\" class=\"dataframe\">\n",
              "  <thead>\n",
              "    <tr style=\"text-align: right;\">\n",
              "      <th></th>\n",
              "      <th>Anomaly</th>\n",
              "    </tr>\n",
              "    <tr>\n",
              "      <th>Year</th>\n",
              "      <th></th>\n",
              "    </tr>\n",
              "  </thead>\n",
              "  <tbody>\n",
              "    <tr>\n",
              "      <th>1880</th>\n",
              "      <td>-0.187500</td>\n",
              "    </tr>\n",
              "    <tr>\n",
              "      <th>1881</th>\n",
              "      <td>-0.100833</td>\n",
              "    </tr>\n",
              "    <tr>\n",
              "      <th>1882</th>\n",
              "      <td>-0.110000</td>\n",
              "    </tr>\n",
              "    <tr>\n",
              "      <th>1883</th>\n",
              "      <td>-0.191667</td>\n",
              "    </tr>\n",
              "    <tr>\n",
              "      <th>1884</th>\n",
              "      <td>-0.294167</td>\n",
              "    </tr>\n",
              "    <tr>\n",
              "      <th>...</th>\n",
              "      <td>...</td>\n",
              "    </tr>\n",
              "    <tr>\n",
              "      <th>2015</th>\n",
              "      <td>0.865833</td>\n",
              "    </tr>\n",
              "    <tr>\n",
              "      <th>2016</th>\n",
              "      <td>0.991667</td>\n",
              "    </tr>\n",
              "    <tr>\n",
              "      <th>2017</th>\n",
              "      <td>0.902500</td>\n",
              "    </tr>\n",
              "    <tr>\n",
              "      <th>2018</th>\n",
              "      <td>0.823333</td>\n",
              "    </tr>\n",
              "    <tr>\n",
              "      <th>2019</th>\n",
              "      <td>0.925714</td>\n",
              "    </tr>\n",
              "  </tbody>\n",
              "</table>\n",
              "<p>140 rows × 1 columns</p>\n",
              "</div>"
            ],
            "text/plain": [
              "       Anomaly\n",
              "Year          \n",
              "1880 -0.187500\n",
              "1881 -0.100833\n",
              "1882 -0.110000\n",
              "1883 -0.191667\n",
              "1884 -0.294167\n",
              "...        ...\n",
              "2015  0.865833\n",
              "2016  0.991667\n",
              "2017  0.902500\n",
              "2018  0.823333\n",
              "2019  0.925714\n",
              "\n",
              "[140 rows x 1 columns]"
            ]
          },
          "metadata": {
            "tags": []
          },
          "execution_count": 119
        }
      ]
    },
    {
      "cell_type": "code",
      "metadata": {
        "ExecuteTime": {
          "end_time": "2020-02-27T23:58:06.030455Z",
          "start_time": "2020-02-27T23:58:06.027532Z"
        },
        "id": "_RkWvAO1u9YJ",
        "colab_type": "code",
        "outputId": "63357308-d3d4-4e39-b595-3afca1574fcb",
        "colab": {
          "base_uri": "https://localhost:8080/",
          "height": 227
        }
      },
      "source": [
        "#leave\n",
        "gt.head()"
      ],
      "execution_count": 120,
      "outputs": [
        {
          "output_type": "execute_result",
          "data": {
            "text/html": [
              "<div>\n",
              "<style scoped>\n",
              "    .dataframe tbody tr th:only-of-type {\n",
              "        vertical-align: middle;\n",
              "    }\n",
              "\n",
              "    .dataframe tbody tr th {\n",
              "        vertical-align: top;\n",
              "    }\n",
              "\n",
              "    .dataframe thead th {\n",
              "        text-align: right;\n",
              "    }\n",
              "</style>\n",
              "<table border=\"1\" class=\"dataframe\">\n",
              "  <thead>\n",
              "    <tr style=\"text-align: right;\">\n",
              "      <th></th>\n",
              "      <th>Anomaly</th>\n",
              "    </tr>\n",
              "    <tr>\n",
              "      <th>Year</th>\n",
              "      <th></th>\n",
              "    </tr>\n",
              "  </thead>\n",
              "  <tbody>\n",
              "    <tr>\n",
              "      <th>1880</th>\n",
              "      <td>-0.187500</td>\n",
              "    </tr>\n",
              "    <tr>\n",
              "      <th>1881</th>\n",
              "      <td>-0.100833</td>\n",
              "    </tr>\n",
              "    <tr>\n",
              "      <th>1882</th>\n",
              "      <td>-0.110000</td>\n",
              "    </tr>\n",
              "    <tr>\n",
              "      <th>1883</th>\n",
              "      <td>-0.191667</td>\n",
              "    </tr>\n",
              "    <tr>\n",
              "      <th>1884</th>\n",
              "      <td>-0.294167</td>\n",
              "    </tr>\n",
              "  </tbody>\n",
              "</table>\n",
              "</div>"
            ],
            "text/plain": [
              "       Anomaly\n",
              "Year          \n",
              "1880 -0.187500\n",
              "1881 -0.100833\n",
              "1882 -0.110000\n",
              "1883 -0.191667\n",
              "1884 -0.294167"
            ]
          },
          "metadata": {
            "tags": []
          },
          "execution_count": 120
        }
      ]
    },
    {
      "cell_type": "code",
      "metadata": {
        "ExecuteTime": {
          "end_time": "2020-02-27T23:58:12.439676Z",
          "start_time": "2020-02-27T23:58:12.282014Z"
        },
        "id": "Z0-uMfT9u9YO",
        "colab_type": "code",
        "outputId": "b5859aeb-b8f3-4ca6-9594-de0713d7481d",
        "colab": {
          "base_uri": "https://localhost:8080/",
          "height": 278
        }
      },
      "source": [
        "#leave\n",
        "gt.plot();"
      ],
      "execution_count": 121,
      "outputs": [
        {
          "output_type": "display_data",
          "data": {
            "image/png": "[encoded data removed]",
            "text/plain": [
              "<Figure size 432x288 with 1 Axes>"
            ]
          },
          "metadata": {
            "tags": [],
            "needs_background": "light"
          }
        }
      ]
    },
    {
      "cell_type": "markdown",
      "metadata": {
        "id": "ohC5_QooUHnw",
        "colab_type": "text"
      },
      "source": [
        "Figure 5: global temperature anomaly from the NASA GISS survey. The data was accessed at https://raw.githubusercontent.com/fedhere/MLTSA_FBianco/master/HW4/GLB.Ts%2BdSST.csv\", on Feb 15 2020. The data represents the deviation in degree Kelvin from the mean global temperature and it is measured monthly, then averaged to annual time scales.\n",
        "              "
      ]
    },
    {
      "cell_type": "markdown",
      "metadata": {
        "id": "F-_2xsAZ5UQV",
        "colab_type": "text"
      },
      "source": [
        "Standardize the anomaly data between 1960 and 2003"
      ]
    },
    {
      "cell_type": "code",
      "metadata": {
        "id": "nhHlq9zP5S8y",
        "colab_type": "code",
        "outputId": "6725e23f-0c4c-4c95-a64e-1a64b93bbcc2",
        "colab": {
          "base_uri": "https://localhost:8080/",
          "height": 34
        }
      },
      "source": [
        "gt['Anomaly'] =  gt.Anomaly.map(lambda x: x - np.nanmean(gt.loc[\n",
        "     (gt.index > 1960) & (gt.index <= 2003)][\"Anomaly\"]))\n",
        "gt['Anomaly'] =  gt.Anomaly.map(lambda x: x / np.nanstd(gt.loc[\n",
        "     (gt.index > 1960) & (gt.index <= 2003)][\"Anomaly\"]))\n",
        "gt['Anomaly'].mean()"
      ],
      "execution_count": 122,
      "outputs": [
        {
          "output_type": "execute_result",
          "data": {
            "text/plain": [
              "-0.7605664905185636"
            ]
          },
          "metadata": {
            "tags": []
          },
          "execution_count": 122
        }
      ]
    },
    {
      "cell_type": "code",
      "metadata": {
        "ExecuteTime": {
          "end_time": "2020-02-27T23:58:20.758985Z",
          "start_time": "2020-02-27T23:58:20.602081Z"
        },
        "id": "GYrYJ-Oqu9YS",
        "colab_type": "code",
        "outputId": "f6ff672a-d308-4fed-a809-4ab26dc013de",
        "colab": {
          "base_uri": "https://localhost:8080/",
          "height": 283
        }
      },
      "source": [
        "ax = gt.plot()\n",
        "gt[(gt.index > 1960) & (gt.index <= 2003)].plot(ax=ax)\n",
        "pl.ylabel(\"temperature anomaly\");"
      ],
      "execution_count": 124,
      "outputs": [
        {
          "output_type": "display_data",
          "data": {
            "image/png": "[encoded data removed]",
            "text/plain": [
              "<Figure size 432x288 with 1 Axes>"
            ]
          },
          "metadata": {
            "tags": [],
            "needs_background": "light"
          }
        }
      ]
    },
    {
      "cell_type": "markdown",
      "metadata": {
        "id": "XXk-F2tjU8ZF",
        "colab_type": "text"
      },
      "source": [
        "Figure 6: As figure 5 but standardized using the portion of the data highlighted in orange"
      ]
    },
    {
      "cell_type": "markdown",
      "metadata": {
        "id": "UrfNUM9h6Ffv",
        "colab_type": "text"
      },
      "source": [
        "Merge all dataframes using the index for all of them as merging column, You can do this in a single command concatenating merge() methods (like in the first homework)."
      ]
    },
    {
      "cell_type": "code",
      "metadata": {
        "ExecuteTime": {
          "end_time": "2020-02-27T23:58:23.393653Z",
          "start_time": "2020-02-27T23:58:23.381787Z"
        },
        "id": "-Sb-hJ9Hu9YT",
        "colab_type": "code",
        "colab": {}
      },
      "source": [
        "climate = pd.merge(gt, co2, left_index=True, right_index=True).merge(\n",
        "    sIr, left_index=True, right_index=True)"
      ],
      "execution_count": 0,
      "outputs": []
    },
    {
      "cell_type": "code",
      "metadata": {
        "ExecuteTime": {
          "end_time": "2020-02-28T00:00:47.975144Z",
          "start_time": "2020-02-28T00:00:47.967436Z"
        },
        "id": "1Y09kYEUu9Yb",
        "colab_type": "code",
        "outputId": "e331bf49-cac2-4b6f-9b33-ca2db9b8c33d",
        "colab": {
          "base_uri": "https://localhost:8080/",
          "height": 287
        }
      },
      "source": [
        "climate.describe()"
      ],
      "execution_count": 127,
      "outputs": [
        {
          "output_type": "execute_result",
          "data": {
            "text/html": [
              "<div>\n",
              "<style scoped>\n",
              "    .dataframe tbody tr th:only-of-type {\n",
              "        vertical-align: middle;\n",
              "    }\n",
              "\n",
              "    .dataframe tbody tr th {\n",
              "        vertical-align: top;\n",
              "    }\n",
              "\n",
              "    .dataframe thead th {\n",
              "        text-align: right;\n",
              "    }\n",
              "</style>\n",
              "<table border=\"1\" class=\"dataframe\">\n",
              "  <thead>\n",
              "    <tr style=\"text-align: right;\">\n",
              "      <th></th>\n",
              "      <th>Anomaly</th>\n",
              "      <th>co2</th>\n",
              "      <th>irradiance</th>\n",
              "    </tr>\n",
              "  </thead>\n",
              "  <tbody>\n",
              "    <tr>\n",
              "      <th>count</th>\n",
              "      <td>53.000000</td>\n",
              "      <td>53.000000</td>\n",
              "      <td>5.300000e+01</td>\n",
              "    </tr>\n",
              "    <tr>\n",
              "      <th>mean</th>\n",
              "      <td>0.360965</td>\n",
              "      <td>0.435486</td>\n",
              "      <td>-1.150432e-12</td>\n",
              "    </tr>\n",
              "    <tr>\n",
              "      <th>std</th>\n",
              "      <td>1.187409</td>\n",
              "      <td>1.313407</td>\n",
              "      <td>1.000000e+00</td>\n",
              "    </tr>\n",
              "    <tr>\n",
              "      <th>min</th>\n",
              "      <td>-1.850355</td>\n",
              "      <td>-2.817157</td>\n",
              "      <td>-1.622573e+00</td>\n",
              "    </tr>\n",
              "    <tr>\n",
              "      <th>25%</th>\n",
              "      <td>-0.637328</td>\n",
              "      <td>0.067079</td>\n",
              "      <td>-8.563154e-01</td>\n",
              "    </tr>\n",
              "    <tr>\n",
              "      <th>50%</th>\n",
              "      <td>0.405720</td>\n",
              "      <td>0.390812</td>\n",
              "      <td>-1.529831e-01</td>\n",
              "    </tr>\n",
              "    <tr>\n",
              "      <th>75%</th>\n",
              "      <td>1.456494</td>\n",
              "      <td>0.997972</td>\n",
              "      <td>6.613319e-01</td>\n",
              "    </tr>\n",
              "    <tr>\n",
              "      <th>max</th>\n",
              "      <td>2.294795</td>\n",
              "      <td>3.090899</td>\n",
              "      <td>1.904178e+00</td>\n",
              "    </tr>\n",
              "  </tbody>\n",
              "</table>\n",
              "</div>"
            ],
            "text/plain": [
              "         Anomaly        co2    irradiance\n",
              "count  53.000000  53.000000  5.300000e+01\n",
              "mean    0.360965   0.435486 -1.150432e-12\n",
              "std     1.187409   1.313407  1.000000e+00\n",
              "min    -1.850355  -2.817157 -1.622573e+00\n",
              "25%    -0.637328   0.067079 -8.563154e-01\n",
              "50%     0.405720   0.390812 -1.529831e-01\n",
              "75%     1.456494   0.997972  6.613319e-01\n",
              "max     2.294795   3.090899  1.904178e+00"
            ]
          },
          "metadata": {
            "tags": []
          },
          "execution_count": 127
        }
      ]
    },
    {
      "cell_type": "code",
      "metadata": {
        "ExecuteTime": {
          "end_time": "2020-02-28T00:00:02.509835Z",
          "start_time": "2020-02-28T00:00:02.352047Z"
        },
        "id": "A5Z6eJpIu9YY",
        "colab_type": "code",
        "outputId": "96de5fa3-7a40-485d-f288-748a775c285c",
        "colab": {
          "base_uri": "https://localhost:8080/",
          "height": 282
        }
      },
      "source": [
        "climate[[\"irradiance\", \"co2\", \"Anomaly\"]].plot()"
      ],
      "execution_count": 126,
      "outputs": [
        {
          "output_type": "execute_result",
          "data": {
            "text/plain": [
              "<matplotlib.axes._subplots.AxesSubplot at 0x7f3aeafa3588>"
            ]
          },
          "metadata": {
            "tags": []
          },
          "execution_count": 126
        },
        {
          "output_type": "display_data",
          "data": {
            "image/png": "[encoded data removed]",
            "text/plain": [
              "<Figure size 432x288 with 1 Axes>"
            ]
          },
          "metadata": {
            "tags": [],
            "needs_background": "light"
          }
        }
      ]
    },
    {
      "cell_type": "markdown",
      "metadata": {
        "id": "qznraK9KVIr7",
        "colab_type": "text"
      },
      "source": [
        "Figure 7: same as data in Figure 2,4,6 but plotted at once. This highlights the common trends (between CO2 and Anomaly, and the presence of seasonality (in the irradiance data on a ~10 year cycle, shorter time scaled in the Anomaly data)"
      ]
    },
    {
      "cell_type": "markdown",
      "metadata": {
        "id": "k3S-wxHT69Kj",
        "colab_type": "text"
      },
      "source": [
        "# modeling\n",
        " import pydlm to create models of the global temperature anomaly.\n",
        "\n",
        " ## Model 1: \n",
        " Create a model that has \n",
        " - 1 a linera trend of degree 2 \n",
        " - a seasonality with 11 years period which correspond to the 11-years solar cycles https://en.wikipedia.org/wiki/Solar_cycle\n",
        " \n",
        "\n",
        " ## Model 2: \n",
        " Create a model that has \n",
        " - 1 a linera trend of degree 2 \n",
        " - a seasonality with 11 years period \n",
        " - a regression on CO2, \n",
        " \n",
        " \n",
        " ## Model 3\n",
        "remove the regressor on the solar irradiance and see if the model is as good (i.e. does the 11 years cyle takes care of solar irradiance?) (e.g. you can check the MSE as ```model.getMSE()```\n"
      ]
    },
    {
      "cell_type": "markdown",
      "metadata": {
        "id": "YkSbYVuc9HeT",
        "colab_type": "text"
      },
      "source": [
        "You can follow the examples here \n",
        "https://pydlm.github.io/example1.html#dynamic-linear-regression\n"
      ]
    },
    {
      "cell_type": "markdown",
      "metadata": {
        "id": "YFCEiUM2Xd-G",
        "colab_type": "text"
      },
      "source": [
        "## generate the models"
      ]
    },
    {
      "cell_type": "code",
      "metadata": {
        "ExecuteTime": {
          "end_time": "2020-02-28T00:02:46.196770Z",
          "start_time": "2020-02-28T00:02:46.127496Z"
        },
        "id": "m_IieBtgu9Yd",
        "colab_type": "code",
        "colab": {}
      },
      "source": [
        "# model 1\n",
        "# A linear trend\n",
        "linear_trend = trend(degree=2, discount=0.95, name='trend', w=4)\n",
        "# A seasonality\n",
        "seasonal11 = seasonality(period=11, discount=0.9, name='seasonal11', w=4)\n"
      ],
      "execution_count": 0,
      "outputs": []
    },
    {
      "cell_type": "code",
      "metadata": {
        "id": "SJnl7Kos8u-R",
        "colab_type": "code",
        "colab": {}
      },
      "source": [
        "\n",
        "# generating an exogenous variable from the data: CO2\n",
        "regressor4 = dynamic(features=climate.iloc[:,1:2].values, \n",
        "                      name='regressor4', w=4)\n",
        "# generating an exogenous variable from the data: Irradiance\n",
        "regressor5 = dynamic(features=climate.iloc[:,2:3].values, \n",
        "                      name='regressor5', w=4)\n"
      ],
      "execution_count": 0,
      "outputs": []
    },
    {
      "cell_type": "code",
      "metadata": {
        "id": "nPD3K0Xp8xMa",
        "colab_type": "code",
        "colab": {}
      },
      "source": [
        "# Build a simple dlm\n",
        "simple_dlm = dlm(climate.Anomaly) + linear_trend + seasonal11\n",
        "\n",
        "# model with linear, seasonal components, and regression on CO2\n",
        "regressed_dlm_noir = dlm(climate.Anomaly) + linear_trend + \\\n",
        "          seasonal11 + regressor4 \n",
        "\n",
        "# model with linear, seasonal components, and regression on CO2 and on irradiance\n",
        "regressed_dlm = dlm(climate.Anomaly) + linear_trend + \\\n",
        "          seasonal11 + regressor4 + regressor5\n"
      ],
      "execution_count": 0,
      "outputs": []
    },
    {
      "cell_type": "markdown",
      "metadata": {
        "id": "pYkQ-awbXamO",
        "colab_type": "text"
      },
      "source": [
        "## run the models"
      ]
    },
    {
      "cell_type": "code",
      "metadata": {
        "ExecuteTime": {
          "end_time": "2020-02-28T00:01:32.607031Z",
          "start_time": "2020-02-28T00:01:32.585021Z"
        },
        "id": "3G6XVx_Qu9Ye",
        "colab_type": "code",
        "outputId": "20e81b1f-5c89-4e2e-91b5-ac0a81bafe5e",
        "colab": {
          "base_uri": "https://localhost:8080/",
          "height": 70
        }
      },
      "source": [
        "# Fit  model 1\n",
        "simple_dlm.fit()\n",
        "# Plot the fitted results\n",
        "simple_dlm.turnOff('data points')"
      ],
      "execution_count": 150,
      "outputs": [
        {
          "output_type": "stream",
          "text": [
            "Starting forward filtering...\n",
            "Forward filtering completed.\n",
            "Starting backward smoothing...\n"
          ],
          "name": "stdout"
        }
      ]
    },
    {
      "cell_type": "code",
      "metadata": {
        "ExecuteTime": {
          "end_time": "2020-02-28T00:01:34.094054Z",
          "start_time": "2020-02-28T00:01:34.053997Z"
        },
        "id": "EJI2wm-Eu9Yg",
        "colab_type": "code",
        "outputId": "43f16f59-5f95-4ab3-f656-2fbf311f0a7c",
        "colab": {
          "base_uri": "https://localhost:8080/",
          "height": 70
        }
      },
      "source": [
        "# Fit  model 2\n",
        "regressed_dlm.fit()\n",
        "# Plot the fitted results\n",
        "regressed_dlm.turnOff('data points')"
      ],
      "execution_count": 151,
      "outputs": [
        {
          "output_type": "stream",
          "text": [
            "Starting forward filtering...\n",
            "Forward filtering completed.\n",
            "Starting backward smoothing...\n"
          ],
          "name": "stdout"
        }
      ]
    },
    {
      "cell_type": "code",
      "metadata": {
        "id": "YL0rpIuw-38W",
        "colab_type": "code",
        "outputId": "ee733939-bc55-409e-aa8f-cf70763dfbec",
        "colab": {
          "base_uri": "https://localhost:8080/",
          "height": 70
        }
      },
      "source": [
        "# Fit  model 3\n",
        "regressed_dlm_noir.fit()\n",
        "# Plot the fitted results\n",
        "regressed_dlm_noir.turnOff('data points')"
      ],
      "execution_count": 152,
      "outputs": [
        {
          "output_type": "stream",
          "text": [
            "Starting forward filtering...\n",
            "Forward filtering completed.\n",
            "Starting backward smoothing...\n"
          ],
          "name": "stdout"
        }
      ]
    },
    {
      "cell_type": "code",
      "metadata": {
        "ExecuteTime": {
          "end_time": "2020-02-28T00:00:50.179468Z",
          "start_time": "2020-02-28T00:00:49.895146Z"
        },
        "id": "j1jXl9Avu9Yj",
        "colab_type": "code",
        "outputId": "e97d49a4-5c9b-4340-f52c-028f742c024b",
        "colab": {
          "base_uri": "https://localhost:8080/",
          "height": 264
        }
      },
      "source": [
        "simple_dlm.plot()"
      ],
      "execution_count": 153,
      "outputs": [
        {
          "output_type": "display_data",
          "data": {
            "image/png": "[encoded data removed]",
            "text/plain": [
              "<Figure size 432x288 with 3 Axes>"
            ]
          },
          "metadata": {
            "tags": [],
            "needs_background": "light"
          }
        }
      ]
    },
    {
      "cell_type": "markdown",
      "metadata": {
        "id": "jrqsUZPzVqWQ",
        "colab_type": "text"
      },
      "source": [
        "Figure 8: the compoonent of a simple additive model including a linear and a seasonal trend for global temperature anomaly, generated with the package pydlm which implements a Bayesian dynamic linear regression: the time series prediction on the original and smoothed time series are shown. The three subplots indicate: the original and de-noised time series (blue), the prediction at a 1-year horizon (labeled as one-day as the package assumes time units are days, but in our case they are years), and the smoothed time series (red)."
      ]
    },
    {
      "cell_type": "code",
      "metadata": {
        "id": "85c3tUs0_AKc",
        "colab_type": "code",
        "outputId": "69b18c3b-9bda-4de1-a900-7f967390f483",
        "colab": {
          "base_uri": "https://localhost:8080/",
          "height": 264
        }
      },
      "source": [
        "regressed_dlm_noir.plot()"
      ],
      "execution_count": 154,
      "outputs": [
        {
          "output_type": "display_data",
          "data": {
            "image/png": "[encoded data removed]",
            "text/plain": [
              "<Figure size 432x288 with 3 Axes>"
            ]
          },
          "metadata": {
            "tags": [],
            "needs_background": "light"
          }
        }
      ]
    },
    {
      "cell_type": "markdown",
      "metadata": {
        "id": "wbiSiZU4Wuzk",
        "colab_type": "text"
      },
      "source": [
        "Figure 9: the regression results based on model with linear plus seasonal components and regression on CO2. Colors as figure 8."
      ]
    },
    {
      "cell_type": "code",
      "metadata": {
        "ExecuteTime": {
          "end_time": "2020-02-27T13:59:22.550073Z",
          "start_time": "2020-02-27T13:59:21.912555Z"
        },
        "id": "B0wD8wf8u9Ym",
        "colab_type": "code",
        "outputId": "787f1176-1a32-40f6-d07b-84a2eefa1939",
        "colab": {
          "base_uri": "https://localhost:8080/",
          "height": 264
        }
      },
      "source": [
        "regressed_dlm.plot()"
      ],
      "execution_count": 155,
      "outputs": [
        {
          "output_type": "display_data",
          "data": {
            "image/png": "[encoded data removed]",
            "text/plain": [
              "<Figure size 432x288 with 3 Axes>"
            ]
          },
          "metadata": {
            "tags": [],
            "needs_background": "light"
          }
        }
      ]
    },
    {
      "cell_type": "markdown",
      "metadata": {
        "id": "Pt7e1lCnX9ee",
        "colab_type": "text"
      },
      "source": [
        "Figure 10: the regression results based on model with linear plus seasonal components and regression on CO2 and irradiance. This model captures both long term variance and variations on short time scales. Colors as figure 8."
      ]
    },
    {
      "cell_type": "code",
      "metadata": {
        "id": "i5OeK816_K2k",
        "colab_type": "code",
        "outputId": "53ec32ae-b76f-40f5-b28d-ad9ed6976cb7",
        "colab": {
          "base_uri": "https://localhost:8080/",
          "height": 105
        }
      },
      "source": [
        "print(\"\"\"MSE model fit: \n",
        "simple {:.3f},\n",
        "seasonality and CO2 regression {:.3f},\n",
        "seasonality and CO2 + solar irradiance regression {:.3f}\n",
        "\"\"\".format( \n",
        "simple_dlm.getMSE(), \n",
        "regressed_dlm_noir.getMSE(),\n",
        "regressed_dlm.getMSE()))"
      ],
      "execution_count": 157,
      "outputs": [
        {
          "output_type": "stream",
          "text": [
            "MSE model fit: \n",
            "simple 0.435,\n",
            "seasonality and CO2 regression 0.446,\n",
            "seasonality and CO2 + solar irradiance regression 0.451\n",
            "\n"
          ],
          "name": "stdout"
        }
      ]
    },
    {
      "cell_type": "markdown",
      "metadata": {
        "id": "v5qvD0BcZ5MS",
        "colab_type": "text"
      },
      "source": [
        "Comments: the models provided a modest fit to the data, explaining just under 50% of the variance. With the addition of regressors the models improve but only very slightly. A test suc as AIC or likelihood ratio should be performed to assess if the added complexity is justifies by the data."
      ]
    },
    {
      "cell_type": "markdown",
      "metadata": {
        "id": "PkRFWMSyZAdD",
        "colab_type": "text"
      },
      "source": [
        "# Visualize the components of the most complex model"
      ]
    },
    {
      "cell_type": "code",
      "metadata": {
        "ExecuteTime": {
          "end_time": "2020-02-27T13:59:23.153074Z",
          "start_time": "2020-02-27T13:59:22.641076Z"
        },
        "id": "iyuwBOxyu9Yo",
        "colab_type": "code",
        "outputId": "79a96a1e-3846-4ad3-fbd4-8663409ac358",
        "colab": {
          "base_uri": "https://localhost:8080/",
          "height": 264
        }
      },
      "source": [
        "regressed_dlm.plot('trend')"
      ],
      "execution_count": 162,
      "outputs": [
        {
          "output_type": "display_data",
          "data": {
            "image/png": "[encoded data removed]",
            "text/plain": [
              "<Figure size 432x288 with 3 Axes>"
            ]
          },
          "metadata": {
            "tags": [],
            "needs_background": "light"
          }
        }
      ]
    },
    {
      "cell_type": "code",
      "metadata": {
        "ExecuteTime": {
          "end_time": "2020-02-27T13:59:23.815374Z",
          "start_time": "2020-02-27T13:59:23.222121Z"
        },
        "id": "6qtPwfX5u9Yq",
        "colab_type": "code",
        "outputId": "a51a251c-6784-44df-d950-ba405caf8e77",
        "colab": {
          "base_uri": "https://localhost:8080/",
          "height": 264
        }
      },
      "source": [
        "regressed_dlm.plot('seasonal11')"
      ],
      "execution_count": 163,
      "outputs": [
        {
          "output_type": "display_data",
          "data": {
            "image/png": "[encoded data removed]",
            "text/plain": [
              "<Figure size 432x288 with 3 Axes>"
            ]
          },
          "metadata": {
            "tags": [],
            "needs_background": "light"
          }
        }
      ]
    },
    {
      "cell_type": "code",
      "metadata": {
        "ExecuteTime": {
          "end_time": "2020-02-27T13:59:30.268295Z",
          "start_time": "2020-02-27T13:59:29.713663Z"
        },
        "id": "_iXwbbcyu9Yt",
        "colab_type": "code",
        "outputId": "8cb5129e-091f-4e01-e299-ef53a016a19b",
        "colab": {
          "base_uri": "https://localhost:8080/",
          "height": 268
        }
      },
      "source": [
        "regressed_dlm.plot('regressor4')"
      ],
      "execution_count": 164,
      "outputs": [
        {
          "output_type": "display_data",
          "data": {
            "image/png": "[encoded data removed]",
            "text/plain": [
              "<Figure size 432x288 with 3 Axes>"
            ]
          },
          "metadata": {
            "tags": [],
            "needs_background": "light"
          }
        }
      ]
    },
    {
      "cell_type": "code",
      "metadata": {
        "id": "W5O5_v29AD5e",
        "colab_type": "code",
        "outputId": "4000c5a8-feee-405e-e1a7-6d9b452a9e6e",
        "colab": {
          "base_uri": "https://localhost:8080/",
          "height": 264
        }
      },
      "source": [
        "regressed_dlm.plot('regressor5')"
      ],
      "execution_count": 165,
      "outputs": [
        {
          "output_type": "display_data",
          "data": {
            "image/png": "[encoded data removed]",
            "text/plain": [
              "<Figure size 432x288 with 3 Axes>"
            ]
          },
          "metadata": {
            "tags": [],
            "needs_background": "light"
          }
        }
      ]
    },
    {
      "cell_type": "markdown",
      "metadata": {
        "id": "vrd4LbvXZJb8",
        "colab_type": "text"
      },
      "source": [
        "Figure 11: the 4 plots above show the components of the most complex lnear model. Colors as figure 8."
      ]
    },
    {
      "cell_type": "markdown",
      "metadata": {
        "id": "fBZFT9FaAMGM",
        "colab_type": "text"
      },
      "source": [
        "# Optional: \n",
        "for one or more of your models plot the residuals and discuss them following the examples here \n",
        "https://github.com/fedhere/MLTSA_FBianco/blob/master/CodeExamples/SARIMAXDiagnostics_financialTS.ipynb\n"
      ]
    },
    {
      "cell_type": "code",
      "metadata": {
        "ExecuteTime": {
          "end_time": "2020-02-27T14:19:07.782037Z",
          "start_time": "2020-02-27T14:19:04.698329Z"
        },
        "id": "2-LBgwJGu9Yw",
        "colab_type": "code",
        "outputId": "523e943d-2eda-4d5d-ca5b-a7e0c9396c32",
        "colab": {
          "base_uri": "https://localhost:8080/",
          "height": 803
        }
      },
      "source": [
        "pred = [np.array(simple_dlm.predict(i))[0][0][0] for i in range(len(climate.Anomaly))]\n",
        "err = [np.array(simple_dlm.predict(i))[1][0][0] for i in range(len(climate.Anomaly))]\n",
        "pl.plot(1960 + np.arange(len(climate.Anomaly)), climate.Anomaly, label=\"Anomaly\")\n",
        "pl.errorbar(1960 + np.arange(len(climate.Anomaly)), pred, yerr=err, label=\"prediction\")\n",
        "\n",
        "resids_simple = (climate.Anomaly.values - pred)\n",
        "pl.legend()\n",
        "pl.xlabel(\"year\")\n",
        "\n",
        "pl.figure()\n",
        "pl.errorbar(1960 + np.arange(len(climate.Anomaly)), resids_simple,  \n",
        "            fmt='o', label=\"residuals\")\n",
        "pl.legend()\n",
        "pl.plot([1961, 2010], [0, 0])\n",
        "pl.xlabel(\"year\")\n",
        "\n",
        "pl.figure()\n",
        "pl.hist(resids_simple);\n",
        "pl.xlabel(\"year\");\n",
        "\n"
      ],
      "execution_count": 202,
      "outputs": [
        {
          "output_type": "display_data",
          "data": {
            "image/png": "[encoded data removed]",
            "text/plain": [
              "<Figure size 432x288 with 1 Axes>"
            ]
          },
          "metadata": {
            "tags": [],
            "needs_background": "light"
          }
        },
        {
          "output_type": "display_data",
          "data": {
            "image/png": "[encoded data removed]",
            "text/plain": [
              "<Figure size 432x288 with 1 Axes>"
            ]
          },
          "metadata": {
            "tags": [],
            "needs_background": "light"
          }
        },
        {
          "output_type": "display_data",
          "data": {
            "image/png": "[encoded data removed]",
            "text/plain": [
              "<Figure size 432x288 with 1 Axes>"
            ]
          },
          "metadata": {
            "tags": [],
            "needs_background": "light"
          }
        }
      ]
    },
    {
      "cell_type": "markdown",
      "metadata": {
        "id": "0Ylr-o9QbLwJ",
        "colab_type": "text"
      },
      "source": [
        "Figure 12: Anomaly, prediction, and their residuals from the simple model (no regressors). Top: The data and prediction. Note how uncertanty in the prediction decreases as the model has more past points to predict the future. Middle: the resduals between data and predictions are plotted. An orange line indicates residuals=0 (perfect prediction). The range of the residuals is contained between -1.5 and 1 (standardized units). Bottom: histogram of the resituals: there are isolated negative residuals larger (in absolute value) than -1."
      ]
    },
    {
      "cell_type": "code",
      "metadata": {
        "ExecuteTime": {
          "end_time": "2020-02-27T14:19:11.262941Z",
          "start_time": "2020-02-27T14:19:11.141773Z"
        },
        "colab_type": "code",
        "outputId": "01e504e4-fcdc-45a9-b66a-7f9330ab02ae",
        "id": "0cnzWBIJAkzl",
        "colab": {
          "base_uri": "https://localhost:8080/",
          "height": 241
        }
      },
      "source": [
        "from statsmodels.graphics.gofplots import qqplot\n",
        "from matplotlib import pyplot\n",
        "# seed the random number generator\n",
        "seed(1)\n",
        "# generate univariate observations\n",
        "# q-q plot\n",
        "ax = pl.figure().add_subplot(111)\n",
        "ax.set_aspect('equal')\n",
        "qqplot(resids_simple, line='s', ax=ax)\n",
        "pyplot.show()"
      ],
      "execution_count": 204,
      "outputs": [
        {
          "output_type": "display_data",
          "data": {
            "image/png": "[encoded data removed]",
            "text/plain": [
              "<Figure size 432x288 with 1 Axes>"
            ]
          },
          "metadata": {
            "tags": [],
            "needs_background": "light"
          }
        }
      ]
    },
    {
      "cell_type": "markdown",
      "metadata": {
        "id": "8bPEXpHLcXfF",
        "colab_type": "text"
      },
      "source": [
        "Figure 13: \"quartile plot\" of the resuduals to the simple additive model (no regressors). The red line indicates Gaussian residuals. The residuals deviate slightly from gaussian, but are not obviously skewed either above or below the line overall"
      ]
    },
    {
      "cell_type": "code",
      "metadata": {
        "ExecuteTime": {
          "end_time": "2020-02-27T14:19:15.089938Z",
          "start_time": "2020-02-27T14:19:14.573275Z"
        },
        "colab_type": "code",
        "outputId": "9dd57635-9184-41c9-bbe4-b6bea3c38e4c",
        "id": "uzaKhxPGAn7n",
        "colab": {
          "base_uri": "https://localhost:8080/",
          "height": 778
        }
      },
      "source": [
        "pred = [np.array(regressed_dlm.predict(i))[0][0][0] for i in range(len(climate.Anomaly)-1)]\n",
        "err = [np.array(regressed_dlm.predict(i))[1][0][0] for i in range(len(climate.Anomaly)-1)]\n",
        "pl.plot(1960 + np.arange(len(climate.Anomaly)), climate.Anomaly, label=\"Anomaly\")\n",
        "pl.errorbar(1960 + np.arange(len(climate.Anomaly)-1), pred, yerr=err, label=\"prediction\")\n",
        "pl.legend()\n",
        "\n",
        "pl.figure()\n",
        "\n",
        "resids_complex = (climate.Anomaly.values[1:] - pred)\n",
        "pl.errorbar(1960 + np.arange(len(climate.Anomaly)-1), resids_complex, fmt='o',\n",
        " label=\"residuals\")\n",
        "pl.legend()\n",
        "pl.plot([1961, 2010], [0, 0])\n",
        "\n",
        "pl.figure()\n",
        "pl.legend()\n",
        "pl.hist(resids_complex);\n"
      ],
      "execution_count": 205,
      "outputs": [
        {
          "output_type": "stream",
          "text": [
            "No handles with labels found to put in legend.\n"
          ],
          "name": "stderr"
        },
        {
          "output_type": "display_data",
          "data": {
            "image/png": "[encoded data removed]",
            "text/plain": [
              "<Figure size 432x288 with 1 Axes>"
            ]
          },
          "metadata": {
            "tags": [],
            "needs_background": "light"
          }
        },
        {
          "output_type": "display_data",
          "data": {
            "image/png": "[encoded data removed]",
            "text/plain": [
              "<Figure size 432x288 with 1 Axes>"
            ]
          },
          "metadata": {
            "tags": [],
            "needs_background": "light"
          }
        },
        {
          "output_type": "display_data",
          "data": {
            "image/png": "[encoded data removed]",
            "text/plain": [
              "<Figure size 432x288 with 1 Axes>"
            ]
          },
          "metadata": {
            "tags": [],
            "needs_background": "light"
          }
        }
      ]
    },
    {
      "cell_type": "markdown",
      "metadata": {
        "id": "0IQDJbtpdd-K",
        "colab_type": "text"
      },
      "source": [
        "Figure 14: same as figure 12 for the most complex model including both regression on CO2 and on Irradiance. The residuals extend farther both above and below 0 "
      ]
    },
    {
      "cell_type": "code",
      "metadata": {
        "ExecuteTime": {
          "end_time": "2020-02-27T14:19:25.944800Z",
          "start_time": "2020-02-27T14:19:25.824453Z"
        },
        "id": "s8rgdsTau9ZA",
        "colab_type": "code",
        "outputId": "1d7fa353-6d1c-4b87-c8ab-320283de107a",
        "colab": {
          "base_uri": "https://localhost:8080/",
          "height": 278
        }
      },
      "source": [
        "from statsmodels.graphics.gofplots import qqplot\n",
        "from matplotlib import pyplot\n",
        "# seed the random number generator\n",
        "seed(1)\n",
        "# generate univariate observations\n",
        "# q-q plot\n",
        "ax = pl.figure().add_subplot(111)\n",
        "ax.set_aspect('equal')\n",
        "qqplot(resids_complex, line='s', ax=ax)\n",
        "pyplot.show()"
      ],
      "execution_count": 207,
      "outputs": [
        {
          "output_type": "display_data",
          "data": {
            "image/png": "[encoded data removed]",
            "text/plain": [
              "<Figure size 432x288 with 1 Axes>"
            ]
          },
          "metadata": {
            "tags": [],
            "needs_background": "light"
          }
        }
      ]
    },
    {
      "cell_type": "markdown",
      "metadata": {
        "id": "S1a8bzYcd4KQ",
        "colab_type": "text"
      },
      "source": [
        "Figure 15: same as figure 13, for the complex model described in Figures 10, and 11."
      ]
    },
    {
      "cell_type": "code",
      "metadata": {
        "ExecuteTime": {
          "end_time": "2020-02-27T14:19:29.111103Z",
          "start_time": "2020-02-27T14:19:29.106626Z"
        },
        "colab_type": "code",
        "outputId": "3da82955-1649-4f8d-bab3-d4b5a757c4e5",
        "id": "nRpzzbJmAs89",
        "colab": {
          "base_uri": "https://localhost:8080/",
          "height": 176
        }
      },
      "source": [
        "from scipy.stats import shapiro\n",
        "seed(1)\n",
        "# generate univariate observations\n",
        "# normality test\n",
        "print(\"SIMPLE MODEL\")\n",
        "stat, p = shapiro(resids_simple)\n",
        "print('Statistics=%.3f, p=%.3f' % (stat, p))\n",
        "# interpret\n",
        "alpha = 0.05\n",
        "if p > alpha:\n",
        "    print('Sample looks Gaussian (fail to reject H0)')\n",
        "else:\n",
        "    print('Sample does not look Gaussian (reject H0)')\n",
        "\n",
        "\n",
        "print(\"\\n\\n\\nCOMPLEX MODEL\")\n",
        "stat, p = shapiro(resids_complex)\n",
        "print('Statistics=%.3f, p=%.3f' % (stat, p))\n",
        "# interpret\n",
        "alpha = 0.05\n",
        "if p > alpha:\n",
        "    print('Sample looks Gaussian (fail to reject H0)')\n",
        "else:\n",
        "    print('Sample does not look Gaussian (reject H0)')"
      ],
      "execution_count": 208,
      "outputs": [
        {
          "output_type": "stream",
          "text": [
            "SIMPLE MODEL\n",
            "Statistics=0.977, p=0.391\n",
            "Sample looks Gaussian (fail to reject H0)\n",
            "\n",
            "\n",
            "\n",
            "COMPLEX MODEL\n",
            "Statistics=0.970, p=0.206\n",
            "Sample looks Gaussian (fail to reject H0)\n"
          ],
          "name": "stdout"
        }
      ]
    },
    {
      "cell_type": "markdown",
      "metadata": {
        "id": "wXv6jH8Ne2VQ",
        "colab_type": "text"
      },
      "source": [
        "In both cases, the residuals are statistically consistent with a Gaussian (unbiased) distribution indicating, in absence of better regressors, there is no evidence that the models fail to capture all the non-stokastic variance"
      ]
    },
    {
      "cell_type": "code",
      "metadata": {
        "id": "Q0gf3hYUf2i3",
        "colab_type": "code",
        "colab": {}
      },
      "source": [
        ""
      ],
      "execution_count": 0,
      "outputs": []
    }
  ]
}