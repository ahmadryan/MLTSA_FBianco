{
  "nbformat": 4,
  "nbformat_minor": 0,
  "metadata": {
    "colab": {
      "name": "autoencode_digits.ipynb",
      "provenance": [],
      "toc_visible": true,
      "authorship_tag": "ABX9TyPdbKMNJj9iPS31tqg6+zxQ",
      "include_colab_link": true
    },
    "kernelspec": {
      "name": "python3",
      "display_name": "Python 3"
    },
    "accelerator": "GPU"
  },
  "cells": [
    {
      "cell_type": "markdown",
      "metadata": {
        "id": "view-in-github",
        "colab_type": "text"
      },
      "source": [
        "<a href=\"https://colab.research.google.com/github/fedhere/MLTSA_FBianco/blob/master/CodeExamples/autoencode_digits.ipynb\" target=\"_parent\"><img src=\"https://colab.research.google.com/assets/colab-badge.svg\" alt=\"Open In Colab\"/></a>"
      ]
    },
    {
      "cell_type": "code",
      "metadata": {
        "id": "d4Hqug0lfaG9",
        "colab_type": "code",
        "outputId": "a42f8f1f-bb0b-479c-950c-a2e49fe4a349",
        "colab": {
          "base_uri": "https://localhost:8080/",
          "height": 102
        }
      },
      "source": [
        "import keras\n",
        "from keras.datasets import mnist\n",
        "from keras.models import Sequential\n",
        "from keras.layers import Dense#, Dropout, Flatten\n",
        "#from keras.layers import Conv2D, MaxPooling2D\n",
        "from keras import backend as K\n",
        "import glob\n",
        "import pylab as pl\n",
        "from PIL import Image\n",
        "\n",
        "%pylab inline\n"
      ],
      "execution_count": 61,
      "outputs": [
        {
          "output_type": "stream",
          "text": [
            "Populating the interactive namespace from numpy and matplotlib\n"
          ],
          "name": "stdout"
        },
        {
          "output_type": "stream",
          "text": [
            "/usr/local/lib/python3.6/dist-packages/IPython/core/magics/pylab.py:161: UserWarning: pylab import has clobbered these variables: ['f']\n",
            "`%matplotlib` prevents importing * from pylab and numpy\n",
            "  \"\\n`%matplotlib` prevents importing * from pylab and numpy\"\n"
          ],
          "name": "stderr"
        }
      ]
    },
    {
      "cell_type": "markdown",
      "metadata": {
        "id": "u8mW27gnf7U4",
        "colab_type": "text"
      },
      "source": [
        "# 1. change kernel to GPU \n",
        "go to runtime -> change runtime type -> GPU"
      ]
    },
    {
      "cell_type": "markdown",
      "metadata": {
        "id": "rNauAQ25gN3O",
        "colab_type": "text"
      },
      "source": [
        "# 2. load faces"
      ]
    },
    {
      "cell_type": "code",
      "metadata": {
        "id": "x3FjFffZHuN1",
        "colab_type": "code",
        "outputId": "f64c9b9a-15e5-4a72-934e-c731bac8f706",
        "colab": {
          "base_uri": "https://localhost:8080/",
          "height": 118
        }
      },
      "source": [
        "from google.colab import drive\n",
        "\n",
        "drive.mount(\"/content/gdrive\")\n"
      ],
      "execution_count": 3,
      "outputs": [
        {
          "output_type": "stream",
          "text": [
            "Go to this URL in a browser: https://accounts.google.com/o/oauth2/auth?client_id=947318989803-6bn6qk8qdgf4n4g3pfee6491hc0brc4i.apps.googleusercontent.com&redirect_uri=urn%3aietf%3awg%3aoauth%3a2.0%3aoob&response_type=code&scope=email%20https%3a%2f%2fwww.googleapis.com%2fauth%2fdocs.test%20https%3a%2f%2fwww.googleapis.com%2fauth%2fdrive%20https%3a%2f%2fwww.googleapis.com%2fauth%2fdrive.photos.readonly%20https%3a%2f%2fwww.googleapis.com%2fauth%2fpeopleapi.readonly\n",
            "\n",
            "Enter your authorization code:\n",
            "··········\n",
            "Mounted at /content/gdrive\n"
          ],
          "name": "stdout"
        }
      ]
    },
    {
      "cell_type": "code",
      "metadata": {
        "id": "QpMyfOMgHuKQ",
        "colab_type": "code",
        "outputId": "6ebce54d-6008-4b60-c55d-42f5fdf60b3b",
        "colab": {
          "base_uri": "https://localhost:8080/",
          "height": 33
        }
      },
      "source": [
        "cd /content/gdrive/My\\ Drive\n"
      ],
      "execution_count": 4,
      "outputs": [
        {
          "output_type": "stream",
          "text": [
            "/content/gdrive/My Drive\n"
          ],
          "name": "stdout"
        }
      ]
    },
    {
      "cell_type": "code",
      "metadata": {
        "id": "MdOSeP5RHuFd",
        "colab_type": "code",
        "outputId": "1886741b-f1c3-4736-a9b2-0111ab4ae334",
        "colab": {
          "base_uri": "https://localhost:8080/",
          "height": 33
        }
      },
      "source": [
        "cd MLTSA2020"
      ],
      "execution_count": 5,
      "outputs": [
        {
          "output_type": "stream",
          "text": [
            "/content/gdrive/My Drive/MLTSA2020\n"
          ],
          "name": "stdout"
        }
      ]
    },
    {
      "cell_type": "code",
      "metadata": {
        "id": "bANddO_THt7N",
        "colab_type": "code",
        "outputId": "054b3eab-6704-4c4f-d07d-270420af770b",
        "colab": {
          "base_uri": "https://localhost:8080/",
          "height": 102
        }
      },
      "source": [
        "\n",
        "!wget https://cswww.essex.ac.uk/mv/allfaces/faces95.zip"
      ],
      "execution_count": 6,
      "outputs": [
        {
          "output_type": "stream",
          "text": [
            "--2020-04-30 18:49:32--  https://cswww.essex.ac.uk/mv/allfaces/faces95.zip\n",
            "Resolving cswww.essex.ac.uk (cswww.essex.ac.uk)... 155.245.92.179\n",
            "Connecting to cswww.essex.ac.uk (cswww.essex.ac.uk)|155.245.92.179|:443... connected.\n",
            "HTTP request sent, awaiting response... ^C\n"
          ],
          "name": "stdout"
        }
      ]
    },
    {
      "cell_type": "code",
      "metadata": {
        "id": "AHDZP-xOIicS",
        "colab_type": "code",
        "colab": {}
      },
      "source": [
        "!unzip faces95.zip"
      ],
      "execution_count": 0,
      "outputs": []
    },
    {
      "cell_type": "code",
      "metadata": {
        "id": "3B74dUKdIiZe",
        "colab_type": "code",
        "colab": {}
      },
      "source": [
        "!ls faces95/*/*jpg"
      ],
      "execution_count": 0,
      "outputs": []
    },
    {
      "cell_type": "code",
      "metadata": {
        "id": "5AM2bSUPgIh8",
        "colab_type": "code",
        "colab": {
          "base_uri": "https://localhost:8080/",
          "height": 33
        },
        "outputId": "93a6f664-3069-4ddc-e64c-bb659bedb832"
      },
      "source": [
        "flist = glob.glob(\"faces95/*/*jpg\")\n",
        "N = len(flist)\n",
        "N\n"
      ],
      "execution_count": 59,
      "outputs": [
        {
          "output_type": "execute_result",
          "data": {
            "text/plain": [
              "1440"
            ]
          },
          "metadata": {
            "tags": []
          },
          "execution_count": 59
        }
      ]
    },
    {
      "cell_type": "code",
      "metadata": {
        "id": "mt0rKGbqgOv1",
        "colab_type": "code",
        "colab": {
          "base_uri": "https://localhost:8080/",
          "height": 373
        },
        "outputId": "8c906c33-e568-43dc-d9dd-b6a64ac7b1d8"
      },
      "source": [
        "imgs = np.zeros((N, 35,35, 1))\n",
        "for i,f in enumerate(flist):\n",
        "  if not i%50: print(i)\n",
        "  im = Image.open(flist[i])\n",
        "  np_im = numpy.array(im)[:,:,:3].astype(float) / 255 \n",
        "  imgs[i] = numpy.array(im)[25:165:4,25:165:4,:1].astype(float) / 255 "
      ],
      "execution_count": 62,
      "outputs": [
        {
          "output_type": "stream",
          "text": [
            "0\n"
          ],
          "name": "stdout"
        },
        {
          "output_type": "error",
          "ename": "KeyboardInterrupt",
          "evalue": "ignored",
          "traceback": [
            "\u001b[0;31m---------------------------------------------------------------------------\u001b[0m",
            "\u001b[0;31mKeyboardInterrupt\u001b[0m                         Traceback (most recent call last)",
            "\u001b[0;32m<ipython-input-62-3c8aa94990e5>\u001b[0m in \u001b[0;36m<module>\u001b[0;34m()\u001b[0m\n\u001b[1;32m      2\u001b[0m \u001b[0;32mfor\u001b[0m \u001b[0mi\u001b[0m\u001b[0;34m,\u001b[0m\u001b[0mf\u001b[0m \u001b[0;32min\u001b[0m \u001b[0menumerate\u001b[0m\u001b[0;34m(\u001b[0m\u001b[0mflist\u001b[0m\u001b[0;34m)\u001b[0m\u001b[0;34m:\u001b[0m\u001b[0;34m\u001b[0m\u001b[0;34m\u001b[0m\u001b[0m\n\u001b[1;32m      3\u001b[0m   \u001b[0;32mif\u001b[0m \u001b[0;32mnot\u001b[0m \u001b[0mi\u001b[0m\u001b[0;34m%\u001b[0m\u001b[0;36m50\u001b[0m\u001b[0;34m:\u001b[0m \u001b[0mprint\u001b[0m\u001b[0;34m(\u001b[0m\u001b[0mi\u001b[0m\u001b[0;34m)\u001b[0m\u001b[0;34m\u001b[0m\u001b[0;34m\u001b[0m\u001b[0m\n\u001b[0;32m----> 4\u001b[0;31m   \u001b[0mim\u001b[0m \u001b[0;34m=\u001b[0m \u001b[0mImage\u001b[0m\u001b[0;34m.\u001b[0m\u001b[0mopen\u001b[0m\u001b[0;34m(\u001b[0m\u001b[0mflist\u001b[0m\u001b[0;34m[\u001b[0m\u001b[0mi\u001b[0m\u001b[0;34m]\u001b[0m\u001b[0;34m)\u001b[0m\u001b[0;34m\u001b[0m\u001b[0;34m\u001b[0m\u001b[0m\n\u001b[0m\u001b[1;32m      5\u001b[0m   \u001b[0mnp_im\u001b[0m \u001b[0;34m=\u001b[0m \u001b[0mnumpy\u001b[0m\u001b[0;34m.\u001b[0m\u001b[0marray\u001b[0m\u001b[0;34m(\u001b[0m\u001b[0mim\u001b[0m\u001b[0;34m)\u001b[0m\u001b[0;34m[\u001b[0m\u001b[0;34m:\u001b[0m\u001b[0;34m,\u001b[0m\u001b[0;34m:\u001b[0m\u001b[0;34m,\u001b[0m\u001b[0;34m:\u001b[0m\u001b[0;36m3\u001b[0m\u001b[0;34m]\u001b[0m\u001b[0;34m.\u001b[0m\u001b[0mastype\u001b[0m\u001b[0;34m(\u001b[0m\u001b[0mfloat\u001b[0m\u001b[0;34m)\u001b[0m \u001b[0;34m/\u001b[0m \u001b[0;36m255\u001b[0m\u001b[0;34m\u001b[0m\u001b[0;34m\u001b[0m\u001b[0m\n\u001b[1;32m      6\u001b[0m   \u001b[0mimgs\u001b[0m\u001b[0;34m[\u001b[0m\u001b[0mi\u001b[0m\u001b[0;34m]\u001b[0m \u001b[0;34m=\u001b[0m \u001b[0mnumpy\u001b[0m\u001b[0;34m.\u001b[0m\u001b[0marray\u001b[0m\u001b[0;34m(\u001b[0m\u001b[0mim\u001b[0m\u001b[0;34m)\u001b[0m\u001b[0;34m[\u001b[0m\u001b[0;36m25\u001b[0m\u001b[0;34m:\u001b[0m\u001b[0;36m165\u001b[0m\u001b[0;34m:\u001b[0m\u001b[0;36m4\u001b[0m\u001b[0;34m,\u001b[0m\u001b[0;36m25\u001b[0m\u001b[0;34m:\u001b[0m\u001b[0;36m165\u001b[0m\u001b[0;34m:\u001b[0m\u001b[0;36m4\u001b[0m\u001b[0;34m,\u001b[0m\u001b[0;34m:\u001b[0m\u001b[0;36m1\u001b[0m\u001b[0;34m]\u001b[0m\u001b[0;34m.\u001b[0m\u001b[0mastype\u001b[0m\u001b[0;34m(\u001b[0m\u001b[0mfloat\u001b[0m\u001b[0;34m)\u001b[0m \u001b[0;34m/\u001b[0m \u001b[0;36m255\u001b[0m\u001b[0;34m\u001b[0m\u001b[0;34m\u001b[0m\u001b[0m\n",
            "\u001b[0;32m/usr/local/lib/python3.6/dist-packages/PIL/Image.py\u001b[0m in \u001b[0;36mopen\u001b[0;34m(fp, mode)\u001b[0m\n\u001b[1;32m   2816\u001b[0m         \u001b[0mexclusive_fp\u001b[0m \u001b[0;34m=\u001b[0m \u001b[0;32mTrue\u001b[0m\u001b[0;34m\u001b[0m\u001b[0;34m\u001b[0m\u001b[0m\n\u001b[1;32m   2817\u001b[0m \u001b[0;34m\u001b[0m\u001b[0m\n\u001b[0;32m-> 2818\u001b[0;31m     \u001b[0mprefix\u001b[0m \u001b[0;34m=\u001b[0m \u001b[0mfp\u001b[0m\u001b[0;34m.\u001b[0m\u001b[0mread\u001b[0m\u001b[0;34m(\u001b[0m\u001b[0;36m16\u001b[0m\u001b[0;34m)\u001b[0m\u001b[0;34m\u001b[0m\u001b[0;34m\u001b[0m\u001b[0m\n\u001b[0m\u001b[1;32m   2819\u001b[0m \u001b[0;34m\u001b[0m\u001b[0m\n\u001b[1;32m   2820\u001b[0m     \u001b[0mpreinit\u001b[0m\u001b[0;34m(\u001b[0m\u001b[0;34m)\u001b[0m\u001b[0;34m\u001b[0m\u001b[0;34m\u001b[0m\u001b[0m\n",
            "\u001b[0;31mKeyboardInterrupt\u001b[0m: "
          ]
        }
      ]
    },
    {
      "cell_type": "markdown",
      "metadata": {
        "id": "fPgi-4gMgRTo",
        "colab_type": "text"
      },
      "source": [
        "# digits first"
      ]
    },
    {
      "cell_type": "code",
      "metadata": {
        "id": "u3UsLpN7gRJy",
        "colab_type": "code",
        "outputId": "fc308801-f58b-4677-fd20-068626452cb5",
        "colab": {
          "base_uri": "https://localhost:8080/",
          "height": 296
        }
      },
      "source": [
        "from keras.datasets import mnist\n",
        "(x_train, _), (x_test, _) = mnist.load_data()\n",
        "\n",
        "img_rows, img_cols = 28, 28\n",
        "pl.imshow(x_train[0])\n",
        "pl.axis('off')\n",
        "intialshape = x_train[0].shape\n",
        "ndim = np.prod(x_train[0].shape)\n",
        "x_train.shape"
      ],
      "execution_count": 7,
      "outputs": [
        {
          "output_type": "stream",
          "text": [
            "Downloading data from https://s3.amazonaws.com/img-datasets/mnist.npz\n",
            "11493376/11490434 [==============================] - 2s 0us/step\n"
          ],
          "name": "stdout"
        },
        {
          "output_type": "execute_result",
          "data": {
            "text/plain": [
              "(60000, 28, 28)"
            ]
          },
          "metadata": {
            "tags": []
          },
          "execution_count": 7
        },
        {
          "output_type": "display_data",
          "data": {
            "image/png": "[encoded data removed]",
            "text/plain": [
              "<Figure size 432x288 with 1 Axes>"
            ]
          },
          "metadata": {
            "tags": [],
            "needs_background": "light"
          }
        }
      ]
    },
    {
      "cell_type": "code",
      "metadata": {
        "id": "1kgzSExkgQ9Q",
        "colab_type": "code",
        "outputId": "79d4f268-0f3d-49ea-b57a-241fcd4bf1f4",
        "colab": {
          "base_uri": "https://localhost:8080/",
          "height": 33
        }
      },
      "source": [
        "x_train.dtype, x_train.max(), x_train.min()\n"
      ],
      "execution_count": 8,
      "outputs": [
        {
          "output_type": "execute_result",
          "data": {
            "text/plain": [
              "(dtype('uint8'), 255, 0)"
            ]
          },
          "metadata": {
            "tags": []
          },
          "execution_count": 8
        }
      ]
    },
    {
      "cell_type": "code",
      "metadata": {
        "id": "9KhWi6TGhdv1",
        "colab_type": "code",
        "outputId": "d2bedf35-a205-41b0-df52-0e1744c940db",
        "colab": {
          "base_uri": "https://localhost:8080/",
          "height": 33
        }
      },
      "source": [
        "x_train = (x_train.astype(float) / 255).reshape(len(x_train), ndim)\n",
        "x_test = (x_test.astype(float) / 255).reshape(len(x_test), ndim)\n",
        "x_train.shape, x_test.shape"
      ],
      "execution_count": 9,
      "outputs": [
        {
          "output_type": "execute_result",
          "data": {
            "text/plain": [
              "((60000, 784), (10000, 784))"
            ]
          },
          "metadata": {
            "tags": []
          },
          "execution_count": 9
        }
      ]
    },
    {
      "cell_type": "markdown",
      "metadata": {
        "id": "huWbhFyJK4Vn",
        "colab_type": "text"
      },
      "source": [
        "# create a model"
      ]
    },
    {
      "cell_type": "code",
      "metadata": {
        "id": "4zR7X6JuK7WW",
        "colab_type": "code",
        "colab": {}
      },
      "source": [
        "keras.models?"
      ],
      "execution_count": 0,
      "outputs": []
    },
    {
      "cell_type": "code",
      "metadata": {
        "id": "eheFp_InJiao",
        "colab_type": "code",
        "colab": {}
      },
      "source": [
        "model_digits64 = Sequential()\n",
        "## encoder\n",
        "# input layer and the output size\n",
        "model_digits64.add(Dense(128, activation='relu', input_dim=ndim))\n",
        "#compression layer\n",
        "model_digits64.add(Dense(64, activation='relu'))\n",
        "## deencoder\n",
        "#decompression layer, same size as in the encoder\n",
        "model_digits64.add(Dense(128, activation='relu'))\n",
        "#output layer, same size as input\n",
        "model_digits64.add(Dense(ndim, activation='linear'))\n",
        "\n",
        "\n",
        "#alternative syntax\n",
        "\"\"\"\n",
        "encoded = Dense(encoding_dim, activation='relu')(input_img)\n",
        "# \"decoded\" is the lossy reconstruction of the input\n",
        "decoded = Dense(784, activation='sigmoid')(encoded)\n",
        "\n",
        "autoencoder = Model(input_img, decoded)\n",
        "\n",
        "encoder = Model(input_img, encoded)\n",
        "\n",
        "# create a placeholder for an encoded (32-dimensional) input\n",
        "encoded_input = Input(shape=(encoding_dim,))\n",
        "# retrieve the last layer of the autoencoder model\n",
        "decoder_layer = autoencoder.layers[-1]\n",
        "# create the decoder model\n",
        "decoder = Model(encoded_input, decoder_layer(encoded_input))\n",
        "\"\"\""
      ],
      "execution_count": 0,
      "outputs": []
    },
    {
      "cell_type": "markdown",
      "metadata": {
        "id": "h-jfXI90M0yE",
        "colab_type": "text"
      },
      "source": [
        "### regression\n",
        "- loss='mean_squared_error' L2: default loss to use for regression problems. => linear activation function in output layer, one node out\n",
        "\n",
        "alternatives:  loss='mean_squared_logarithmic_error', 'mean_absolute_error' (which is L1 instead of L2)\n",
        "### binary classification\n",
        "\n",
        "- loss='binary_crossentropy' => sigmoid activation function in output layer, one node out\n",
        "\n",
        "alternatives: 'hinge'\n",
        "\n",
        "### multiclass classification\n",
        "categorical encoded as numerical\n",
        "- loss='categorical_crossentropy' => softmax n nodes out\n",
        "\n",
        "onehot encoded categoridal\n",
        "- 'parse_categorical_crossentropy' => softmax n nodes out\n",
        "\n",
        "- 'kullback Leibler Divergence Loss' => probabilistic categorical classification; log(P/Q)"
      ]
    },
    {
      "cell_type": "markdown",
      "metadata": {
        "id": "2ZORHj6SPha0",
        "colab_type": "text"
      },
      "source": [
        "## optimizers\n",
        "- SGD: stocastic gradient descent \n",
        "    - nesterov=True -> momentum inclusion\n",
        "- adam: Adaptive moment estimation. **good in most cases**\n",
        "- adagrad: different steps for different parameters based on frequency (binary input) well-suited for dealing with sparse data.\n",
        "\n",
        "- adaDelta: like adagrad but compensated for vanishing learning rate problem\n",
        "\n",
        "momentum refers to looking one step back and make a decision that includes the slope there\n",
        "\n",
        "### parameter:\n",
        "generally you need to adjust the learning rate which is how much you change the parameters by at each step. \n",
        "keras.optimizers.Adam(lr=0.001)\n",
        "\n",
        "\n",
        "https://gitcdn.xyz/cdn/Tony607/blog_statics/e1a0b1e060e783bd1978a141acff897ae71bd021/images/optimizer/optimizer.gif"
      ]
    },
    {
      "cell_type": "code",
      "metadata": {
        "id": "MePeWiOJJsTi",
        "colab_type": "code",
        "colab": {}
      },
      "source": [
        "# choose the optimizer and loss appropriately!\n",
        "model_digits64.compile(optimizer=\"adadelta\", loss=\"mean_squared_error\")"
      ],
      "execution_count": 0,
      "outputs": []
    },
    {
      "cell_type": "code",
      "metadata": {
        "id": "KwCCOxn1Juxl",
        "colab_type": "code",
        "colab": {}
      },
      "source": [
        "print(model_digits64.summary())"
      ],
      "execution_count": 0,
      "outputs": []
    },
    {
      "cell_type": "code",
      "metadata": {
        "id": "HsWOelvIJun2",
        "colab_type": "code",
        "colab": {}
      },
      "source": [
        "history64 = model_digits64.fit(x_train, x_train, validation_data=(x_test, x_test), epochs=20, batch_size=100, verbose=1)"
      ],
      "execution_count": 0,
      "outputs": []
    },
    {
      "cell_type": "markdown",
      "metadata": {
        "id": "HJO05FMnRGtP",
        "colab_type": "text"
      },
      "source": [
        "# always look at the loss!"
      ]
    },
    {
      "cell_type": "code",
      "metadata": {
        "id": "VhfIAie1Jucz",
        "colab_type": "code",
        "colab": {}
      },
      "source": [
        "pl.plot(np.array(history64.history['loss']))\n",
        "pl.ylabel('loss')\n",
        "pl.xlabel('iteration')\n",
        "#pl.yscale('log')\n",
        "#pl.xscale('log')"
      ],
      "execution_count": 0,
      "outputs": []
    },
    {
      "cell_type": "markdown",
      "metadata": {
        "id": "iGTPRyFgRQTF",
        "colab_type": "text"
      },
      "source": [
        "# predict"
      ]
    },
    {
      "cell_type": "code",
      "metadata": {
        "id": "7exTCDcJKhU_",
        "colab_type": "code",
        "colab": {}
      },
      "source": [
        "output_image64 = model_digits64.predict(x_test)"
      ],
      "execution_count": 0,
      "outputs": []
    },
    {
      "cell_type": "code",
      "metadata": {
        "id": "qeFEGpTul4U6",
        "colab_type": "code",
        "colab": {}
      },
      "source": [
        "def compareinout(i, outim, testimg, initialshape=(28,28)):\n",
        "  fig = pl.figure(figsize(10,5))\n",
        "  ax = fig.add_subplot(121) \n",
        "  ax.imshow(testimg[i].reshape(initialshape) , cmap=\"bone\")\n",
        "  ax.get_xaxis().set_visible(False)\n",
        "  ax.get_yaxis().set_visible(False)\n",
        "  ax = fig.add_subplot(122) \n",
        "  ax.imshow(outim[i].reshape(initialshape) , cmap=\"bone\")\n",
        "  ax.get_xaxis().set_visible(False)\n",
        "  ax.get_yaxis().set_visible(False)\n"
      ],
      "execution_count": 0,
      "outputs": []
    },
    {
      "cell_type": "code",
      "metadata": {
        "id": "v3hzx41EKhOj",
        "colab_type": "code",
        "colab": {}
      },
      "source": [
        "for i in range(10):\n",
        "  compareinout(i, output_image64, x_test)"
      ],
      "execution_count": 0,
      "outputs": []
    },
    {
      "cell_type": "markdown",
      "metadata": {
        "id": "NsvBeF_nSJTO",
        "colab_type": "text"
      },
      "source": [
        "# change loss function"
      ]
    },
    {
      "cell_type": "code",
      "metadata": {
        "id": "sDXyqX7WKhHu",
        "colab_type": "code",
        "colab": {}
      },
      "source": [
        "# choose the optimizer and loss appropriately!\n",
        "model_digits64_sig = Sequential()\n",
        "## encoder\n",
        "# input layer and the output size\n",
        "model_digits64_sig.add(Dense(128, activation='relu', input_dim=ndim))\n",
        "#compression layer\n",
        "model_digits64_sig.add(Dense(64, activation='relu'))\n",
        "## deencoder\n",
        "#decompression layer, same size as in the encoder\n",
        "model_digits64_sig.add(Dense(128, activation='relu'))\n",
        "#output layer, same size as input\n",
        "model_digits64_sig.add(Dense(ndim, activation='sigmoid'))\n",
        "model_digits64_sig.compile(optimizer=\"adadelta\", loss=\"mean_squared_error\") #binary_cross_entropy)"
      ],
      "execution_count": 0,
      "outputs": []
    },
    {
      "cell_type": "code",
      "metadata": {
        "id": "hbxiT8xdKhC8",
        "colab_type": "code",
        "colab": {}
      },
      "source": [
        "history64_sig = model_digits64_sig.fit(x_train, x_train, \n",
        "                                       validation_data=(x_test, x_test), \n",
        "                                       epochs=20, batch_size=100, verbose=1)"
      ],
      "execution_count": 0,
      "outputs": []
    },
    {
      "cell_type": "code",
      "metadata": {
        "id": "dQFxJHtbR2RV",
        "colab_type": "code",
        "colab": {}
      },
      "source": [
        "pl.plot(np.array(history64_sig.history['loss']))\n",
        "pl.ylabel('loss')\n",
        "pl.xlabel('iteration')\n",
        "#pl.yscale('log')\n",
        "#pl.xscale('log')"
      ],
      "execution_count": 0,
      "outputs": []
    },
    {
      "cell_type": "code",
      "metadata": {
        "id": "1yOJ8s_xR2L3",
        "colab_type": "code",
        "colab": {}
      },
      "source": [
        "output_image64_sig = model_digits64_sig.predict(x_test)\n",
        "for i in range(10):\n",
        "  compareinout(i, output_image64_sig, x_test)"
      ],
      "execution_count": 0,
      "outputs": []
    },
    {
      "cell_type": "code",
      "metadata": {
        "id": "mBCGc4CLTXJ9",
        "colab_type": "code",
        "colab": {}
      },
      "source": [
        "# sigmoid and binary cross entropy loss\n",
        "model_digits64_bce = model_digits64_sig"
      ],
      "execution_count": 0,
      "outputs": []
    },
    {
      "cell_type": "code",
      "metadata": {
        "id": "ZH8X_lDVTlCs",
        "colab_type": "code",
        "colab": {}
      },
      "source": [
        "model_digits64_bce.compile(optimizer=\"adadelta\", loss=\"binary_crossentropy\")\n",
        "history64_bce = model_digits64_bce.fit(x_train, x_train, \n",
        "                                       validation_data=(x_test, x_test), \n",
        "                                       epochs=20, batch_size=100, verbose=1)"
      ],
      "execution_count": 0,
      "outputs": []
    },
    {
      "cell_type": "code",
      "metadata": {
        "id": "g94anP0NT4ET",
        "colab_type": "code",
        "colab": {}
      },
      "source": [
        "pl.plot(np.array(history64_bce.history['loss']))\n",
        "pl.ylabel('loss')\n",
        "pl.xlabel('iteration')\n",
        "#pl.yscale('log')\n",
        "#pl.xscale('log')"
      ],
      "execution_count": 0,
      "outputs": []
    },
    {
      "cell_type": "code",
      "metadata": {
        "id": "_HuqPELWT380",
        "colab_type": "code",
        "colab": {}
      },
      "source": [
        "output_image64_bce = model_digits64_bce.predict(x_test)\n",
        "for i in range(10):\n",
        "  compareinout(i, output_image64_bce, x_test)"
      ],
      "execution_count": 0,
      "outputs": []
    },
    {
      "cell_type": "code",
      "metadata": {
        "id": "5yWtDsH3T30C",
        "colab_type": "code",
        "colab": {}
      },
      "source": [
        "pl.plot(np.array(history64.history['loss']), label=\"linear\")\n",
        "pl.plot(np.array(history64_sig.history['loss']), label=\"sigmoid\")\n",
        "pl.plot(np.array(history64_bce.history['loss']), label=\"bce\")\n",
        "pl.ylabel('loss')\n",
        "pl.xlabel('iteration')\n",
        "pl.legend()\n",
        "pl.figure()\n",
        "pl.plot(np.array(history64.history['loss']), label=\"linear\")\n",
        "pl.plot(np.array(history64_sig.history['loss']), label=\"sigmoid\")\n",
        "pl.plot(np.array(history64_bce.history['loss']), label=\"bce\")\n",
        "pl.ylabel('loss')\n",
        "pl.xlabel('iteration')\n",
        "pl.xscale('log')\n",
        "pl.yscale('log')\n",
        "pl.legend()"
      ],
      "execution_count": 0,
      "outputs": []
    },
    {
      "cell_type": "markdown",
      "metadata": {
        "id": "tWUnoBqkKg9K",
        "colab_type": "text"
      },
      "source": [
        "# try more compression"
      ]
    },
    {
      "cell_type": "code",
      "metadata": {
        "id": "IXbjHrYSfwIP",
        "colab_type": "code",
        "colab": {}
      },
      "source": [
        "model_digits = Sequential()\n",
        "#encoder\n",
        "model_digits.add(Dense(128, activation='relu', input_dim=ndim))\n",
        "model_digits.add(Dense(64, activation='relu'))\n",
        "model_digits.add(Dense(32, activation='relu'))\n",
        "#bottle neck\n",
        "model_digits.add(Dense(16, activation='relu'))\n",
        "#decoder\n",
        "model_digits.add(Dense(32, activation='relu'))\n",
        "model_digits.add(Dense(64, activation='relu'))\n",
        "model_digits.add(Dense(128, activation='relu'))\n",
        "model_digits.add(Dense(ndim, activation='sigmoid'))\n"
      ],
      "execution_count": 0,
      "outputs": []
    },
    {
      "cell_type": "code",
      "metadata": {
        "id": "K6lGMsQki6RC",
        "colab_type": "code",
        "colab": {}
      },
      "source": [
        "model_digits.compile(optimizer=\"adadelta\", loss=\"binary_crossentropy\")"
      ],
      "execution_count": 0,
      "outputs": []
    },
    {
      "cell_type": "code",
      "metadata": {
        "id": "6QXiwgL0kPsy",
        "colab_type": "code",
        "outputId": "494ceea0-fb2b-490c-e697-47914598a0aa",
        "colab": {
          "base_uri": "https://localhost:8080/",
          "height": 423
        }
      },
      "source": [
        "print(model_digits.summary())"
      ],
      "execution_count": 12,
      "outputs": [
        {
          "output_type": "stream",
          "text": [
            "Model: \"sequential_1\"\n",
            "_________________________________________________________________\n",
            "Layer (type)                 Output Shape              Param #   \n",
            "=================================================================\n",
            "dense_1 (Dense)              (None, 128)               100480    \n",
            "_________________________________________________________________\n",
            "dense_2 (Dense)              (None, 64)                8256      \n",
            "_________________________________________________________________\n",
            "dense_3 (Dense)              (None, 32)                2080      \n",
            "_________________________________________________________________\n",
            "dense_4 (Dense)              (None, 16)                528       \n",
            "_________________________________________________________________\n",
            "dense_5 (Dense)              (None, 32)                544       \n",
            "_________________________________________________________________\n",
            "dense_6 (Dense)              (None, 64)                2112      \n",
            "_________________________________________________________________\n",
            "dense_7 (Dense)              (None, 128)               8320      \n",
            "_________________________________________________________________\n",
            "dense_8 (Dense)              (None, 784)               101136    \n",
            "=================================================================\n",
            "Total params: 223,456\n",
            "Trainable params: 223,456\n",
            "Non-trainable params: 0\n",
            "_________________________________________________________________\n",
            "None\n"
          ],
          "name": "stdout"
        }
      ]
    },
    {
      "cell_type": "code",
      "metadata": {
        "id": "65mlyV5hj8Od",
        "colab_type": "code",
        "outputId": "7794a818-16aa-4db7-dd62-c7967155a876",
        "colab": {
          "base_uri": "https://localhost:8080/",
          "height": 667
        }
      },
      "source": [
        "history = model_digits.fit(x_train, x_train, epochs=20, batch_size=100, verbose=1)"
      ],
      "execution_count": 13,
      "outputs": [
        {
          "output_type": "stream",
          "text": [
            "Epoch 1/20\n",
            "60000/60000 [==============================] - 5s 79us/step - loss: 0.2945\n",
            "Epoch 2/20\n",
            "60000/60000 [==============================] - 3s 57us/step - loss: 0.2500\n",
            "Epoch 3/20\n",
            "60000/60000 [==============================] - 3s 47us/step - loss: 0.2351\n",
            "Epoch 4/20\n",
            "60000/60000 [==============================] - 3s 48us/step - loss: 0.2176\n",
            "Epoch 5/20\n",
            "60000/60000 [==============================] - 3s 54us/step - loss: 0.2014\n",
            "Epoch 6/20\n",
            "60000/60000 [==============================] - 3s 50us/step - loss: 0.1837\n",
            "Epoch 7/20\n",
            "60000/60000 [==============================] - 3s 50us/step - loss: 0.1741\n",
            "Epoch 8/20\n",
            "60000/60000 [==============================] - 3s 49us/step - loss: 0.1658\n",
            "Epoch 9/20\n",
            "60000/60000 [==============================] - 3s 49us/step - loss: 0.1604\n",
            "Epoch 10/20\n",
            "60000/60000 [==============================] - 3s 48us/step - loss: 0.1563\n",
            "Epoch 11/20\n",
            "60000/60000 [==============================] - 3s 53us/step - loss: 0.1531\n",
            "Epoch 12/20\n",
            "60000/60000 [==============================] - 3s 48us/step - loss: 0.1504\n",
            "Epoch 13/20\n",
            "60000/60000 [==============================] - 3s 47us/step - loss: 0.1482\n",
            "Epoch 14/20\n",
            "60000/60000 [==============================] - 3s 48us/step - loss: 0.1462\n",
            "Epoch 15/20\n",
            "60000/60000 [==============================] - 3s 47us/step - loss: 0.1440\n",
            "Epoch 16/20\n",
            "60000/60000 [==============================] - 3s 47us/step - loss: 0.1421\n",
            "Epoch 17/20\n",
            "60000/60000 [==============================] - 3s 46us/step - loss: 0.1406\n",
            "Epoch 18/20\n",
            "60000/60000 [==============================] - 3s 50us/step - loss: 0.1392\n",
            "Epoch 19/20\n",
            "60000/60000 [==============================] - 3s 46us/step - loss: 0.1380\n",
            "Epoch 20/20\n",
            "60000/60000 [==============================] - 3s 45us/step - loss: 0.1369\n"
          ],
          "name": "stdout"
        }
      ]
    },
    {
      "cell_type": "code",
      "metadata": {
        "id": "nAbZDuXOlCZi",
        "colab_type": "code",
        "outputId": "b0993dcc-3c26-493b-b1c3-29ea4cf47bb1",
        "colab": {
          "base_uri": "https://localhost:8080/",
          "height": 282
        }
      },
      "source": [
        "pl.plot(np.array(history.history['loss']))\n",
        "pl.yscale('log')\n",
        "pl.xscale('log')"
      ],
      "execution_count": 14,
      "outputs": [
        {
          "output_type": "execute_result",
          "data": {
            "text/plain": [
              "[<matplotlib.lines.Line2D at 0x7f0bef7a25f8>]"
            ]
          },
          "metadata": {
            "tags": []
          },
          "execution_count": 14
        },
        {
          "output_type": "display_data",
          "data": {
            "image/png": "[encoded data removed]",
            "text/plain": [
              "<Figure size 432x288 with 1 Axes>"
            ]
          },
          "metadata": {
            "tags": [],
            "needs_background": "light"
          }
        }
      ]
    },
    {
      "cell_type": "code",
      "metadata": {
        "id": "31mTTaI4mCKw",
        "colab_type": "code",
        "outputId": "98ded7ca-31e5-42c1-d9db-f9608a899ceb",
        "colab": {
          "base_uri": "https://localhost:8080/",
          "height": 1000
        }
      },
      "source": [
        "output_image = model_digits.predict(x_test)\n",
        "\n",
        "for i in range(10):\n",
        "  compareinout(i, output_image, x_test)"
      ],
      "execution_count": 17,
      "outputs": [
        {
          "output_type": "display_data",
          "data": {
            "image/png": "[encoded data removed]",
            "text/plain": [
              "<Figure size 720x360 with 2 Axes>"
            ]
          },
          "metadata": {
            "tags": [],
            "needs_background": "light"
          }
        },
        {
          "output_type": "display_data",
          "data": {
            "image/png": "[encoded data removed]",
            "text/plain": [
              "<Figure size 720x360 with 2 Axes>"
            ]
          },
          "metadata": {
            "tags": [],
            "needs_background": "light"
          }
        },
        {
          "output_type": "display_data",
          "data": {
            "image/png": "[encoded data removed]",
            "text/plain": [
              "<Figure size 720x360 with 2 Axes>"
            ]
          },
          "metadata": {
            "tags": [],
            "needs_background": "light"
          }
        },
        {
          "output_type": "display_data",
          "data": {
            "image/png": "[encoded data removed]",
            "text/plain": [
              "<Figure size 720x360 with 2 Axes>"
            ]
          },
          "metadata": {
            "tags": [],
            "needs_background": "light"
          }
        },
        {
          "output_type": "display_data",
          "data": {
            "image/png": "[encoded data removed]",
            "text/plain": [
              "<Figure size 720x360 with 2 Axes>"
            ]
          },
          "metadata": {
            "tags": [],
            "needs_background": "light"
          }
        },
        {
          "output_type": "display_data",
          "data": {
            "image/png": "[encoded data removed]",
            "text/plain": [
              "<Figure size 720x360 with 2 Axes>"
            ]
          },
          "metadata": {
            "tags": [],
            "needs_background": "light"
          }
        },
        {
          "output_type": "display_data",
          "data": {
            "image/png": "[encoded data removed]",
            "text/plain": [
              "<Figure size 720x360 with 2 Axes>"
            ]
          },
          "metadata": {
            "tags": [],
            "needs_background": "light"
          }
        },
        {
          "output_type": "display_data",
          "data": {
            "image/png": "[encoded data removed]",
            "text/plain": [
              "<Figure size 720x360 with 2 Axes>"
            ]
          },
          "metadata": {
            "tags": [],
            "needs_background": "light"
          }
        },
        {
          "output_type": "display_data",
          "data": {
            "image/png": "[encoded data removed]",
            "text/plain": [
              "<Figure size 720x360 with 2 Axes>"
            ]
          },
          "metadata": {
            "tags": [],
            "needs_background": "light"
          }
        },
        {
          "output_type": "display_data",
          "data": {
            "image/png": "[encoded data removed]",
            "text/plain": [
              "<Figure size 720x360 with 2 Axes>"
            ]
          },
          "metadata": {
            "tags": [],
            "needs_background": "light"
          }
        }
      ]
    },
    {
      "cell_type": "markdown",
      "metadata": {
        "id": "CNcgMuEWd_m-",
        "colab_type": "text"
      },
      "source": [
        "# Extract feature"
      ]
    },
    {
      "cell_type": "code",
      "metadata": {
        "id": "yHA4zE6xmacQ",
        "colab_type": "code",
        "outputId": "b1e9b76e-1c68-4269-f7cf-da85d508d67a",
        "colab": {
          "base_uri": "https://localhost:8080/",
          "height": 103
        }
      },
      "source": [
        "from keras import backend as K\n",
        "\n",
        "inp = model_digits.input                                           # input placeholder\n",
        "outputs = model_digits.layers[3].output         # all layer outputs\n",
        "functors = K.function([inp], [outputs])    # evaluation functions\n",
        "\n",
        "# Testing\n",
        "layer_outs = functors(x_test[:1])\n",
        "pl.imshow(layer_outs[0])"
      ],
      "execution_count": 42,
      "outputs": [
        {
          "output_type": "execute_result",
          "data": {
            "text/plain": [
              "<matplotlib.image.AxesImage at 0x7f0beebbf5f8>"
            ]
          },
          "metadata": {
            "tags": []
          },
          "execution_count": 42
        },
        {
          "output_type": "display_data",
          "data": {
            "image/png": "[encoded data removed]",
            "text/plain": [
              "<Figure size 720x360 with 1 Axes>"
            ]
          },
          "metadata": {
            "tags": [],
            "needs_background": "light"
          }
        }
      ]
    },
    {
      "cell_type": "code",
      "metadata": {
        "id": "QoT7vdpjWfk8",
        "colab_type": "code",
        "colab": {}
      },
      "source": [
        "def compareinout_encoded(i, outim, testimg, initialshape=(28,28)):\n",
        "  fig = pl.figure(figsize(10,5))\n",
        "  ax = fig.add_subplot(131) \n",
        "  ax.imshow(testimg[i].reshape(initialshape) , cmap=\"bone\")\n",
        "  ax.get_xaxis().set_visible(False)\n",
        "  ax.get_yaxis().set_visible(False)\n",
        "  ax = fig.add_subplot(132)\n",
        "  pl.imshow(functors(testimg[i:i+1])[0])\n",
        "  ax = fig.add_subplot(133) \n",
        "  ax.imshow(outim[i].reshape(initialshape) , cmap=\"bone\")\n",
        "  ax.get_xaxis().set_visible(False)\n",
        "  ax.get_yaxis().set_visible(False)\n"
      ],
      "execution_count": 0,
      "outputs": []
    },
    {
      "cell_type": "code",
      "metadata": {
        "id": "HvFp8cTbcdKa",
        "colab_type": "code",
        "colab": {
          "base_uri": "https://localhost:8080/",
          "height": 1000
        },
        "outputId": "69bc2f0b-2f05-459b-bc2e-009b231703e9"
      },
      "source": [
        "for i in range(10):\n",
        "  compareinout_encoded(i, output_image, x_test)"
      ],
      "execution_count": 55,
      "outputs": [
        {
          "output_type": "display_data",
          "data": {
            "image/png": "[encoded data removed]",
            "text/plain": [
              "<Figure size 720x360 with 3 Axes>"
            ]
          },
          "metadata": {
            "tags": [],
            "needs_background": "light"
          }
        },
        {
          "output_type": "display_data",
          "data": {
            "image/png": "[encoded data removed]",
            "text/plain": [
              "<Figure size 720x360 with 3 Axes>"
            ]
          },
          "metadata": {
            "tags": [],
            "needs_background": "light"
          }
        },
        {
          "output_type": "display_data",
          "data": {
            "image/png": "[encoded data removed]",
            "text/plain": [
              "<Figure size 720x360 with 3 Axes>"
            ]
          },
          "metadata": {
            "tags": [],
            "needs_background": "light"
          }
        },
        {
          "output_type": "display_data",
          "data": {
            "image/png": "[encoded data removed]",
            "text/plain": [
              "<Figure size 720x360 with 3 Axes>"
            ]
          },
          "metadata": {
            "tags": [],
            "needs_background": "light"
          }
        },
        {
          "output_type": "display_data",
          "data": {
            "image/png": "[encoded data removed]",
            "text/plain": [
              "<Figure size 720x360 with 3 Axes>"
            ]
          },
          "metadata": {
            "tags": [],
            "needs_background": "light"
          }
        },
        {
          "output_type": "display_data",
          "data": {
            "image/png": "[encoded data removed]",
            "text/plain": [
              "<Figure size 720x360 with 3 Axes>"
            ]
          },
          "metadata": {
            "tags": [],
            "needs_background": "light"
          }
        },
        {
          "output_type": "display_data",
          "data": {
            "image/png": "[encoded data removed]",
            "text/plain": [
              "<Figure size 720x360 with 3 Axes>"
            ]
          },
          "metadata": {
            "tags": [],
            "needs_background": "light"
          }
        },
        {
          "output_type": "display_data",
          "data": {
            "image/png": "[encoded data removed]",
            "text/plain": [
              "<Figure size 720x360 with 3 Axes>"
            ]
          },
          "metadata": {
            "tags": [],
            "needs_background": "light"
          }
        },
        {
          "output_type": "display_data",
          "data": {
            "image/png": "[encoded data removed]",
            "text/plain": [
              "<Figure size 720x360 with 3 Axes>"
            ]
          },
          "metadata": {
            "tags": [],
            "needs_background": "light"
          }
        },
        {
          "output_type": "display_data",
          "data": {
            "image/png": "[encoded data removed]",
            "text/plain": [
              "<Figure size 720x360 with 3 Axes>"
            ]
          },
          "metadata": {
            "tags": [],
            "needs_background": "light"
          }
        }
      ]
    },
    {
      "cell_type": "code",
      "metadata": {
        "id": "ivBrwoxqddZv",
        "colab_type": "code",
        "colab": {}
      },
      "source": [
        ""
      ],
      "execution_count": 0,
      "outputs": []
    }
  ]
}