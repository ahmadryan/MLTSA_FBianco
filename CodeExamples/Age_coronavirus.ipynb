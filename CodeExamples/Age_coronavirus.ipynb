{
  "nbformat": 4,
  "nbformat_minor": 0,
  "metadata": {
    "kernelspec": {
      "display_name": "Python 3",
      "language": "python",
      "name": "python3"
    },
    "language_info": {
      "codemirror_mode": {
        "name": "ipython",
        "version": 3
      },
      "file_extension": ".py",
      "mimetype": "text/x-python",
      "name": "python",
      "nbconvert_exporter": "python",
      "pygments_lexer": "ipython3",
      "version": "3.7.3"
    },
    "latex_envs": {
      "LaTeX_envs_menu_present": true,
      "autoclose": false,
      "autocomplete": true,
      "bibliofile": "biblio.bib",
      "cite_by": "apalike",
      "current_citInitial": 1,
      "eqLabelWithNumbers": true,
      "eqNumInitial": 1,
      "hotkeys": {
        "equation": "Ctrl-E",
        "itemize": "Ctrl-I"
      },
      "labels_anchors": false,
      "latex_user_defs": false,
      "report_style_numbering": false,
      "user_envs_cfg": false
    },
    "nbTranslate": {
      "displayLangs": [
        "*"
      ],
      "hotkey": "alt-t",
      "langInMainMenu": true,
      "sourceLang": "en",
      "targetLang": "fr",
      "useGoogleTranslate": true
    },
    "toc": {
      "base_numbering": 1,
      "nav_menu": {},
      "number_sections": true,
      "sideBar": true,
      "skip_h1_title": false,
      "title_cell": "Table of Contents",
      "title_sidebar": "Contents",
      "toc_cell": false,
      "toc_position": {},
      "toc_section_display": true,
      "toc_window_display": false
    },
    "colab": {
      "name": "Age_coronavirus.ipynb",
      "provenance": [],
      "include_colab_link": true
    }
  },
  "cells": [
    {
      "cell_type": "markdown",
      "metadata": {
        "id": "view-in-github",
        "colab_type": "text"
      },
      "source": [
        "<a href=\"https://colab.research.google.com/github/fedhere/MLTSA_FBianco/blob/master/CodeExamples/Age_coronavirus.ipynb\" target=\"_parent\"><img src=\"https://colab.research.google.com/assets/colab-badge.svg\" alt=\"Open In Colab\"/></a>"
      ]
    },
    {
      "cell_type": "markdown",
      "metadata": {
        "id": "DPfsnvx6TM0J",
        "colab_type": "text"
      },
      "source": [
        "**a quick, possibly (certainly) buggy analysis of the cornavirus data on Kaggle https://www.kaggle.com/sudalairajkumar/novel-corona-virus-2019-dataset**"
      ]
    },
    {
      "cell_type": "markdown",
      "metadata": {
        "id": "lOi-YJrBTcLL",
        "colab_type": "text"
      },
      "source": [
        "Visualizing the number of deaths, and the presence of the virus by country\n",
        "\n",
        "TODO: \n",
        "* export the bokeh interactive plot to the web\n",
        "* normalize by population\n",
        "* review and kill bugs\n",
        "* review and simplify syntax\n",
        "* review and comment for posterity"
      ]
    },
    {
      "cell_type": "code",
      "metadata": {
        "id": "R_VklRmaV3nK",
        "colab_type": "code",
        "outputId": "b86edd1c-9586-4d92-ae66-b80b53bc22df",
        "colab": {
          "base_uri": "https://localhost:8080/",
          "height": 212
        }
      },
      "source": [
        "!pip install kaggle"
      ],
      "execution_count": 3,
      "outputs": [
        {
          "output_type": "stream",
          "text": [
            "Requirement already satisfied: kaggle in /usr/local/lib/python3.6/dist-packages (1.5.6)\n",
            "Requirement already satisfied: python-dateutil in /usr/local/lib/python3.6/dist-packages (from kaggle) (2.6.1)\n",
            "Requirement already satisfied: certifi in /usr/local/lib/python3.6/dist-packages (from kaggle) (2019.11.28)\n",
            "Requirement already satisfied: requests in /usr/local/lib/python3.6/dist-packages (from kaggle) (2.21.0)\n",
            "Requirement already satisfied: six>=1.10 in /usr/local/lib/python3.6/dist-packages (from kaggle) (1.12.0)\n",
            "Requirement already satisfied: urllib3<1.25,>=1.21.1 in /usr/local/lib/python3.6/dist-packages (from kaggle) (1.24.3)\n",
            "Requirement already satisfied: tqdm in /usr/local/lib/python3.6/dist-packages (from kaggle) (4.28.1)\n",
            "Requirement already satisfied: python-slugify in /usr/local/lib/python3.6/dist-packages (from kaggle) (4.0.0)\n",
            "Requirement already satisfied: chardet<3.1.0,>=3.0.2 in /usr/local/lib/python3.6/dist-packages (from requests->kaggle) (3.0.4)\n",
            "Requirement already satisfied: idna<2.9,>=2.5 in /usr/local/lib/python3.6/dist-packages (from requests->kaggle) (2.8)\n",
            "Requirement already satisfied: text-unidecode>=1.3 in /usr/local/lib/python3.6/dist-packages (from python-slugify->kaggle) (1.3)\n"
          ],
          "name": "stdout"
        }
      ]
    },
    {
      "cell_type": "code",
      "metadata": {
        "ExecuteTime": {
          "end_time": "2020-03-08T19:57:52.517177Z",
          "start_time": "2020-03-08T19:57:51.654212Z"
        },
        "id": "sEDQ2oagTJmh",
        "colab_type": "code",
        "outputId": "5a2be898-3c6a-429c-c0d2-92f55c0ce8ae",
        "colab": {
          "base_uri": "https://localhost:8080/",
          "height": 34
        }
      },
      "source": [
        "import pandas as pd\n",
        "import pylab as pl\n",
        "import json\n",
        "import os\n",
        "%pylab inline\n",
        "\n",
        "pl.style.use(\"bmh\")"
      ],
      "execution_count": 39,
      "outputs": [
        {
          "output_type": "stream",
          "text": [
            "Populating the interactive namespace from numpy and matplotlib\n"
          ],
          "name": "stdout"
        }
      ]
    },
    {
      "cell_type": "code",
      "metadata": {
        "id": "nAG5AlJ6WHdr",
        "colab_type": "code",
        "outputId": "595845ef-2247-4482-8313-ec157053a8b5",
        "colab": {
          "base_uri": "https://localhost:8080/",
          "height": 54
        }
      },
      "source": [
        "from google.colab import drive\n",
        "\n",
        "drive.mount(\"/content/gdrive\")\n"
      ],
      "execution_count": 6,
      "outputs": [
        {
          "output_type": "stream",
          "text": [
            "Drive already mounted at /content/gdrive; to attempt to forcibly remount, call drive.mount(\"/content/gdrive\", force_remount=True).\n"
          ],
          "name": "stdout"
        }
      ]
    },
    {
      "cell_type": "code",
      "metadata": {
        "id": "eP8jrBD1WHQX",
        "colab_type": "code",
        "outputId": "ef04852a-4363-4956-c542-d9502e9c231e",
        "colab": {
          "base_uri": "https://localhost:8080/",
          "height": 34
        }
      },
      "source": [
        "cd gdrive/My\\ Drive/\n"
      ],
      "execution_count": 7,
      "outputs": [
        {
          "output_type": "stream",
          "text": [
            "/content/gdrive/My Drive\n"
          ],
          "name": "stdout"
        }
      ]
    },
    {
      "cell_type": "code",
      "metadata": {
        "id": "NWelF0tnWckD",
        "colab_type": "code",
        "outputId": "364ca916-c64c-42b6-803c-dde816f5eb45",
        "colab": {
          "base_uri": "https://localhost:8080/",
          "height": 34
        }
      },
      "source": [
        "!ls kaggle.json"
      ],
      "execution_count": 8,
      "outputs": [
        {
          "output_type": "stream",
          "text": [
            "kaggle.json\n"
          ],
          "name": "stdout"
        }
      ]
    },
    {
      "cell_type": "code",
      "metadata": {
        "id": "Cup6yqlnWhER",
        "colab_type": "code",
        "colab": {}
      },
      "source": [
        "!chmod 600 kaggle.json\n"
      ],
      "execution_count": 0,
      "outputs": []
    },
    {
      "cell_type": "code",
      "metadata": {
        "id": "AP87qVPOWfcr",
        "colab_type": "code",
        "colab": {}
      },
      "source": [
        "\n",
        "envs = json.load(open(\"kaggle.json\", \"r\"))\n",
        "os.environ[\"KAGGLE_USERNAME\"] = envs['username']\n",
        "os.environ[\"KAGGLE_KEY\"] = envs['key']"
      ],
      "execution_count": 0,
      "outputs": []
    },
    {
      "cell_type": "code",
      "metadata": {
        "id": "Aw3fLh_IWGsQ",
        "colab_type": "code",
        "outputId": "39499ddb-4c4a-4fc6-9168-3d5d9951bee2",
        "colab": {
          "base_uri": "https://localhost:8080/",
          "height": 445
        }
      },
      "source": [
        "!kaggle datasets list -s coronavirus\n"
      ],
      "execution_count": 11,
      "outputs": [
        {
          "output_type": "stream",
          "text": [
            "Warning: Looks like you're using an outdated API Version, please consider updating (server 1.5.6 / client 1.5.4)\n",
            "ref                                                             title                                                size  lastUpdated          downloadCount  \n",
            "--------------------------------------------------------------  --------------------------------------------------  -----  -------------------  -------------  \n",
            "kimjihoo/coronavirusdataset                                     Coronavirus-Dataset                                  32KB  2020-03-13 13:48:11          15045  \n",
            "jamzing/sars-coronavirus-accession                              SARS CORONAVIRUS ACCESSION                            2MB  2020-02-18 15:49:34           2223  \n",
            "brendaso/2019-coronavirus-dataset-01212020-01262020             2019 Coronavirus dataset (January - February 2020)   53KB  2020-02-06 18:09:28           8554  \n",
            "paultimothymooney/coronavirus-genome-sequence                   Coronavirus Genome Sequence                           9MB  2020-02-29 00:25:13            264  \n",
            "gpreda/coronavirus-2019ncov                                     Coronavirus 2019-nCoV                                40KB  2020-03-16 09:44:01            166  \n",
            "sudalairajkumar/novel-corona-virus-2019-dataset                 Novel Corona Virus 2019 Dataset                     361KB  2020-03-16 04:41:05          48012  \n",
            "grebublin/coronavirus-latlon-dataset                            Coronavirus Lat/Lon Dataset                         163KB  2020-03-13 16:34:49            455  \n",
            "vignesh1694/covid19-coronavirus                                 COVID-19 Coronavirus Dataset                        240KB  2020-03-13 15:03:18            423  \n",
            "sudalairajkumar/covid19-in-italy                                COVID-19 in Italy                                    29KB  2020-03-16 04:47:51            620  \n",
            "paultimothymooney/repository-of-coronavirus-genomes             Repository of Coronavirus Genomes                    37MB  2020-03-03 02:01:34            151  \n",
            "lperez/coronavirus-france-dataset                               Coronavirus France dataset                           10KB  2020-03-15 06:04:39             72  \n",
            "tunguz/coronavirus-2019ncov-parameters-and-predictions          Coronavirus 2019-nCoV: Parameters and Predictions     1MB  2020-02-05 16:47:18            140  \n",
            "smid80/coronavirus-covid19-tweets                               Coronavirus (covid19) Tweets                        265MB  2020-03-14 13:25:36             47  \n",
            "imdevskp/corona-virus-report                                    COVID-19 Complete Dataset (Updated every 24hrs)      73KB  2020-03-16 14:44:42           6014  \n",
            "parulpandey/2020-conferences-cancelled-due-to-coronavirus       2020 Conferences Cancelled due to Coronavirus         1KB  2020-03-11 16:26:19             11  \n",
            "akshat4112/coronavirustweets                                    coronavirus-tweets                                    1MB  2020-03-08 05:26:49             18  \n",
            "yassinehamdaoui1/coronavirus-source-data-covid19-daily-reports  Coronavirus Source Data (COVID-19) Daily reports     22KB  2020-03-12 23:15:37             77  \n",
            "mathurinache/microbescope-coronavirus-zika-ebola                MicrobeScope - Coronavirus, Zika, Ebola             225KB  2020-01-29 12:57:39             98  \n",
            "carlsonhoo/coronavirus-tweets                                   Coronavirus Tweets                                    2GB  2020-03-05 07:02:37             29  \n",
            "ilvlan/covid19-01222020-to-02272020                             novel coronavirus 2019                               37MB  2020-03-08 20:24:27             39  \n"
          ],
          "name": "stdout"
        }
      ]
    },
    {
      "cell_type": "code",
      "metadata": {
        "id": "aYuyniiBXrCX",
        "colab_type": "code",
        "outputId": "a94aa82c-d0a3-457d-9bb9-7acce9e212a2",
        "colab": {
          "base_uri": "https://localhost:8080/",
          "height": 34
        }
      },
      "source": [
        "!mkdir cv19"
      ],
      "execution_count": 12,
      "outputs": [
        {
          "output_type": "stream",
          "text": [
            "mkdir: cannot create directory ‘cv19’: File exists\n"
          ],
          "name": "stdout"
        }
      ]
    },
    {
      "cell_type": "code",
      "metadata": {
        "id": "3yYEgINhXq0w",
        "colab_type": "code",
        "outputId": "36ce51d6-0266-42f6-eb7c-ede7bed9ad53",
        "colab": {
          "base_uri": "https://localhost:8080/",
          "height": 34
        }
      },
      "source": [
        "cd cv19/\n"
      ],
      "execution_count": 13,
      "outputs": [
        {
          "output_type": "stream",
          "text": [
            "/content/gdrive/My Drive/cv19\n"
          ],
          "name": "stdout"
        }
      ]
    },
    {
      "cell_type": "code",
      "metadata": {
        "id": "0BwcwdNzXql9",
        "colab_type": "code",
        "outputId": "a72cd84e-483c-4bee-9c1b-6dbdf57f38f7",
        "colab": {
          "base_uri": "https://localhost:8080/",
          "height": 34
        }
      },
      "source": [
        "mkdir data\n"
      ],
      "execution_count": 14,
      "outputs": [
        {
          "output_type": "stream",
          "text": [
            "mkdir: cannot create directory ‘data’: File exists\n"
          ],
          "name": "stdout"
        }
      ]
    },
    {
      "cell_type": "code",
      "metadata": {
        "id": "9elrwaI5XqZh",
        "colab_type": "code",
        "outputId": "e88fb1f7-3b1a-4484-d072-a74ce1c6309a",
        "colab": {
          "base_uri": "https://localhost:8080/",
          "height": 34
        }
      },
      "source": [
        "cd data"
      ],
      "execution_count": 15,
      "outputs": [
        {
          "output_type": "stream",
          "text": [
            "/content/gdrive/My Drive/cv19/data\n"
          ],
          "name": "stdout"
        }
      ]
    },
    {
      "cell_type": "code",
      "metadata": {
        "id": "Up7kWqF_X3dQ",
        "colab_type": "code",
        "outputId": "e158a18e-160b-4d1a-b794-80cede99068f",
        "colab": {
          "base_uri": "https://localhost:8080/",
          "height": 70
        }
      },
      "source": [
        "!kaggle datasets download kimjihoo/coronavirusdataset  "
      ],
      "execution_count": 16,
      "outputs": [
        {
          "output_type": "stream",
          "text": [
            "Downloading coronavirusdataset.zip to /content/gdrive/My Drive/cv19/data\n",
            "100% 32.2k/32.2k [00:00<00:00, 46.8kB/s]\n",
            "\n"
          ],
          "name": "stdout"
        }
      ]
    },
    {
      "cell_type": "code",
      "metadata": {
        "id": "w6K1mkwDX3P2",
        "colab_type": "code",
        "outputId": "1c8631ac-6838-4a18-be56-cbf87c6509ee",
        "colab": {
          "base_uri": "https://localhost:8080/",
          "height": 34
        }
      },
      "source": [
        "ls"
      ],
      "execution_count": 17,
      "outputs": [
        {
          "output_type": "stream",
          "text": [
            "coronavirusdataset.zip  group.csv  patient.csv  route.csv  time.csv  trend.csv\n"
          ],
          "name": "stdout"
        }
      ]
    },
    {
      "cell_type": "code",
      "metadata": {
        "id": "v_DWfTWNX3Aq",
        "colab_type": "code",
        "outputId": "a3faedaa-8072-4afa-d872-247ebd48999d",
        "colab": {
          "base_uri": "https://localhost:8080/",
          "height": 158
        }
      },
      "source": [
        "!unzip coronavirusdataset.zip"
      ],
      "execution_count": 18,
      "outputs": [
        {
          "output_type": "stream",
          "text": [
            "Archive:  coronavirusdataset.zip\n",
            "  inflating: case.csv                \n",
            "replace patient.csv? [y]es, [n]o, [A]ll, [N]one, [r]ename: y\n",
            "  inflating: patient.csv             \n",
            "replace route.csv? [y]es, [n]o, [A]ll, [N]one, [r]ename: A\n",
            "  inflating: route.csv               \n",
            "  inflating: time.csv                \n",
            "  inflating: trend.csv               \n"
          ],
          "name": "stdout"
        }
      ]
    },
    {
      "cell_type": "code",
      "metadata": {
        "id": "Ig8jWMf3X21P",
        "colab_type": "code",
        "outputId": "3a6fc484-1798-40b1-fc3a-3416fc22365d",
        "colab": {
          "base_uri": "https://localhost:8080/",
          "height": 34
        }
      },
      "source": [
        "cd ../\n"
      ],
      "execution_count": 19,
      "outputs": [
        {
          "output_type": "stream",
          "text": [
            "/content/gdrive/My Drive/cv19\n"
          ],
          "name": "stdout"
        }
      ]
    },
    {
      "cell_type": "code",
      "metadata": {
        "id": "dGqcICQ-YOPd",
        "colab_type": "code",
        "outputId": "dc97a2e8-e4bb-43d7-8529-e5c0a8e36551",
        "colab": {
          "base_uri": "https://localhost:8080/",
          "height": 87
        }
      },
      "source": [
        "!ls"
      ],
      "execution_count": 20,
      "outputs": [
        {
          "output_type": "stream",
          "text": [
            "2019_nCoV_data.csv\t time_series_19-covid-Confirmed.xlsx\n",
            "covid19-coronavirus.zip  time_series_19-covid-Deaths.xlsx\n",
            "data\t\t\t time_series_19-covid-Recovered.xlsx\n",
            "download\n"
          ],
          "name": "stdout"
        }
      ]
    },
    {
      "cell_type": "code",
      "metadata": {
        "id": "bqjLvvziYG4r",
        "colab_type": "code",
        "colab": {}
      },
      "source": [
        "patients = pd.read_csv(\"data/patient.csv\")"
      ],
      "execution_count": 0,
      "outputs": []
    },
    {
      "cell_type": "code",
      "metadata": {
        "id": "YdVg6V3NYGpv",
        "colab_type": "code",
        "outputId": "24a44149-5ae1-4b66-cefd-3ef06484332c",
        "colab": {
          "base_uri": "https://localhost:8080/",
          "height": 287
        }
      },
      "source": [
        "patients.describe()"
      ],
      "execution_count": 22,
      "outputs": [
        {
          "output_type": "execute_result",
          "data": {
            "text/html": [
              "<div>\n",
              "<style scoped>\n",
              "    .dataframe tbody tr th:only-of-type {\n",
              "        vertical-align: middle;\n",
              "    }\n",
              "\n",
              "    .dataframe tbody tr th {\n",
              "        vertical-align: top;\n",
              "    }\n",
              "\n",
              "    .dataframe thead th {\n",
              "        text-align: right;\n",
              "    }\n",
              "</style>\n",
              "<table border=\"1\" class=\"dataframe\">\n",
              "  <thead>\n",
              "    <tr style=\"text-align: right;\">\n",
              "      <th></th>\n",
              "      <th>patient_id</th>\n",
              "      <th>birth_year</th>\n",
              "      <th>disease</th>\n",
              "      <th>infection_order</th>\n",
              "      <th>infected_by</th>\n",
              "      <th>contact_number</th>\n",
              "    </tr>\n",
              "  </thead>\n",
              "  <tbody>\n",
              "    <tr>\n",
              "      <th>count</th>\n",
              "      <td>7869.000000</td>\n",
              "      <td>666.000000</td>\n",
              "      <td>28.0</td>\n",
              "      <td>36.000000</td>\n",
              "      <td>70.000000</td>\n",
              "      <td>53.000000</td>\n",
              "    </tr>\n",
              "    <tr>\n",
              "      <th>mean</th>\n",
              "      <td>3935.000000</td>\n",
              "      <td>1974.271772</td>\n",
              "      <td>1.0</td>\n",
              "      <td>4.277778</td>\n",
              "      <td>379.000000</td>\n",
              "      <td>67.849057</td>\n",
              "    </tr>\n",
              "    <tr>\n",
              "      <th>std</th>\n",
              "      <td>2271.728967</td>\n",
              "      <td>17.423250</td>\n",
              "      <td>0.0</td>\n",
              "      <td>12.032364</td>\n",
              "      <td>540.247528</td>\n",
              "      <td>177.723575</td>\n",
              "    </tr>\n",
              "    <tr>\n",
              "      <th>min</th>\n",
              "      <td>1.000000</td>\n",
              "      <td>1929.000000</td>\n",
              "      <td>1.0</td>\n",
              "      <td>1.000000</td>\n",
              "      <td>3.000000</td>\n",
              "      <td>0.000000</td>\n",
              "    </tr>\n",
              "    <tr>\n",
              "      <th>25%</th>\n",
              "      <td>1968.000000</td>\n",
              "      <td>1962.000000</td>\n",
              "      <td>1.0</td>\n",
              "      <td>1.000000</td>\n",
              "      <td>29.250000</td>\n",
              "      <td>3.000000</td>\n",
              "    </tr>\n",
              "    <tr>\n",
              "      <th>50%</th>\n",
              "      <td>3935.000000</td>\n",
              "      <td>1974.000000</td>\n",
              "      <td>1.0</td>\n",
              "      <td>2.000000</td>\n",
              "      <td>126.000000</td>\n",
              "      <td>17.000000</td>\n",
              "    </tr>\n",
              "    <tr>\n",
              "      <th>75%</th>\n",
              "      <td>5902.000000</td>\n",
              "      <td>1990.000000</td>\n",
              "      <td>1.0</td>\n",
              "      <td>3.000000</td>\n",
              "      <td>563.250000</td>\n",
              "      <td>45.000000</td>\n",
              "    </tr>\n",
              "    <tr>\n",
              "      <th>max</th>\n",
              "      <td>7869.000000</td>\n",
              "      <td>2018.000000</td>\n",
              "      <td>1.0</td>\n",
              "      <td>74.000000</td>\n",
              "      <td>2621.000000</td>\n",
              "      <td>1160.000000</td>\n",
              "    </tr>\n",
              "  </tbody>\n",
              "</table>\n",
              "</div>"
            ],
            "text/plain": [
              "        patient_id   birth_year  ...  infected_by  contact_number\n",
              "count  7869.000000   666.000000  ...    70.000000       53.000000\n",
              "mean   3935.000000  1974.271772  ...   379.000000       67.849057\n",
              "std    2271.728967    17.423250  ...   540.247528      177.723575\n",
              "min       1.000000  1929.000000  ...     3.000000        0.000000\n",
              "25%    1968.000000  1962.000000  ...    29.250000        3.000000\n",
              "50%    3935.000000  1974.000000  ...   126.000000       17.000000\n",
              "75%    5902.000000  1990.000000  ...   563.250000       45.000000\n",
              "max    7869.000000  2018.000000  ...  2621.000000     1160.000000\n",
              "\n",
              "[8 rows x 6 columns]"
            ]
          },
          "metadata": {
            "tags": []
          },
          "execution_count": 22
        }
      ]
    },
    {
      "cell_type": "code",
      "metadata": {
        "id": "XGJhQPPsYdXD",
        "colab_type": "code",
        "outputId": "9a06f663-6497-4190-845d-4db1de068048",
        "colab": {
          "base_uri": "https://localhost:8080/",
          "height": 334
        }
      },
      "source": [
        "patients.head()"
      ],
      "execution_count": 23,
      "outputs": [
        {
          "output_type": "execute_result",
          "data": {
            "text/html": [
              "<div>\n",
              "<style scoped>\n",
              "    .dataframe tbody tr th:only-of-type {\n",
              "        vertical-align: middle;\n",
              "    }\n",
              "\n",
              "    .dataframe tbody tr th {\n",
              "        vertical-align: top;\n",
              "    }\n",
              "\n",
              "    .dataframe thead th {\n",
              "        text-align: right;\n",
              "    }\n",
              "</style>\n",
              "<table border=\"1\" class=\"dataframe\">\n",
              "  <thead>\n",
              "    <tr style=\"text-align: right;\">\n",
              "      <th></th>\n",
              "      <th>patient_id</th>\n",
              "      <th>sex</th>\n",
              "      <th>birth_year</th>\n",
              "      <th>country</th>\n",
              "      <th>region</th>\n",
              "      <th>disease</th>\n",
              "      <th>group</th>\n",
              "      <th>infection_reason</th>\n",
              "      <th>infection_order</th>\n",
              "      <th>infected_by</th>\n",
              "      <th>contact_number</th>\n",
              "      <th>confirmed_date</th>\n",
              "      <th>released_date</th>\n",
              "      <th>deceased_date</th>\n",
              "      <th>state</th>\n",
              "    </tr>\n",
              "  </thead>\n",
              "  <tbody>\n",
              "    <tr>\n",
              "      <th>0</th>\n",
              "      <td>1</td>\n",
              "      <td>female</td>\n",
              "      <td>1984.0</td>\n",
              "      <td>China</td>\n",
              "      <td>filtered at airport</td>\n",
              "      <td>NaN</td>\n",
              "      <td>NaN</td>\n",
              "      <td>visit to Wuhan</td>\n",
              "      <td>1.0</td>\n",
              "      <td>NaN</td>\n",
              "      <td>45.0</td>\n",
              "      <td>2020-01-20</td>\n",
              "      <td>2020-02-06</td>\n",
              "      <td>NaN</td>\n",
              "      <td>released</td>\n",
              "    </tr>\n",
              "    <tr>\n",
              "      <th>1</th>\n",
              "      <td>2</td>\n",
              "      <td>male</td>\n",
              "      <td>1964.0</td>\n",
              "      <td>Korea</td>\n",
              "      <td>filtered at airport</td>\n",
              "      <td>NaN</td>\n",
              "      <td>NaN</td>\n",
              "      <td>visit to Wuhan</td>\n",
              "      <td>1.0</td>\n",
              "      <td>NaN</td>\n",
              "      <td>75.0</td>\n",
              "      <td>2020-01-24</td>\n",
              "      <td>2020-02-05</td>\n",
              "      <td>NaN</td>\n",
              "      <td>released</td>\n",
              "    </tr>\n",
              "    <tr>\n",
              "      <th>2</th>\n",
              "      <td>3</td>\n",
              "      <td>male</td>\n",
              "      <td>1966.0</td>\n",
              "      <td>Korea</td>\n",
              "      <td>capital area</td>\n",
              "      <td>NaN</td>\n",
              "      <td>NaN</td>\n",
              "      <td>visit to Wuhan</td>\n",
              "      <td>1.0</td>\n",
              "      <td>NaN</td>\n",
              "      <td>16.0</td>\n",
              "      <td>2020-01-26</td>\n",
              "      <td>2020-02-12</td>\n",
              "      <td>NaN</td>\n",
              "      <td>released</td>\n",
              "    </tr>\n",
              "    <tr>\n",
              "      <th>3</th>\n",
              "      <td>4</td>\n",
              "      <td>male</td>\n",
              "      <td>1964.0</td>\n",
              "      <td>Korea</td>\n",
              "      <td>capital area</td>\n",
              "      <td>NaN</td>\n",
              "      <td>NaN</td>\n",
              "      <td>visit to Wuhan</td>\n",
              "      <td>1.0</td>\n",
              "      <td>NaN</td>\n",
              "      <td>95.0</td>\n",
              "      <td>2020-01-27</td>\n",
              "      <td>2020-02-09</td>\n",
              "      <td>NaN</td>\n",
              "      <td>released</td>\n",
              "    </tr>\n",
              "    <tr>\n",
              "      <th>4</th>\n",
              "      <td>5</td>\n",
              "      <td>male</td>\n",
              "      <td>1987.0</td>\n",
              "      <td>Korea</td>\n",
              "      <td>capital area</td>\n",
              "      <td>NaN</td>\n",
              "      <td>NaN</td>\n",
              "      <td>visit to Wuhan</td>\n",
              "      <td>1.0</td>\n",
              "      <td>NaN</td>\n",
              "      <td>31.0</td>\n",
              "      <td>2020-01-30</td>\n",
              "      <td>2020-03-02</td>\n",
              "      <td>NaN</td>\n",
              "      <td>released</td>\n",
              "    </tr>\n",
              "  </tbody>\n",
              "</table>\n",
              "</div>"
            ],
            "text/plain": [
              "   patient_id     sex  birth_year  ... released_date deceased_date     state\n",
              "0           1  female      1984.0  ...    2020-02-06           NaN  released\n",
              "1           2    male      1964.0  ...    2020-02-05           NaN  released\n",
              "2           3    male      1966.0  ...    2020-02-12           NaN  released\n",
              "3           4    male      1964.0  ...    2020-02-09           NaN  released\n",
              "4           5    male      1987.0  ...    2020-03-02           NaN  released\n",
              "\n",
              "[5 rows x 15 columns]"
            ]
          },
          "metadata": {
            "tags": []
          },
          "execution_count": 23
        }
      ]
    },
    {
      "cell_type": "code",
      "metadata": {
        "id": "u4t0eY-5lqaM",
        "colab_type": "code",
        "outputId": "f175832f-2ddd-4577-a838-2b07d3caeb10",
        "colab": {
          "base_uri": "https://localhost:8080/",
          "height": 217
        }
      },
      "source": [
        "patients.tail()"
      ],
      "execution_count": 24,
      "outputs": [
        {
          "output_type": "execute_result",
          "data": {
            "text/html": [
              "<div>\n",
              "<style scoped>\n",
              "    .dataframe tbody tr th:only-of-type {\n",
              "        vertical-align: middle;\n",
              "    }\n",
              "\n",
              "    .dataframe tbody tr th {\n",
              "        vertical-align: top;\n",
              "    }\n",
              "\n",
              "    .dataframe thead th {\n",
              "        text-align: right;\n",
              "    }\n",
              "</style>\n",
              "<table border=\"1\" class=\"dataframe\">\n",
              "  <thead>\n",
              "    <tr style=\"text-align: right;\">\n",
              "      <th></th>\n",
              "      <th>patient_id</th>\n",
              "      <th>sex</th>\n",
              "      <th>birth_year</th>\n",
              "      <th>country</th>\n",
              "      <th>region</th>\n",
              "      <th>disease</th>\n",
              "      <th>group</th>\n",
              "      <th>infection_reason</th>\n",
              "      <th>infection_order</th>\n",
              "      <th>infected_by</th>\n",
              "      <th>contact_number</th>\n",
              "      <th>confirmed_date</th>\n",
              "      <th>released_date</th>\n",
              "      <th>deceased_date</th>\n",
              "      <th>state</th>\n",
              "    </tr>\n",
              "  </thead>\n",
              "  <tbody>\n",
              "    <tr>\n",
              "      <th>7864</th>\n",
              "      <td>7865</td>\n",
              "      <td>NaN</td>\n",
              "      <td>NaN</td>\n",
              "      <td>Korea</td>\n",
              "      <td>NaN</td>\n",
              "      <td>NaN</td>\n",
              "      <td>NaN</td>\n",
              "      <td>NaN</td>\n",
              "      <td>NaN</td>\n",
              "      <td>NaN</td>\n",
              "      <td>NaN</td>\n",
              "      <td>2020-03-11</td>\n",
              "      <td>NaN</td>\n",
              "      <td>NaN</td>\n",
              "      <td>isolated</td>\n",
              "    </tr>\n",
              "    <tr>\n",
              "      <th>7865</th>\n",
              "      <td>7866</td>\n",
              "      <td>NaN</td>\n",
              "      <td>NaN</td>\n",
              "      <td>Korea</td>\n",
              "      <td>NaN</td>\n",
              "      <td>NaN</td>\n",
              "      <td>NaN</td>\n",
              "      <td>NaN</td>\n",
              "      <td>NaN</td>\n",
              "      <td>NaN</td>\n",
              "      <td>NaN</td>\n",
              "      <td>2020-03-11</td>\n",
              "      <td>NaN</td>\n",
              "      <td>NaN</td>\n",
              "      <td>isolated</td>\n",
              "    </tr>\n",
              "    <tr>\n",
              "      <th>7866</th>\n",
              "      <td>7867</td>\n",
              "      <td>NaN</td>\n",
              "      <td>NaN</td>\n",
              "      <td>Korea</td>\n",
              "      <td>NaN</td>\n",
              "      <td>NaN</td>\n",
              "      <td>NaN</td>\n",
              "      <td>NaN</td>\n",
              "      <td>NaN</td>\n",
              "      <td>NaN</td>\n",
              "      <td>NaN</td>\n",
              "      <td>2020-03-11</td>\n",
              "      <td>NaN</td>\n",
              "      <td>NaN</td>\n",
              "      <td>isolated</td>\n",
              "    </tr>\n",
              "    <tr>\n",
              "      <th>7867</th>\n",
              "      <td>7868</td>\n",
              "      <td>NaN</td>\n",
              "      <td>NaN</td>\n",
              "      <td>Korea</td>\n",
              "      <td>NaN</td>\n",
              "      <td>NaN</td>\n",
              "      <td>NaN</td>\n",
              "      <td>NaN</td>\n",
              "      <td>NaN</td>\n",
              "      <td>NaN</td>\n",
              "      <td>NaN</td>\n",
              "      <td>2020-03-11</td>\n",
              "      <td>NaN</td>\n",
              "      <td>NaN</td>\n",
              "      <td>isolated</td>\n",
              "    </tr>\n",
              "    <tr>\n",
              "      <th>7868</th>\n",
              "      <td>7869</td>\n",
              "      <td>NaN</td>\n",
              "      <td>NaN</td>\n",
              "      <td>Korea</td>\n",
              "      <td>NaN</td>\n",
              "      <td>NaN</td>\n",
              "      <td>NaN</td>\n",
              "      <td>NaN</td>\n",
              "      <td>NaN</td>\n",
              "      <td>NaN</td>\n",
              "      <td>NaN</td>\n",
              "      <td>2020-03-11</td>\n",
              "      <td>NaN</td>\n",
              "      <td>NaN</td>\n",
              "      <td>isolated</td>\n",
              "    </tr>\n",
              "  </tbody>\n",
              "</table>\n",
              "</div>"
            ],
            "text/plain": [
              "      patient_id  sex  birth_year  ... released_date deceased_date     state\n",
              "7864        7865  NaN         NaN  ...           NaN           NaN  isolated\n",
              "7865        7866  NaN         NaN  ...           NaN           NaN  isolated\n",
              "7866        7867  NaN         NaN  ...           NaN           NaN  isolated\n",
              "7867        7868  NaN         NaN  ...           NaN           NaN  isolated\n",
              "7868        7869  NaN         NaN  ...           NaN           NaN  isolated\n",
              "\n",
              "[5 rows x 15 columns]"
            ]
          },
          "metadata": {
            "tags": []
          },
          "execution_count": 24
        }
      ]
    },
    {
      "cell_type": "markdown",
      "metadata": {
        "id": "80MkOOEKgZ-M",
        "colab_type": "text"
      },
      "source": [
        "Pandas datetime variables\n",
        "https://pandas.pydata.org/pandas-docs/stable/user_guide/timedeltas.html"
      ]
    },
    {
      "cell_type": "code",
      "metadata": {
        "id": "mI2JFroXJ-Yk",
        "colab_type": "code",
        "colab": {}
      },
      "source": [
        "deadpatients = patients.dropna(subset=[\"deceased_date\"])"
      ],
      "execution_count": 0,
      "outputs": []
    },
    {
      "cell_type": "code",
      "metadata": {
        "id": "ArJlMPTMKEv9",
        "colab_type": "code",
        "outputId": "18a83fb4-be17-47e0-9362-28d3decd9e99",
        "colab": {
          "base_uri": "https://localhost:8080/",
          "height": 801
        }
      },
      "source": [
        "deadpatients[\"born\"] = pd.to_datetime(deadpatients[\"birth_year\"].astype(int), format=\"%Y\").dt.year\n",
        "deadpatients[\"born\"] "
      ],
      "execution_count": 33,
      "outputs": [
        {
          "output_type": "stream",
          "text": [
            "/usr/local/lib/python3.6/dist-packages/ipykernel_launcher.py:1: SettingWithCopyWarning: \n",
            "A value is trying to be set on a copy of a slice from a DataFrame.\n",
            "Try using .loc[row_indexer,col_indexer] = value instead\n",
            "\n",
            "See the caveats in the documentation: http://pandas.pydata.org/pandas-docs/stable/user_guide/indexing.html#returning-a-view-versus-a-copy\n",
            "  \"\"\"Entry point for launching an IPython kernel.\n"
          ],
          "name": "stderr"
        },
        {
          "output_type": "execute_result",
          "data": {
            "text/plain": [
              "37      1963\n",
              "53      1963\n",
              "54      1961\n",
              "103     1957\n",
              "106     1953\n",
              "113     1946\n",
              "204     1965\n",
              "285     1958\n",
              "297     1962\n",
              "390     1937\n",
              "442     1979\n",
              "619     1949\n",
              "874     1984\n",
              "900     1934\n",
              "924     1951\n",
              "1063    1943\n",
              "1287    1955\n",
              "1442    1945\n",
              "1920    1953\n",
              "2084    1949\n",
              "2288    1954\n",
              "2578    1940\n",
              "2613    1943\n",
              "2768    1934\n",
              "2935    1939\n",
              "3549    1951\n",
              "3577    1930\n",
              "3895    1933\n",
              "3913    1938\n",
              "4045    1962\n",
              "5142    1960\n",
              "5459    1940\n",
              "5766    1938\n",
              "5767    1935\n",
              "6284    1929\n",
              "7195    1945\n",
              "Name: born, dtype: int64"
            ]
          },
          "metadata": {
            "tags": []
          },
          "execution_count": 33
        }
      ]
    },
    {
      "cell_type": "code",
      "metadata": {
        "id": "VbkxjABlKPi0",
        "colab_type": "code",
        "outputId": "a9a42bda-3d70-4125-ea7f-69b625dfe993",
        "colab": {
          "base_uri": "https://localhost:8080/",
          "height": 801
        }
      },
      "source": [
        "deadpatients[\"dead\"] = pd.to_datetime(deadpatients[\"deceased_date\"]).dt.year\n",
        "deadpatients[\"dead\"] "
      ],
      "execution_count": 34,
      "outputs": [
        {
          "output_type": "stream",
          "text": [
            "/usr/local/lib/python3.6/dist-packages/ipykernel_launcher.py:1: SettingWithCopyWarning: \n",
            "A value is trying to be set on a copy of a slice from a DataFrame.\n",
            "Try using .loc[row_indexer,col_indexer] = value instead\n",
            "\n",
            "See the caveats in the documentation: http://pandas.pydata.org/pandas-docs/stable/user_guide/indexing.html#returning-a-view-versus-a-copy\n",
            "  \"\"\"Entry point for launching an IPython kernel.\n"
          ],
          "name": "stderr"
        },
        {
          "output_type": "execute_result",
          "data": {
            "text/plain": [
              "37      2020\n",
              "53      2020\n",
              "54      2020\n",
              "103     2020\n",
              "106     2020\n",
              "113     2020\n",
              "204     2020\n",
              "285     2020\n",
              "297     2020\n",
              "390     2020\n",
              "442     2020\n",
              "619     2020\n",
              "874     2020\n",
              "900     2020\n",
              "924     2020\n",
              "1063    2020\n",
              "1287    2020\n",
              "1442    2020\n",
              "1920    2020\n",
              "2084    2020\n",
              "2288    2020\n",
              "2578    2020\n",
              "2613    2020\n",
              "2768    2020\n",
              "2935    2020\n",
              "3549    2020\n",
              "3577    2020\n",
              "3895    2020\n",
              "3913    2020\n",
              "4045    2020\n",
              "5142    2020\n",
              "5459    2020\n",
              "5766    2020\n",
              "5767    2020\n",
              "6284    2020\n",
              "7195    2020\n",
              "Name: dead, dtype: int64"
            ]
          },
          "metadata": {
            "tags": []
          },
          "execution_count": 34
        }
      ]
    },
    {
      "cell_type": "code",
      "metadata": {
        "id": "1bJxd58KK-VL",
        "colab_type": "code",
        "outputId": "7a59553d-ced5-4122-b5c5-12fb82e0c58b",
        "colab": {
          "base_uri": "https://localhost:8080/",
          "height": 278
        }
      },
      "source": [
        "pl.hist(pd.to_timedelta(deadpatients[\"dead\"]  - deadpatients[\"born\"]).astype(int)); \n",
        "pl.ylabel(\"age at death\")\n",
        "pl.ylabel(\"count\")\n",
        "pl.title(\"age for death related to COVID19\");"
      ],
      "execution_count": 44,
      "outputs": [
        {
          "output_type": "display_data",
          "data": {
            "image/png": "[encoded data removed]",
            "text/plain": [
              "<Figure size 432x288 with 1 Axes>"
            ]
          },
          "metadata": {
            "tags": []
          }
        }
      ]
    },
    {
      "cell_type": "code",
      "metadata": {
        "id": "lnSs8NPcLZVX",
        "colab_type": "code",
        "colab": {}
      },
      "source": [
        ""
      ],
      "execution_count": 0,
      "outputs": []
    }
  ]
}