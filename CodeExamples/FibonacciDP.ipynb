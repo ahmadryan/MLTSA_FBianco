{
  "nbformat": 4,
  "nbformat_minor": 0,
  "metadata": {
    "colab": {
      "name": "FibonacciDP.ipynb",
      "provenance": [],
      "authorship_tag": "ABX9TyOzZnWb/CwPMpq2KjCvLaTz",
      "include_colab_link": true
    },
    "kernelspec": {
      "name": "python3",
      "display_name": "Python 3"
    }
  },
  "cells": [
    {
      "cell_type": "markdown",
      "metadata": {
        "id": "view-in-github",
        "colab_type": "text"
      },
      "source": [
        "<a href=\"https://colab.research.google.com/github/fedhere/MLTSA_FBianco/blob/master/CodeExamples/FibonacciDP.ipynb\" target=\"_parent\"><img src=\"https://colab.research.google.com/assets/colab-badge.svg\" alt=\"Open In Colab\"/></a>"
      ]
    },
    {
      "cell_type": "code",
      "metadata": {
        "id": "oeT5aBSxmewt",
        "colab_type": "code",
        "colab": {}
      },
      "source": [
        "import numpy as np\n"
      ],
      "execution_count": 0,
      "outputs": []
    },
    {
      "cell_type": "code",
      "metadata": {
        "id": "axoH1oMzma38",
        "colab_type": "code",
        "colab": {}
      },
      "source": [
        "def fib (n) :\n",
        "        if (n < 2):\n",
        "            return n\n",
        "        return fib(n-1) + fib(n-2)\n"
      ],
      "execution_count": 0,
      "outputs": []
    },
    {
      "cell_type": "code",
      "metadata": {
        "id": "lbbCJDzOmhvQ",
        "colab_type": "code",
        "colab": {}
      },
      "source": [
        "def fibDP (n) :\n",
        "    fibresult = np.zeros(n+1, int)\n",
        "    fibresult[1] = 1\n",
        "    for i in np.arange(2, n+1):\n",
        "      fibresult[i] = fibresult[i-1] + fibresult[i-2]\n",
        "    return fibresult[-1]\n"
      ],
      "execution_count": 0,
      "outputs": []
    },
    {
      "cell_type": "code",
      "metadata": {
        "id": "P5rmajaKnYg6",
        "colab_type": "code",
        "outputId": "dd871a9c-5dee-4fd7-abdf-7615df542228",
        "colab": {
          "base_uri": "https://localhost:8080/",
          "height": 123
        }
      },
      "source": [
        "N = 2\n",
        "%time print(fib(N))\n",
        "%time print(fibDP(N))"
      ],
      "execution_count": 31,
      "outputs": [
        {
          "output_type": "stream",
          "text": [
            "1\n",
            "CPU times: user 61 µs, sys: 10 µs, total: 71 µs\n",
            "Wall time: 74.6 µs\n",
            "2\n",
            "CPU times: user 326 µs, sys: 14 µs, total: 340 µs\n",
            "Wall time: 345 µs\n"
          ],
          "name": "stdout"
        }
      ]
    },
    {
      "cell_type": "code",
      "metadata": {
        "id": "3R-Uy6y1n5XK",
        "colab_type": "code",
        "outputId": "ccfaf327-ba8a-48ab-88b5-f2ffd99e2ab9",
        "colab": {
          "base_uri": "https://localhost:8080/",
          "height": 123
        }
      },
      "source": [
        "N = 10\n",
        "%time print(fib(N))\n",
        "%time print(fibDP(N))"
      ],
      "execution_count": 32,
      "outputs": [
        {
          "output_type": "stream",
          "text": [
            "55\n",
            "CPU times: user 112 µs, sys: 19 µs, total: 131 µs\n",
            "Wall time: 98.5 µs\n",
            "89\n",
            "CPU times: user 371 µs, sys: 0 ns, total: 371 µs\n",
            "Wall time: 304 µs\n"
          ],
          "name": "stdout"
        }
      ]
    },
    {
      "cell_type": "code",
      "metadata": {
        "id": "lN3l7AuBoCKW",
        "colab_type": "code",
        "colab": {
          "base_uri": "https://localhost:8080/",
          "height": 123
        },
        "outputId": "4f34a957-02cd-4e1d-c232-555af3030dc5"
      },
      "source": [
        "N = 30\n",
        "%time print(fib(N))\n",
        "%time print(fibDP(N))"
      ],
      "execution_count": 33,
      "outputs": [
        {
          "output_type": "stream",
          "text": [
            "832040\n",
            "CPU times: user 283 ms, sys: 619 µs, total: 283 ms\n",
            "Wall time: 287 ms\n",
            "1346269\n",
            "CPU times: user 182 µs, sys: 0 ns, total: 182 µs\n",
            "Wall time: 186 µs\n"
          ],
          "name": "stdout"
        }
      ]
    },
    {
      "cell_type": "code",
      "metadata": {
        "id": "8oq1asI9pV89",
        "colab_type": "code",
        "colab": {}
      },
      "source": [
        "N = 40\n",
        "%time print(fib(N))\n",
        "%time print(fibDP(N))"
      ],
      "execution_count": 0,
      "outputs": []
    },
    {
      "cell_type": "code",
      "metadata": {
        "id": "cIksMQMZpZWn",
        "colab_type": "code",
        "colab": {}
      },
      "source": [
        ""
      ],
      "execution_count": 0,
      "outputs": []
    }
  ]
}