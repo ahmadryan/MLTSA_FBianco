{
  "nbformat": 4,
  "nbformat_minor": 0,
  "metadata": {
    "colab": {
      "name": "FibonacciDP.ipynb",
      "provenance": [],
      "authorship_tag": "ABX9TyN+acfDCHoi53O1beycNPwT",
      "include_colab_link": true
    },
    "kernelspec": {
      "name": "python3",
      "display_name": "Python 3"
    }
  },
  "cells": [
    {
      "cell_type": "markdown",
      "metadata": {
        "id": "view-in-github",
        "colab_type": "text"
      },
      "source": [
        "<a href=\"https://colab.research.google.com/github/fedhere/MLTSA_FBianco/blob/master/CodeExamples/FibonacciDP.ipynb\" target=\"_parent\"><img src=\"https://colab.research.google.com/assets/colab-badge.svg\" alt=\"Open In Colab\"/></a>"
      ]
    },
    {
      "cell_type": "code",
      "metadata": {
        "id": "oeT5aBSxmewt",
        "colab_type": "code",
        "colab": {}
      },
      "source": [
        "import numpy as np\n"
      ],
      "execution_count": 0,
      "outputs": []
    },
    {
      "cell_type": "code",
      "metadata": {
        "id": "axoH1oMzma38",
        "colab_type": "code",
        "colab": {
          "base_uri": "https://localhost:8080/",
          "height": 70
        },
        "outputId": "909c6c67-770b-46d3-e059-bf32897dd66b"
      },
      "source": [
        "def fib (n) :\n",
        "        if (n < 2):\n",
        "            return 1;\n",
        "        return fib(n-1) + fib(n-2);\n",
        "  \n",
        "\n",
        "%time print(fib(40))\n"
      ],
      "execution_count": 4,
      "outputs": [
        {
          "output_type": "stream",
          "text": [
            "165580141\n",
            "CPU times: user 34.5 s, sys: 5.98 ms, total: 34.5 s\n",
            "Wall time: 34.6 s\n"
          ],
          "name": "stdout"
        }
      ]
    },
    {
      "cell_type": "code",
      "metadata": {
        "id": "lbbCJDzOmhvQ",
        "colab_type": "code",
        "colab": {
          "base_uri": "https://localhost:8080/",
          "height": 70
        },
        "outputId": "986017a7-193f-4b4a-e6a2-1b42d216a8a6"
      },
      "source": [
        "def fib (n) :\n",
        "    fibresult = np.ones(n+1)\n",
        "    for i in np.arange(2, n+1):\n",
        "      fibresult[i] = fibresult[i-1] + fibresult[i-2]\n",
        "    return fibresult[-1]\n",
        "%time print(fib(40))\n"
      ],
      "execution_count": 5,
      "outputs": [
        {
          "output_type": "stream",
          "text": [
            "165580141.0\n",
            "CPU times: user 331 µs, sys: 1e+03 ns, total: 332 µs\n",
            "Wall time: 272 µs\n"
          ],
          "name": "stdout"
        }
      ]
    },
    {
      "cell_type": "code",
      "metadata": {
        "id": "P5rmajaKnYg6",
        "colab_type": "code",
        "colab": {}
      },
      "source": [
        ""
      ],
      "execution_count": 0,
      "outputs": []
    }
  ]
}