{
  "nbformat": 4,
  "nbformat_minor": 0,
  "metadata": {
    "colab": {
      "name": "deeplearning101.ipynb",
      "provenance": [],
      "authorship_tag": "ABX9TyPEMvmPXrEQbuVQUMGMpe6f",
      "include_colab_link": true
    },
    "kernelspec": {
      "name": "python3",
      "display_name": "Python 3"
    }
  },
  "cells": [
    {
      "cell_type": "markdown",
      "metadata": {
        "id": "view-in-github",
        "colab_type": "text"
      },
      "source": [
        "<a href=\"https://colab.research.google.com/github/fedhere/MLTSA_FBianco/blob/master/CodeExamples/deeplearning101.ipynb\" target=\"_parent\"><img src=\"https://colab.research.google.com/assets/colab-badge.svg\" alt=\"Open In Colab\"/></a>"
      ]
    },
    {
      "cell_type": "markdown",
      "metadata": {
        "id": "-h07rHMTBbQn",
        "colab_type": "text"
      },
      "source": [
        "from https://iamtrask.github.io/2015/07/12/basic-python-network/ with minor modifications"
      ]
    },
    {
      "cell_type": "code",
      "metadata": {
        "id": "AooF2lpsBa-w",
        "colab_type": "code",
        "colab": {}
      },
      "source": [
        "import numpy as np"
      ],
      "execution_count": 0,
      "outputs": []
    },
    {
      "cell_type": "markdown",
      "metadata": {
        "id": "MH_3xM9WBasf",
        "colab_type": "text"
      },
      "source": [
        "# trivial NN for classification"
      ]
    },
    {
      "cell_type": "code",
      "metadata": {
        "id": "hzsBqIVMBYSD",
        "colab_type": "code",
        "outputId": "4f1328a6-6a5b-4463-f92a-63e20c0b959b",
        "colab": {
          "base_uri": "https://localhost:8080/",
          "height": 180
        }
      },
      "source": [
        "X = np.array([ [0,0,1],\n",
        "              [0,1,1],\n",
        "              [1,0,1],\n",
        "              [1,1,1] ])\n",
        "\n",
        "y = np.array([[0,1,1,0]]).T\n",
        "print(\"predict:\\n\", y)\n",
        "print(\"based on:\\n\", X)"
      ],
      "execution_count": 39,
      "outputs": [
        {
          "output_type": "stream",
          "text": [
            "predict:\n",
            " [[0]\n",
            " [1]\n",
            " [1]\n",
            " [0]]\n",
            "based on:\n",
            " [[0 0 1]\n",
            " [0 1 1]\n",
            " [1 0 1]\n",
            " [1 1 1]]\n"
          ],
          "name": "stdout"
        }
      ]
    },
    {
      "cell_type": "markdown",
      "metadata": {
        "id": "Tg3_Mpt9Cgdt",
        "colab_type": "text"
      },
      "source": [
        "# architecture: 1 layer\n",
        "\n",
        "input layer 4x3: observations 3 features\n",
        "\n",
        "neurons layer: 3x1\n",
        "\n",
        "$[4\\times3] \\cdot [3\\times1] => [1]$\n"
      ]
    },
    {
      "cell_type": "code",
      "metadata": {
        "id": "MciCn2aUdSy2",
        "colab_type": "code",
        "colab": {}
      },
      "source": [
        "#define the activation function\n",
        "def sigmoid(x):\n",
        "  return 1. / (1 + np.exp(-x))"
      ],
      "execution_count": 0,
      "outputs": []
    },
    {
      "cell_type": "code",
      "metadata": {
        "id": "DFy5MlGBdScu",
        "colab_type": "code",
        "colab": {}
      },
      "source": [
        "\n",
        "#define the derivative of the activation function\n",
        "def dsigmoid(x):\n",
        "  return x * (1 - x)"
      ],
      "execution_count": 0,
      "outputs": []
    },
    {
      "cell_type": "code",
      "metadata": {
        "id": "9b7W4BgXdSND",
        "colab_type": "code",
        "colab": {}
      },
      "source": [
        "# define the loss function\n",
        "def loss(prediction):\n",
        "    return y - prediction\n"
      ],
      "execution_count": 0,
      "outputs": []
    },
    {
      "cell_type": "code",
      "metadata": {
        "id": "6kp5s1LXEfVV",
        "colab_type": "code",
        "outputId": "d8753c2e-6929-4a88-cfc8-c83cfc3e3070",
        "colab": {
          "base_uri": "https://localhost:8080/",
          "height": 196
        }
      },
      "source": [
        "training = 6000\n",
        "# build the synopsis: THE WEIGHTS, the initial guess of the weights. \n",
        "# we have no knowledge, so we just randomize it\n",
        "np.random.seed(1)\n",
        "syn0 = 2 * np.random.random((3,1)) - 1 #normalized mean 0\n",
        "print (syn0.shape)\n",
        "\n",
        "\n",
        "# seed random numbers to make calculation\n",
        "# deterministic (just a good practice)\n",
        "np.random.seed(1)\n",
        "\n",
        "# initialize weights randomly with mean 0\n",
        "syn0 = 2*np.random.random((3,1)) - 1\n",
        "\n",
        "for iter in range(training):\n",
        "\n",
        "   # forward propagation step\n",
        "    inputLayer = X\n",
        "    #dot product\n",
        "    l1 = np.dot(inputLayer, syn0)\n",
        "    #activate\n",
        "    output = sigmoid(l1)\n",
        "\n",
        "    # how much did we miss by?\n",
        "    output_error = loss(output)\n",
        "    #back propagation step\n",
        "    # multiply how much we missed by the\n",
        "    # slope of the sigmoid at the values of L1  \n",
        "    output_delta = output_error * dsigmoid(output)\n",
        "    # how much did we miss?\n",
        " \n",
        "    # update weights\n",
        "    syn0 += np.dot(inputLayer.T, output_delta)\n",
        "print (\"Output After Training:\\n\", output)\n",
        "print (\"target: \\n\", y)\n"
      ],
      "execution_count": 49,
      "outputs": [
        {
          "output_type": "stream",
          "text": [
            "(3, 1)\n",
            "Output After Training:\n",
            " [[0.0125443 ]\n",
            " [0.01020048]\n",
            " [0.99168925]\n",
            " [0.98977515]]\n",
            "target: \n",
            " [[0]\n",
            " [0]\n",
            " [1]\n",
            " [1]]\n"
          ],
          "name": "stdout"
        }
      ]
    },
    {
      "cell_type": "markdown",
      "metadata": {
        "id": "u-rTqPdsEHQ3",
        "colab_type": "text"
      },
      "source": [
        "# architecture: 2 layer\n",
        "\n",
        "input layer 4x3: observations 3 features\n",
        "\n",
        "neurons layer: 3x4, 4x1\n",
        "\n",
        "$[4\\times3] \\cdot [3\\times4] \\cdot [4\\times1] => [1]$"
      ]
    },
    {
      "cell_type": "code",
      "metadata": {
        "id": "o-g4_5fKHgan",
        "colab_type": "code",
        "outputId": "1d9139e1-c7da-4326-802e-a8e38af365ee",
        "colab": {
          "base_uri": "https://localhost:8080/",
          "height": 212
        }
      },
      "source": [
        "np.random.seed(1)\n",
        "\n",
        "# randomly initialize our weights with mean 0\n",
        "syn0 = 2 * np.random.random((3, 4)) - 1\n",
        "syn1 = 2 * np.random.random((4, 1)) - 1\n",
        "\n",
        "print (syn0.shape, \"\\n\", syn1.shape)\n",
        "\n",
        "loss_hidden = []\n",
        "loss_output = []\n",
        "\n",
        "# 2 layers\n",
        "for iterate in range(training):\n",
        "  inputLayer = X  \n",
        "  #dot product\n",
        "  la1 = np.dot(inputLayer, syn0)\n",
        "  #activate\n",
        "  layer1out = sigmoid(la1)\n",
        "\n",
        "  la2 = np.dot(layer1out, syn1)\n",
        "  #activate\n",
        "  outputLayer = sigmoid(la2)\n",
        "  \n",
        "  #calculate loss on the output layer\n",
        "  outputLayer_error = loss(outputLayer)\n",
        "  loss_output.append(outputLayer_error.sum())\n",
        "  outputLayer_delta = outputLayer_error * dsigmoid(outputLayer)\n",
        "\n",
        "  l1_error = outputLayer_delta.dot(syn1.T)\n",
        "  loss_hidden.append(l1_error.sum())\n",
        "  l1_delta = l1_error * dsigmoid(layer1out)\n",
        " \n",
        "  # back propagation step\n",
        "  # multiply how much we missed by the\n",
        "  # slope of the sigmoid at the values in l1\n",
        "\n",
        "  syn1 += outputLayer.T.dot(outputLayer_delta)\n",
        "  syn0 += inputLayer.T.dot(l1_delta)\n",
        "  \n",
        "print (\"Final Prediction:\\n\", outputLayer)\n",
        "\n",
        "print (\"target: \\n\", y)\n"
      ],
      "execution_count": 50,
      "outputs": [
        {
          "output_type": "stream",
          "text": [
            "(3, 4) \n",
            " (4, 1)\n",
            "Final Prediction:\n",
            " [[0.2906081 ]\n",
            " [0.28930027]\n",
            " [0.84495703]\n",
            " [0.84333511]]\n",
            "target: \n",
            " [[0]\n",
            " [0]\n",
            " [1]\n",
            " [1]]\n"
          ],
          "name": "stdout"
        }
      ]
    },
    {
      "cell_type": "code",
      "metadata": {
        "id": "D7ig1tuBWS9b",
        "colab_type": "code",
        "outputId": "63cd873e-c377-4c05-ac92-020d762f29c2",
        "colab": {
          "base_uri": "https://localhost:8080/",
          "height": 311
        }
      },
      "source": [
        "import pylab as pl\n",
        "%pylab inline\n",
        "pl.plot(loss_output, label=\"output\")\n",
        "pl.plot(loss_hidden, label=\"hidden\")\n",
        "pl.legend()\n",
        "pl.xlabel(\"iteration\")\n",
        "pl.ylabel(\"loss\")"
      ],
      "execution_count": 51,
      "outputs": [
        {
          "output_type": "stream",
          "text": [
            "Populating the interactive namespace from numpy and matplotlib\n"
          ],
          "name": "stdout"
        },
        {
          "output_type": "execute_result",
          "data": {
            "text/plain": [
              "Text(0, 0.5, 'loss')"
            ]
          },
          "metadata": {
            "tags": []
          },
          "execution_count": 51
        },
        {
          "output_type": "display_data",
          "data": {
            "image/png": "[encoded data removed]",
            "text/plain": [
              "<Figure size 432x288 with 1 Axes>"
            ]
          },
          "metadata": {
            "tags": [],
            "needs_background": "light"
          }
        }
      ]
    },
    {
      "cell_type": "code",
      "metadata": {
        "id": "GFqoz3MSrIcJ",
        "colab_type": "code",
        "colab": {}
      },
      "source": [
        ""
      ],
      "execution_count": 0,
      "outputs": []
    }
  ]
}