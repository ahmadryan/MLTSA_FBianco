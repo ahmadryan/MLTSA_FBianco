{
  "nbformat": 4,
  "nbformat_minor": 0,
  "metadata": {
    "kernelspec": {
      "display_name": "Python 3",
      "language": "python",
      "name": "python3"
    },
    "language_info": {
      "codemirror_mode": {
        "name": "ipython",
        "version": 3
      },
      "file_extension": ".py",
      "mimetype": "text/x-python",
      "name": "python",
      "nbconvert_exporter": "python",
      "pygments_lexer": "ipython3",
      "version": "3.7.3"
    },
    "latex_envs": {
      "LaTeX_envs_menu_present": true,
      "autoclose": false,
      "autocomplete": true,
      "bibliofile": "biblio.bib",
      "cite_by": "apalike",
      "current_citInitial": 1,
      "eqLabelWithNumbers": true,
      "eqNumInitial": 1,
      "hotkeys": {
        "equation": "Ctrl-E",
        "itemize": "Ctrl-I"
      },
      "labels_anchors": false,
      "latex_user_defs": false,
      "report_style_numbering": false,
      "user_envs_cfg": false
    },
    "nbTranslate": {
      "displayLangs": [
        "*"
      ],
      "hotkey": "alt-t",
      "langInMainMenu": true,
      "sourceLang": "en",
      "targetLang": "fr",
      "useGoogleTranslate": true
    },
    "toc": {
      "base_numbering": 1,
      "nav_menu": {},
      "number_sections": true,
      "sideBar": true,
      "skip_h1_title": false,
      "title_cell": "Table of Contents",
      "title_sidebar": "Contents",
      "toc_cell": false,
      "toc_position": {},
      "toc_section_display": true,
      "toc_window_display": false
    },
    "colab": {
      "name": "whitening.ipynb",
      "provenance": [],
      "include_colab_link": true
    }
  },
  "cells": [
    {
      "cell_type": "markdown",
      "metadata": {
        "id": "view-in-github",
        "colab_type": "text"
      },
      "source": [
        "<a href=\"https://colab.research.google.com/github/fedhere/MLTSA_FBianco/blob/master/CodeExamples/whitening.ipynb\" target=\"_parent\"><img src=\"https://colab.research.google.com/assets/colab-badge.svg\" alt=\"Open In Colab\"/></a>"
      ]
    },
    {
      "cell_type": "code",
      "metadata": {
        "id": "n-7gYV3yV7qB",
        "colab_type": "code",
        "colab": {
          "base_uri": "https://localhost:8080/",
          "height": 34
        },
        "outputId": "79649e48-e81d-42b7-d28e-609bb68861b7"
      },
      "source": [
        "\n",
        "import pandas as pd\n",
        "import json\n",
        "import os\n",
        "import pylab as pl\n",
        "%pylab inline\n"
      ],
      "execution_count": 1,
      "outputs": [
        {
          "output_type": "stream",
          "text": [
            "Populating the interactive namespace from numpy and matplotlib\n"
          ],
          "name": "stdout"
        }
      ]
    },
    {
      "cell_type": "code",
      "metadata": {
        "id": "R_VklRmaV3nK",
        "colab_type": "code",
        "outputId": "bfcf0aa2-4c06-4561-89f5-194ce5d24cc3",
        "colab": {
          "base_uri": "https://localhost:8080/",
          "height": 232
        }
      },
      "source": [
        "!pip install kaggle"
      ],
      "execution_count": 2,
      "outputs": [
        {
          "output_type": "stream",
          "text": [
            "Requirement already satisfied: kaggle in /usr/local/lib/python3.6/dist-packages (1.5.6)\n",
            "Requirement already satisfied: python-dateutil in /usr/local/lib/python3.6/dist-packages (from kaggle) (2.8.1)\n",
            "Requirement already satisfied: urllib3<1.25,>=1.21.1 in /usr/local/lib/python3.6/dist-packages (from kaggle) (1.24.3)\n",
            "Requirement already satisfied: requests in /usr/local/lib/python3.6/dist-packages (from kaggle) (2.21.0)\n",
            "Requirement already satisfied: certifi in /usr/local/lib/python3.6/dist-packages (from kaggle) (2019.11.28)\n",
            "Requirement already satisfied: tqdm in /usr/local/lib/python3.6/dist-packages (from kaggle) (4.38.0)\n",
            "Requirement already satisfied: python-slugify in /usr/local/lib/python3.6/dist-packages (from kaggle) (4.0.0)\n",
            "Requirement already satisfied: six>=1.10 in /usr/local/lib/python3.6/dist-packages (from kaggle) (1.12.0)\n",
            "Requirement already satisfied: chardet<3.1.0,>=3.0.2 in /usr/local/lib/python3.6/dist-packages (from requests->kaggle) (3.0.4)\n",
            "Requirement already satisfied: idna<2.9,>=2.5 in /usr/local/lib/python3.6/dist-packages (from requests->kaggle) (2.8)\n",
            "Requirement already satisfied: text-unidecode>=1.3 in /usr/local/lib/python3.6/dist-packages (from python-slugify->kaggle) (1.3)\n"
          ],
          "name": "stdout"
        }
      ]
    },
    {
      "cell_type": "code",
      "metadata": {
        "ExecuteTime": {
          "end_time": "2020-03-08T19:57:52.517177Z",
          "start_time": "2020-03-08T19:57:51.654212Z"
        },
        "id": "sEDQ2oagTJmh",
        "colab_type": "code",
        "outputId": "e91eef9e-15c6-466e-e341-994bfadea763",
        "colab": {
          "base_uri": "https://localhost:8080/",
          "height": 34
        }
      },
      "source": [
        "import pandas as pd\n",
        "import pylab as pl\n",
        "import json\n",
        "import os\n",
        "%pylab inline\n",
        "\n",
        "pl.style.use(\"bmh\")"
      ],
      "execution_count": 3,
      "outputs": [
        {
          "output_type": "stream",
          "text": [
            "Populating the interactive namespace from numpy and matplotlib\n"
          ],
          "name": "stdout"
        }
      ]
    },
    {
      "cell_type": "code",
      "metadata": {
        "id": "nAG5AlJ6WHdr",
        "colab_type": "code",
        "outputId": "d81b386a-26aa-4548-a655-10d06dd0b444",
        "colab": {
          "base_uri": "https://localhost:8080/",
          "height": 54
        }
      },
      "source": [
        "from google.colab import drive\n",
        "\n",
        "drive.mount(\"/content/gdrive\")\n"
      ],
      "execution_count": 4,
      "outputs": [
        {
          "output_type": "stream",
          "text": [
            "Drive already mounted at /content/gdrive; to attempt to forcibly remount, call drive.mount(\"/content/gdrive\", force_remount=True).\n"
          ],
          "name": "stdout"
        }
      ]
    },
    {
      "cell_type": "code",
      "metadata": {
        "id": "eP8jrBD1WHQX",
        "colab_type": "code",
        "outputId": "b2074f31-3fd3-4faa-8bd2-f13a2261b249",
        "colab": {
          "base_uri": "https://localhost:8080/",
          "height": 34
        }
      },
      "source": [
        "cd gdrive/My\\ Drive/\n"
      ],
      "execution_count": 5,
      "outputs": [
        {
          "output_type": "stream",
          "text": [
            "/content/gdrive/My Drive\n"
          ],
          "name": "stdout"
        }
      ]
    },
    {
      "cell_type": "code",
      "metadata": {
        "id": "NWelF0tnWckD",
        "colab_type": "code",
        "outputId": "5c1e6161-5763-4f50-cae7-a746fbe4f718",
        "colab": {
          "base_uri": "https://localhost:8080/",
          "height": 34
        }
      },
      "source": [
        "!ls kaggle.json"
      ],
      "execution_count": 6,
      "outputs": [
        {
          "output_type": "stream",
          "text": [
            "kaggle.json\n"
          ],
          "name": "stdout"
        }
      ]
    },
    {
      "cell_type": "code",
      "metadata": {
        "id": "Cup6yqlnWhER",
        "colab_type": "code",
        "colab": {}
      },
      "source": [
        "!chmod 600 kaggle.json\n"
      ],
      "execution_count": 0,
      "outputs": []
    },
    {
      "cell_type": "code",
      "metadata": {
        "id": "AP87qVPOWfcr",
        "colab_type": "code",
        "colab": {}
      },
      "source": [
        "\n",
        "envs = json.load(open(\"kaggle.json\", \"r\"))\n",
        "os.environ[\"KAGGLE_USERNAME\"] = envs['username']\n",
        "os.environ[\"KAGGLE_KEY\"] = envs['key']"
      ],
      "execution_count": 0,
      "outputs": []
    },
    {
      "cell_type": "code",
      "metadata": {
        "id": "Aw3fLh_IWGsQ",
        "colab_type": "code",
        "outputId": "8edc9460-8cc0-4e87-c73b-08c67a43a512",
        "colab": {
          "base_uri": "https://localhost:8080/",
          "height": 267
        }
      },
      "source": [
        "!kaggle competitions download -c higgs-boson\n"
      ],
      "execution_count": 9,
      "outputs": [
        {
          "output_type": "stream",
          "text": [
            "Warning: Looks like you're using an outdated API Version, please consider updating (server 1.5.6 / client 1.5.4)\n",
            "Downloading training.zip to /content/gdrive/My Drive\n",
            " 83% 14.0M/16.9M [00:12<00:17, 175kB/s]\n",
            "100% 16.9M/16.9M [00:12<00:00, 1.42MB/s]\n",
            "Downloading test.zip to /content/gdrive/My Drive\n",
            " 95% 33.0M/34.8M [00:01<00:00, 1.92MB/s]\n",
            "100% 34.8M/34.8M [00:01<00:00, 18.5MB/s]\n",
            "Downloading random_submission.zip to /content/gdrive/My Drive\n",
            " 39% 1.00M/2.58M [00:01<00:01, 987kB/s]\n",
            "100% 2.58M/2.58M [00:01<00:00, 2.41MB/s]\n",
            "Downloading HiggsBosonCompetition_AMSMetric_rev1.py to /content/gdrive/My Drive\n",
            "100% 3.15k/3.15k [00:00<00:00, 3.99kB/s]\n",
            "\n"
          ],
          "name": "stdout"
        }
      ]
    },
    {
      "cell_type": "code",
      "metadata": {
        "id": "aYuyniiBXrCX",
        "colab_type": "code",
        "outputId": "0ba8e13a-d73e-4853-a3a6-90351f437ba7",
        "colab": {
          "base_uri": "https://localhost:8080/",
          "height": 70
        }
      },
      "source": [
        "!unzip test.zip \n"
      ],
      "execution_count": 10,
      "outputs": [
        {
          "output_type": "stream",
          "text": [
            "Archive:  test.zip\n",
            "replace test.csv? [y]es, [n]o, [A]ll, [N]one, [r]ename: y\n",
            "  inflating: test.csv                \n"
          ],
          "name": "stdout"
        }
      ]
    },
    {
      "cell_type": "code",
      "metadata": {
        "id": "3yYEgINhXq0w",
        "colab_type": "code",
        "colab": {}
      },
      "source": [
        "data = pd.read_csv(\"test.csv\")\n"
      ],
      "execution_count": 0,
      "outputs": []
    },
    {
      "cell_type": "code",
      "metadata": {
        "id": "0BwcwdNzXql9",
        "colab_type": "code",
        "outputId": "70a31a9d-1487-46e1-f5f2-c336f4a5fd36",
        "colab": {
          "base_uri": "https://localhost:8080/",
          "height": 217
        }
      },
      "source": [
        "data.head()"
      ],
      "execution_count": 12,
      "outputs": [
        {
          "output_type": "execute_result",
          "data": {
            "text/html": [
              "<div>\n",
              "<style scoped>\n",
              "    .dataframe tbody tr th:only-of-type {\n",
              "        vertical-align: middle;\n",
              "    }\n",
              "\n",
              "    .dataframe tbody tr th {\n",
              "        vertical-align: top;\n",
              "    }\n",
              "\n",
              "    .dataframe thead th {\n",
              "        text-align: right;\n",
              "    }\n",
              "</style>\n",
              "<table border=\"1\" class=\"dataframe\">\n",
              "  <thead>\n",
              "    <tr style=\"text-align: right;\">\n",
              "      <th></th>\n",
              "      <th>EventId</th>\n",
              "      <th>DER_mass_MMC</th>\n",
              "      <th>DER_mass_transverse_met_lep</th>\n",
              "      <th>DER_mass_vis</th>\n",
              "      <th>DER_pt_h</th>\n",
              "      <th>DER_deltaeta_jet_jet</th>\n",
              "      <th>DER_mass_jet_jet</th>\n",
              "      <th>DER_prodeta_jet_jet</th>\n",
              "      <th>DER_deltar_tau_lep</th>\n",
              "      <th>DER_pt_tot</th>\n",
              "      <th>DER_sum_pt</th>\n",
              "      <th>DER_pt_ratio_lep_tau</th>\n",
              "      <th>DER_met_phi_centrality</th>\n",
              "      <th>DER_lep_eta_centrality</th>\n",
              "      <th>PRI_tau_pt</th>\n",
              "      <th>PRI_tau_eta</th>\n",
              "      <th>PRI_tau_phi</th>\n",
              "      <th>PRI_lep_pt</th>\n",
              "      <th>PRI_lep_eta</th>\n",
              "      <th>PRI_lep_phi</th>\n",
              "      <th>PRI_met</th>\n",
              "      <th>PRI_met_phi</th>\n",
              "      <th>PRI_met_sumet</th>\n",
              "      <th>PRI_jet_num</th>\n",
              "      <th>PRI_jet_leading_pt</th>\n",
              "      <th>PRI_jet_leading_eta</th>\n",
              "      <th>PRI_jet_leading_phi</th>\n",
              "      <th>PRI_jet_subleading_pt</th>\n",
              "      <th>PRI_jet_subleading_eta</th>\n",
              "      <th>PRI_jet_subleading_phi</th>\n",
              "      <th>PRI_jet_all_pt</th>\n",
              "    </tr>\n",
              "  </thead>\n",
              "  <tbody>\n",
              "    <tr>\n",
              "      <th>0</th>\n",
              "      <td>350000</td>\n",
              "      <td>-999.000</td>\n",
              "      <td>79.589</td>\n",
              "      <td>23.916</td>\n",
              "      <td>3.036</td>\n",
              "      <td>-999.000</td>\n",
              "      <td>-999.000</td>\n",
              "      <td>-999.000</td>\n",
              "      <td>0.903</td>\n",
              "      <td>3.036</td>\n",
              "      <td>56.018</td>\n",
              "      <td>1.536</td>\n",
              "      <td>-1.404</td>\n",
              "      <td>-999.000</td>\n",
              "      <td>22.088</td>\n",
              "      <td>-0.540</td>\n",
              "      <td>-0.609</td>\n",
              "      <td>33.930</td>\n",
              "      <td>-0.504</td>\n",
              "      <td>-1.511</td>\n",
              "      <td>48.509</td>\n",
              "      <td>2.022</td>\n",
              "      <td>98.556</td>\n",
              "      <td>0</td>\n",
              "      <td>-999.000</td>\n",
              "      <td>-999.000</td>\n",
              "      <td>-999.000</td>\n",
              "      <td>-999.000</td>\n",
              "      <td>-999.000</td>\n",
              "      <td>-999.000</td>\n",
              "      <td>-0.000</td>\n",
              "    </tr>\n",
              "    <tr>\n",
              "      <th>1</th>\n",
              "      <td>350001</td>\n",
              "      <td>106.398</td>\n",
              "      <td>67.490</td>\n",
              "      <td>87.949</td>\n",
              "      <td>49.994</td>\n",
              "      <td>-999.000</td>\n",
              "      <td>-999.000</td>\n",
              "      <td>-999.000</td>\n",
              "      <td>2.048</td>\n",
              "      <td>2.679</td>\n",
              "      <td>132.865</td>\n",
              "      <td>1.777</td>\n",
              "      <td>-1.204</td>\n",
              "      <td>-999.000</td>\n",
              "      <td>30.716</td>\n",
              "      <td>-1.784</td>\n",
              "      <td>3.054</td>\n",
              "      <td>54.574</td>\n",
              "      <td>-0.169</td>\n",
              "      <td>1.795</td>\n",
              "      <td>21.093</td>\n",
              "      <td>-1.138</td>\n",
              "      <td>176.251</td>\n",
              "      <td>1</td>\n",
              "      <td>47.575</td>\n",
              "      <td>-0.553</td>\n",
              "      <td>-0.849</td>\n",
              "      <td>-999.000</td>\n",
              "      <td>-999.000</td>\n",
              "      <td>-999.000</td>\n",
              "      <td>47.575</td>\n",
              "    </tr>\n",
              "    <tr>\n",
              "      <th>2</th>\n",
              "      <td>350002</td>\n",
              "      <td>117.794</td>\n",
              "      <td>56.226</td>\n",
              "      <td>96.358</td>\n",
              "      <td>4.137</td>\n",
              "      <td>-999.000</td>\n",
              "      <td>-999.000</td>\n",
              "      <td>-999.000</td>\n",
              "      <td>2.755</td>\n",
              "      <td>4.137</td>\n",
              "      <td>97.600</td>\n",
              "      <td>1.096</td>\n",
              "      <td>-1.408</td>\n",
              "      <td>-999.000</td>\n",
              "      <td>46.564</td>\n",
              "      <td>-0.298</td>\n",
              "      <td>3.079</td>\n",
              "      <td>51.036</td>\n",
              "      <td>-0.548</td>\n",
              "      <td>0.336</td>\n",
              "      <td>19.461</td>\n",
              "      <td>-1.868</td>\n",
              "      <td>111.505</td>\n",
              "      <td>0</td>\n",
              "      <td>-999.000</td>\n",
              "      <td>-999.000</td>\n",
              "      <td>-999.000</td>\n",
              "      <td>-999.000</td>\n",
              "      <td>-999.000</td>\n",
              "      <td>-999.000</td>\n",
              "      <td>0.000</td>\n",
              "    </tr>\n",
              "    <tr>\n",
              "      <th>3</th>\n",
              "      <td>350003</td>\n",
              "      <td>135.861</td>\n",
              "      <td>30.604</td>\n",
              "      <td>97.288</td>\n",
              "      <td>9.104</td>\n",
              "      <td>-999.000</td>\n",
              "      <td>-999.000</td>\n",
              "      <td>-999.000</td>\n",
              "      <td>2.811</td>\n",
              "      <td>9.104</td>\n",
              "      <td>94.112</td>\n",
              "      <td>0.819</td>\n",
              "      <td>-1.382</td>\n",
              "      <td>-999.000</td>\n",
              "      <td>51.741</td>\n",
              "      <td>0.388</td>\n",
              "      <td>-1.408</td>\n",
              "      <td>42.371</td>\n",
              "      <td>-0.295</td>\n",
              "      <td>2.148</td>\n",
              "      <td>25.131</td>\n",
              "      <td>1.172</td>\n",
              "      <td>164.707</td>\n",
              "      <td>0</td>\n",
              "      <td>-999.000</td>\n",
              "      <td>-999.000</td>\n",
              "      <td>-999.000</td>\n",
              "      <td>-999.000</td>\n",
              "      <td>-999.000</td>\n",
              "      <td>-999.000</td>\n",
              "      <td>0.000</td>\n",
              "    </tr>\n",
              "    <tr>\n",
              "      <th>4</th>\n",
              "      <td>350004</td>\n",
              "      <td>74.159</td>\n",
              "      <td>82.772</td>\n",
              "      <td>58.731</td>\n",
              "      <td>89.646</td>\n",
              "      <td>1.347</td>\n",
              "      <td>536.663</td>\n",
              "      <td>-0.339</td>\n",
              "      <td>1.028</td>\n",
              "      <td>77.213</td>\n",
              "      <td>721.552</td>\n",
              "      <td>1.713</td>\n",
              "      <td>-0.913</td>\n",
              "      <td>0.004</td>\n",
              "      <td>45.087</td>\n",
              "      <td>-1.548</td>\n",
              "      <td>1.877</td>\n",
              "      <td>77.252</td>\n",
              "      <td>-1.913</td>\n",
              "      <td>2.838</td>\n",
              "      <td>22.200</td>\n",
              "      <td>-0.231</td>\n",
              "      <td>869.614</td>\n",
              "      <td>3</td>\n",
              "      <td>254.085</td>\n",
              "      <td>-1.013</td>\n",
              "      <td>-0.334</td>\n",
              "      <td>185.857</td>\n",
              "      <td>0.335</td>\n",
              "      <td>2.587</td>\n",
              "      <td>599.213</td>\n",
              "    </tr>\n",
              "  </tbody>\n",
              "</table>\n",
              "</div>"
            ],
            "text/plain": [
              "   EventId  DER_mass_MMC  ...  PRI_jet_subleading_phi  PRI_jet_all_pt\n",
              "0   350000      -999.000  ...                -999.000          -0.000\n",
              "1   350001       106.398  ...                -999.000          47.575\n",
              "2   350002       117.794  ...                -999.000           0.000\n",
              "3   350003       135.861  ...                -999.000           0.000\n",
              "4   350004        74.159  ...                   2.587         599.213\n",
              "\n",
              "[5 rows x 31 columns]"
            ]
          },
          "metadata": {
            "tags": []
          },
          "execution_count": 12
        }
      ]
    },
    {
      "cell_type": "code",
      "metadata": {
        "id": "9elrwaI5XqZh",
        "colab_type": "code",
        "outputId": "65a6a011-f2f1-496c-8f21-ca8352546c42",
        "colab": {
          "base_uri": "https://localhost:8080/",
          "height": 217
        }
      },
      "source": [
        "data.tail()"
      ],
      "execution_count": 13,
      "outputs": [
        {
          "output_type": "execute_result",
          "data": {
            "text/html": [
              "<div>\n",
              "<style scoped>\n",
              "    .dataframe tbody tr th:only-of-type {\n",
              "        vertical-align: middle;\n",
              "    }\n",
              "\n",
              "    .dataframe tbody tr th {\n",
              "        vertical-align: top;\n",
              "    }\n",
              "\n",
              "    .dataframe thead th {\n",
              "        text-align: right;\n",
              "    }\n",
              "</style>\n",
              "<table border=\"1\" class=\"dataframe\">\n",
              "  <thead>\n",
              "    <tr style=\"text-align: right;\">\n",
              "      <th></th>\n",
              "      <th>EventId</th>\n",
              "      <th>DER_mass_MMC</th>\n",
              "      <th>DER_mass_transverse_met_lep</th>\n",
              "      <th>DER_mass_vis</th>\n",
              "      <th>DER_pt_h</th>\n",
              "      <th>DER_deltaeta_jet_jet</th>\n",
              "      <th>DER_mass_jet_jet</th>\n",
              "      <th>DER_prodeta_jet_jet</th>\n",
              "      <th>DER_deltar_tau_lep</th>\n",
              "      <th>DER_pt_tot</th>\n",
              "      <th>DER_sum_pt</th>\n",
              "      <th>DER_pt_ratio_lep_tau</th>\n",
              "      <th>DER_met_phi_centrality</th>\n",
              "      <th>DER_lep_eta_centrality</th>\n",
              "      <th>PRI_tau_pt</th>\n",
              "      <th>PRI_tau_eta</th>\n",
              "      <th>PRI_tau_phi</th>\n",
              "      <th>PRI_lep_pt</th>\n",
              "      <th>PRI_lep_eta</th>\n",
              "      <th>PRI_lep_phi</th>\n",
              "      <th>PRI_met</th>\n",
              "      <th>PRI_met_phi</th>\n",
              "      <th>PRI_met_sumet</th>\n",
              "      <th>PRI_jet_num</th>\n",
              "      <th>PRI_jet_leading_pt</th>\n",
              "      <th>PRI_jet_leading_eta</th>\n",
              "      <th>PRI_jet_leading_phi</th>\n",
              "      <th>PRI_jet_subleading_pt</th>\n",
              "      <th>PRI_jet_subleading_eta</th>\n",
              "      <th>PRI_jet_subleading_phi</th>\n",
              "      <th>PRI_jet_all_pt</th>\n",
              "    </tr>\n",
              "  </thead>\n",
              "  <tbody>\n",
              "    <tr>\n",
              "      <th>549995</th>\n",
              "      <td>899995</td>\n",
              "      <td>309.530</td>\n",
              "      <td>28.185</td>\n",
              "      <td>170.795</td>\n",
              "      <td>99.349</td>\n",
              "      <td>-999.0</td>\n",
              "      <td>-999.0</td>\n",
              "      <td>-999.0</td>\n",
              "      <td>3.061</td>\n",
              "      <td>2.367</td>\n",
              "      <td>212.640</td>\n",
              "      <td>0.708</td>\n",
              "      <td>1.346</td>\n",
              "      <td>-999.0</td>\n",
              "      <td>67.429</td>\n",
              "      <td>0.657</td>\n",
              "      <td>-2.560</td>\n",
              "      <td>47.761</td>\n",
              "      <td>-1.372</td>\n",
              "      <td>1.431</td>\n",
              "      <td>61.754</td>\n",
              "      <td>1.956</td>\n",
              "      <td>177.103</td>\n",
              "      <td>1</td>\n",
              "      <td>97.451</td>\n",
              "      <td>-1.759</td>\n",
              "      <td>-0.733</td>\n",
              "      <td>-999.0</td>\n",
              "      <td>-999.0</td>\n",
              "      <td>-999.0</td>\n",
              "      <td>97.451</td>\n",
              "    </tr>\n",
              "    <tr>\n",
              "      <th>549996</th>\n",
              "      <td>899996</td>\n",
              "      <td>105.653</td>\n",
              "      <td>5.096</td>\n",
              "      <td>77.256</td>\n",
              "      <td>33.040</td>\n",
              "      <td>-999.0</td>\n",
              "      <td>-999.0</td>\n",
              "      <td>-999.0</td>\n",
              "      <td>2.693</td>\n",
              "      <td>33.040</td>\n",
              "      <td>62.279</td>\n",
              "      <td>0.948</td>\n",
              "      <td>0.551</td>\n",
              "      <td>-999.0</td>\n",
              "      <td>31.964</td>\n",
              "      <td>0.162</td>\n",
              "      <td>-2.624</td>\n",
              "      <td>30.315</td>\n",
              "      <td>-1.404</td>\n",
              "      <td>-0.432</td>\n",
              "      <td>12.670</td>\n",
              "      <td>-0.172</td>\n",
              "      <td>130.730</td>\n",
              "      <td>0</td>\n",
              "      <td>-999.000</td>\n",
              "      <td>-999.000</td>\n",
              "      <td>-999.000</td>\n",
              "      <td>-999.0</td>\n",
              "      <td>-999.0</td>\n",
              "      <td>-999.0</td>\n",
              "      <td>-0.000</td>\n",
              "    </tr>\n",
              "    <tr>\n",
              "      <th>549997</th>\n",
              "      <td>899997</td>\n",
              "      <td>-999.000</td>\n",
              "      <td>69.470</td>\n",
              "      <td>51.766</td>\n",
              "      <td>1.189</td>\n",
              "      <td>-999.0</td>\n",
              "      <td>-999.0</td>\n",
              "      <td>-999.0</td>\n",
              "      <td>1.615</td>\n",
              "      <td>1.189</td>\n",
              "      <td>72.350</td>\n",
              "      <td>0.752</td>\n",
              "      <td>-1.398</td>\n",
              "      <td>-999.0</td>\n",
              "      <td>41.290</td>\n",
              "      <td>0.559</td>\n",
              "      <td>-2.156</td>\n",
              "      <td>31.060</td>\n",
              "      <td>0.578</td>\n",
              "      <td>2.512</td>\n",
              "      <td>49.505</td>\n",
              "      <td>0.336</td>\n",
              "      <td>71.646</td>\n",
              "      <td>0</td>\n",
              "      <td>-999.000</td>\n",
              "      <td>-999.000</td>\n",
              "      <td>-999.000</td>\n",
              "      <td>-999.0</td>\n",
              "      <td>-999.0</td>\n",
              "      <td>-999.0</td>\n",
              "      <td>-0.000</td>\n",
              "    </tr>\n",
              "    <tr>\n",
              "      <th>549998</th>\n",
              "      <td>899998</td>\n",
              "      <td>107.254</td>\n",
              "      <td>13.500</td>\n",
              "      <td>79.833</td>\n",
              "      <td>50.801</td>\n",
              "      <td>-999.0</td>\n",
              "      <td>-999.0</td>\n",
              "      <td>-999.0</td>\n",
              "      <td>2.026</td>\n",
              "      <td>7.993</td>\n",
              "      <td>135.762</td>\n",
              "      <td>1.087</td>\n",
              "      <td>-0.288</td>\n",
              "      <td>-999.0</td>\n",
              "      <td>44.403</td>\n",
              "      <td>-0.504</td>\n",
              "      <td>1.710</td>\n",
              "      <td>48.260</td>\n",
              "      <td>-0.096</td>\n",
              "      <td>-0.274</td>\n",
              "      <td>7.741</td>\n",
              "      <td>-0.988</td>\n",
              "      <td>243.371</td>\n",
              "      <td>1</td>\n",
              "      <td>43.099</td>\n",
              "      <td>-0.352</td>\n",
              "      <td>-2.594</td>\n",
              "      <td>-999.0</td>\n",
              "      <td>-999.0</td>\n",
              "      <td>-999.0</td>\n",
              "      <td>43.099</td>\n",
              "    </tr>\n",
              "    <tr>\n",
              "      <th>549999</th>\n",
              "      <td>899999</td>\n",
              "      <td>107.961</td>\n",
              "      <td>85.200</td>\n",
              "      <td>75.670</td>\n",
              "      <td>42.009</td>\n",
              "      <td>-999.0</td>\n",
              "      <td>-999.0</td>\n",
              "      <td>-999.0</td>\n",
              "      <td>2.877</td>\n",
              "      <td>7.699</td>\n",
              "      <td>130.114</td>\n",
              "      <td>2.175</td>\n",
              "      <td>1.401</td>\n",
              "      <td>-999.0</td>\n",
              "      <td>25.473</td>\n",
              "      <td>-1.098</td>\n",
              "      <td>2.681</td>\n",
              "      <td>55.410</td>\n",
              "      <td>-0.731</td>\n",
              "      <td>-0.173</td>\n",
              "      <td>41.663</td>\n",
              "      <td>2.007</td>\n",
              "      <td>183.695</td>\n",
              "      <td>1</td>\n",
              "      <td>49.231</td>\n",
              "      <td>-0.234</td>\n",
              "      <td>-1.973</td>\n",
              "      <td>-999.0</td>\n",
              "      <td>-999.0</td>\n",
              "      <td>-999.0</td>\n",
              "      <td>49.231</td>\n",
              "    </tr>\n",
              "  </tbody>\n",
              "</table>\n",
              "</div>"
            ],
            "text/plain": [
              "        EventId  DER_mass_MMC  ...  PRI_jet_subleading_phi  PRI_jet_all_pt\n",
              "549995   899995       309.530  ...                  -999.0          97.451\n",
              "549996   899996       105.653  ...                  -999.0          -0.000\n",
              "549997   899997      -999.000  ...                  -999.0          -0.000\n",
              "549998   899998       107.254  ...                  -999.0          43.099\n",
              "549999   899999       107.961  ...                  -999.0          49.231\n",
              "\n",
              "[5 rows x 31 columns]"
            ]
          },
          "metadata": {
            "tags": []
          },
          "execution_count": 13
        }
      ]
    },
    {
      "cell_type": "code",
      "metadata": {
        "id": "Up7kWqF_X3dQ",
        "colab_type": "code",
        "outputId": "51af2479-c503-4850-b56a-095ff7886742",
        "colab": {
          "base_uri": "https://localhost:8080/",
          "height": 307
        }
      },
      "source": [
        "data.describe()\n"
      ],
      "execution_count": 14,
      "outputs": [
        {
          "output_type": "execute_result",
          "data": {
            "text/html": [
              "<div>\n",
              "<style scoped>\n",
              "    .dataframe tbody tr th:only-of-type {\n",
              "        vertical-align: middle;\n",
              "    }\n",
              "\n",
              "    .dataframe tbody tr th {\n",
              "        vertical-align: top;\n",
              "    }\n",
              "\n",
              "    .dataframe thead th {\n",
              "        text-align: right;\n",
              "    }\n",
              "</style>\n",
              "<table border=\"1\" class=\"dataframe\">\n",
              "  <thead>\n",
              "    <tr style=\"text-align: right;\">\n",
              "      <th></th>\n",
              "      <th>EventId</th>\n",
              "      <th>DER_mass_MMC</th>\n",
              "      <th>DER_mass_transverse_met_lep</th>\n",
              "      <th>DER_mass_vis</th>\n",
              "      <th>DER_pt_h</th>\n",
              "      <th>DER_deltaeta_jet_jet</th>\n",
              "      <th>DER_mass_jet_jet</th>\n",
              "      <th>DER_prodeta_jet_jet</th>\n",
              "      <th>DER_deltar_tau_lep</th>\n",
              "      <th>DER_pt_tot</th>\n",
              "      <th>DER_sum_pt</th>\n",
              "      <th>DER_pt_ratio_lep_tau</th>\n",
              "      <th>DER_met_phi_centrality</th>\n",
              "      <th>DER_lep_eta_centrality</th>\n",
              "      <th>PRI_tau_pt</th>\n",
              "      <th>PRI_tau_eta</th>\n",
              "      <th>PRI_tau_phi</th>\n",
              "      <th>PRI_lep_pt</th>\n",
              "      <th>PRI_lep_eta</th>\n",
              "      <th>PRI_lep_phi</th>\n",
              "      <th>PRI_met</th>\n",
              "      <th>PRI_met_phi</th>\n",
              "      <th>PRI_met_sumet</th>\n",
              "      <th>PRI_jet_num</th>\n",
              "      <th>PRI_jet_leading_pt</th>\n",
              "      <th>PRI_jet_leading_eta</th>\n",
              "      <th>PRI_jet_leading_phi</th>\n",
              "      <th>PRI_jet_subleading_pt</th>\n",
              "      <th>PRI_jet_subleading_eta</th>\n",
              "      <th>PRI_jet_subleading_phi</th>\n",
              "      <th>PRI_jet_all_pt</th>\n",
              "    </tr>\n",
              "  </thead>\n",
              "  <tbody>\n",
              "    <tr>\n",
              "      <th>count</th>\n",
              "      <td>550000.000000</td>\n",
              "      <td>550000.000000</td>\n",
              "      <td>550000.000000</td>\n",
              "      <td>550000.000000</td>\n",
              "      <td>550000.000000</td>\n",
              "      <td>550000.000000</td>\n",
              "      <td>550000.000000</td>\n",
              "      <td>550000.000000</td>\n",
              "      <td>550000.000000</td>\n",
              "      <td>550000.000000</td>\n",
              "      <td>550000.000000</td>\n",
              "      <td>550000.000000</td>\n",
              "      <td>550000.000000</td>\n",
              "      <td>550000.000000</td>\n",
              "      <td>550000.000000</td>\n",
              "      <td>550000.000000</td>\n",
              "      <td>550000.000000</td>\n",
              "      <td>550000.000000</td>\n",
              "      <td>550000.000000</td>\n",
              "      <td>550000.000000</td>\n",
              "      <td>550000.000000</td>\n",
              "      <td>550000.000000</td>\n",
              "      <td>550000.000000</td>\n",
              "      <td>550000.000000</td>\n",
              "      <td>550000.000000</td>\n",
              "      <td>550000.000000</td>\n",
              "      <td>550000.000000</td>\n",
              "      <td>550000.000000</td>\n",
              "      <td>550000.000000</td>\n",
              "      <td>550000.000000</td>\n",
              "      <td>550000.000000</td>\n",
              "    </tr>\n",
              "    <tr>\n",
              "      <th>mean</th>\n",
              "      <td>624999.500000</td>\n",
              "      <td>-48.950144</td>\n",
              "      <td>49.261093</td>\n",
              "      <td>81.123904</td>\n",
              "      <td>57.824801</td>\n",
              "      <td>-707.448878</td>\n",
              "      <td>-599.705905</td>\n",
              "      <td>-708.391425</td>\n",
              "      <td>2.374076</td>\n",
              "      <td>18.988277</td>\n",
              "      <td>158.659749</td>\n",
              "      <td>1.439415</td>\n",
              "      <td>-0.126942</td>\n",
              "      <td>-708.015756</td>\n",
              "      <td>38.696831</td>\n",
              "      <td>-0.011861</td>\n",
              "      <td>-0.015815</td>\n",
              "      <td>46.714062</td>\n",
              "      <td>-0.018781</td>\n",
              "      <td>0.051797</td>\n",
              "      <td>41.627231</td>\n",
              "      <td>-0.008214</td>\n",
              "      <td>209.933695</td>\n",
              "      <td>0.980171</td>\n",
              "      <td>-348.946684</td>\n",
              "      <td>-399.883839</td>\n",
              "      <td>-399.896234</td>\n",
              "      <td>-691.309277</td>\n",
              "      <td>-708.150605</td>\n",
              "      <td>-708.153058</td>\n",
              "      <td>73.248856</td>\n",
              "    </tr>\n",
              "    <tr>\n",
              "      <th>std</th>\n",
              "      <td>158771.468364</td>\n",
              "      <td>406.233686</td>\n",
              "      <td>35.425422</td>\n",
              "      <td>40.435560</td>\n",
              "      <td>63.291314</td>\n",
              "      <td>454.928791</td>\n",
              "      <td>659.129589</td>\n",
              "      <td>453.461222</td>\n",
              "      <td>0.779895</td>\n",
              "      <td>21.767376</td>\n",
              "      <td>116.237589</td>\n",
              "      <td>0.845026</td>\n",
              "      <td>1.194503</td>\n",
              "      <td>454.043330</td>\n",
              "      <td>22.421603</td>\n",
              "      <td>1.213344</td>\n",
              "      <td>1.816023</td>\n",
              "      <td>22.174519</td>\n",
              "      <td>1.264147</td>\n",
              "      <td>1.814055</td>\n",
              "      <td>32.324457</td>\n",
              "      <td>1.812777</td>\n",
              "      <td>126.910079</td>\n",
              "      <td>0.979271</td>\n",
              "      <td>533.155176</td>\n",
              "      <td>489.467786</td>\n",
              "      <td>489.457747</td>\n",
              "      <td>480.435230</td>\n",
              "      <td>453.834190</td>\n",
              "      <td>453.830095</td>\n",
              "      <td>98.467134</td>\n",
              "    </tr>\n",
              "    <tr>\n",
              "      <th>min</th>\n",
              "      <td>350000.000000</td>\n",
              "      <td>-999.000000</td>\n",
              "      <td>0.000000</td>\n",
              "      <td>6.810000</td>\n",
              "      <td>0.000000</td>\n",
              "      <td>-999.000000</td>\n",
              "      <td>-999.000000</td>\n",
              "      <td>-999.000000</td>\n",
              "      <td>0.237000</td>\n",
              "      <td>0.000000</td>\n",
              "      <td>46.103000</td>\n",
              "      <td>0.055000</td>\n",
              "      <td>-1.414000</td>\n",
              "      <td>-999.000000</td>\n",
              "      <td>20.000000</td>\n",
              "      <td>-2.499000</td>\n",
              "      <td>-3.142000</td>\n",
              "      <td>26.000000</td>\n",
              "      <td>-2.508000</td>\n",
              "      <td>-3.142000</td>\n",
              "      <td>0.051000</td>\n",
              "      <td>-3.142000</td>\n",
              "      <td>13.847000</td>\n",
              "      <td>0.000000</td>\n",
              "      <td>-999.000000</td>\n",
              "      <td>-999.000000</td>\n",
              "      <td>-999.000000</td>\n",
              "      <td>-999.000000</td>\n",
              "      <td>-999.000000</td>\n",
              "      <td>-999.000000</td>\n",
              "      <td>-0.000000</td>\n",
              "    </tr>\n",
              "    <tr>\n",
              "      <th>25%</th>\n",
              "      <td>487499.750000</td>\n",
              "      <td>78.167750</td>\n",
              "      <td>19.313000</td>\n",
              "      <td>59.422000</td>\n",
              "      <td>14.192000</td>\n",
              "      <td>-999.000000</td>\n",
              "      <td>-999.000000</td>\n",
              "      <td>-999.000000</td>\n",
              "      <td>1.815000</td>\n",
              "      <td>2.838000</td>\n",
              "      <td>77.471000</td>\n",
              "      <td>0.886000</td>\n",
              "      <td>-1.371000</td>\n",
              "      <td>-999.000000</td>\n",
              "      <td>24.582000</td>\n",
              "      <td>-0.926000</td>\n",
              "      <td>-1.588000</td>\n",
              "      <td>32.378000</td>\n",
              "      <td>-1.011000</td>\n",
              "      <td>-1.508000</td>\n",
              "      <td>21.374000</td>\n",
              "      <td>-1.574000</td>\n",
              "      <td>122.984750</td>\n",
              "      <td>0.000000</td>\n",
              "      <td>-999.000000</td>\n",
              "      <td>-999.000000</td>\n",
              "      <td>-999.000000</td>\n",
              "      <td>-999.000000</td>\n",
              "      <td>-999.000000</td>\n",
              "      <td>-999.000000</td>\n",
              "      <td>0.000000</td>\n",
              "    </tr>\n",
              "    <tr>\n",
              "      <th>50%</th>\n",
              "      <td>624999.500000</td>\n",
              "      <td>105.076000</td>\n",
              "      <td>46.455500</td>\n",
              "      <td>73.747000</td>\n",
              "      <td>38.469500</td>\n",
              "      <td>-999.000000</td>\n",
              "      <td>-999.000000</td>\n",
              "      <td>-999.000000</td>\n",
              "      <td>2.492000</td>\n",
              "      <td>12.390000</td>\n",
              "      <td>120.701500</td>\n",
              "      <td>1.282000</td>\n",
              "      <td>-0.356000</td>\n",
              "      <td>-999.000000</td>\n",
              "      <td>31.770000</td>\n",
              "      <td>-0.021000</td>\n",
              "      <td>-0.042000</td>\n",
              "      <td>40.561500</td>\n",
              "      <td>-0.038000</td>\n",
              "      <td>0.097000</td>\n",
              "      <td>34.758000</td>\n",
              "      <td>-0.017000</td>\n",
              "      <td>179.949000</td>\n",
              "      <td>1.000000</td>\n",
              "      <td>38.970000</td>\n",
              "      <td>-1.862000</td>\n",
              "      <td>-2.111000</td>\n",
              "      <td>-999.000000</td>\n",
              "      <td>-999.000000</td>\n",
              "      <td>-999.000000</td>\n",
              "      <td>40.503500</td>\n",
              "    </tr>\n",
              "    <tr>\n",
              "      <th>75%</th>\n",
              "      <td>762499.250000</td>\n",
              "      <td>130.769000</td>\n",
              "      <td>73.646000</td>\n",
              "      <td>92.173000</td>\n",
              "      <td>79.234250</td>\n",
              "      <td>0.503000</td>\n",
              "      <td>84.266250</td>\n",
              "      <td>-4.538000</td>\n",
              "      <td>2.962000</td>\n",
              "      <td>27.649000</td>\n",
              "      <td>201.018000</td>\n",
              "      <td>1.779000</td>\n",
              "      <td>1.230000</td>\n",
              "      <td>0.000000</td>\n",
              "      <td>44.883000</td>\n",
              "      <td>0.899000</td>\n",
              "      <td>1.557000</td>\n",
              "      <td>53.387000</td>\n",
              "      <td>0.956000</td>\n",
              "      <td>1.617000</td>\n",
              "      <td>51.922000</td>\n",
              "      <td>1.558000</td>\n",
              "      <td>263.917250</td>\n",
              "      <td>2.000000</td>\n",
              "      <td>75.499000</td>\n",
              "      <td>0.431000</td>\n",
              "      <td>0.484000</td>\n",
              "      <td>33.832000</td>\n",
              "      <td>-2.429000</td>\n",
              "      <td>-2.260000</td>\n",
              "      <td>110.507000</td>\n",
              "    </tr>\n",
              "    <tr>\n",
              "      <th>max</th>\n",
              "      <td>899999.000000</td>\n",
              "      <td>1949.261000</td>\n",
              "      <td>968.669000</td>\n",
              "      <td>1264.965000</td>\n",
              "      <td>1337.187000</td>\n",
              "      <td>8.724000</td>\n",
              "      <td>4794.827000</td>\n",
              "      <td>17.294000</td>\n",
              "      <td>5.751000</td>\n",
              "      <td>759.363000</td>\n",
              "      <td>2079.162000</td>\n",
              "      <td>32.228000</td>\n",
              "      <td>1.414000</td>\n",
              "      <td>1.000000</td>\n",
              "      <td>627.023000</td>\n",
              "      <td>2.500000</td>\n",
              "      <td>3.142000</td>\n",
              "      <td>701.328000</td>\n",
              "      <td>2.506000</td>\n",
              "      <td>3.142000</td>\n",
              "      <td>1254.363000</td>\n",
              "      <td>3.142000</td>\n",
              "      <td>2190.275000</td>\n",
              "      <td>3.000000</td>\n",
              "      <td>1163.439000</td>\n",
              "      <td>4.500000</td>\n",
              "      <td>3.142000</td>\n",
              "      <td>817.801000</td>\n",
              "      <td>4.500000</td>\n",
              "      <td>3.142000</td>\n",
              "      <td>1860.175000</td>\n",
              "    </tr>\n",
              "  </tbody>\n",
              "</table>\n",
              "</div>"
            ],
            "text/plain": [
              "             EventId   DER_mass_MMC  ...  PRI_jet_subleading_phi  PRI_jet_all_pt\n",
              "count  550000.000000  550000.000000  ...           550000.000000   550000.000000\n",
              "mean   624999.500000     -48.950144  ...             -708.153058       73.248856\n",
              "std    158771.468364     406.233686  ...              453.830095       98.467134\n",
              "min    350000.000000    -999.000000  ...             -999.000000       -0.000000\n",
              "25%    487499.750000      78.167750  ...             -999.000000        0.000000\n",
              "50%    624999.500000     105.076000  ...             -999.000000       40.503500\n",
              "75%    762499.250000     130.769000  ...               -2.260000      110.507000\n",
              "max    899999.000000    1949.261000  ...                3.142000     1860.175000\n",
              "\n",
              "[8 rows x 31 columns]"
            ]
          },
          "metadata": {
            "tags": []
          },
          "execution_count": 14
        }
      ]
    },
    {
      "cell_type": "markdown",
      "metadata": {
        "id": "w6K1mkwDX3P2",
        "colab_type": "text"
      },
      "source": [
        "Consider 2 features: \n",
        "\n"
      ]
    },
    {
      "cell_type": "code",
      "metadata": {
        "id": "v_DWfTWNX3Aq",
        "colab_type": "code",
        "outputId": "144aae8d-5761-4501-f05b-8129ec5d4e38",
        "colab": {
          "base_uri": "https://localhost:8080/",
          "height": 230
        }
      },
      "source": [
        "!unzip coronavirusdataset.zip"
      ],
      "execution_count": 16,
      "outputs": [
        {
          "output_type": "stream",
          "text": [
            "Archive:  coronavirusdataset.zip\n",
            "  inflating: Case.csv                \n",
            "  inflating: PatientInfo.csv         \n",
            "  inflating: PatientRoute.csv        \n",
            "  inflating: Region.csv              \n",
            "  inflating: SearchTrend.csv         \n",
            "  inflating: SeoulFloating.csv       \n",
            "  inflating: Time.csv                \n",
            "  inflating: TimeAge.csv             \n",
            "  inflating: TimeGender.csv          \n",
            "  inflating: TimeProvince.csv        \n",
            "  inflating: Weather.csv             \n"
          ],
          "name": "stdout"
        }
      ]
    },
    {
      "cell_type": "code",
      "metadata": {
        "id": "Ig8jWMf3X21P",
        "colab_type": "code",
        "outputId": "3bc950a7-8124-44a1-d233-5b1741d53045",
        "colab": {
          "base_uri": "https://localhost:8080/",
          "height": 296
        }
      },
      "source": [
        "data.plot(\"PRI_met\",\t\"PRI_jet_leading_pt\", style='.')"
      ],
      "execution_count": 17,
      "outputs": [
        {
          "output_type": "execute_result",
          "data": {
            "text/plain": [
              "<matplotlib.axes._subplots.AxesSubplot at 0x7f4c4a800ef0>"
            ]
          },
          "metadata": {
            "tags": []
          },
          "execution_count": 17
        },
        {
          "output_type": "display_data",
          "data": {
            "image/png": "[encoded data removed]",
            "text/plain": [
              "<Figure size 432x288 with 1 Axes>"
            ]
          },
          "metadata": {
            "tags": []
          }
        }
      ]
    },
    {
      "cell_type": "markdown",
      "metadata": {
        "id": "nr-Z4D2UYMUW",
        "colab_type": "text"
      },
      "source": [
        "remove outliers "
      ]
    },
    {
      "cell_type": "code",
      "metadata": {
        "id": "dGqcICQ-YOPd",
        "colab_type": "code",
        "outputId": "b6a0d368-3b6f-42d8-81b5-92f683736c6e",
        "colab": {
          "base_uri": "https://localhost:8080/",
          "height": 296
        }
      },
      "source": [
        "data = data[data[\"PRI_jet_leading_pt\"] > 500]\n",
        "data.plot(\"PRI_met\",\t\"PRI_jet_leading_pt\", style='.')"
      ],
      "execution_count": 18,
      "outputs": [
        {
          "output_type": "execute_result",
          "data": {
            "text/plain": [
              "<matplotlib.axes._subplots.AxesSubplot at 0x7f4c4a78ccf8>"
            ]
          },
          "metadata": {
            "tags": []
          },
          "execution_count": 18
        },
        {
          "output_type": "display_data",
          "data": {
            "image/png": "[encoded data removed]",
            "text/plain": [
              "<Figure size 432x288 with 1 Axes>"
            ]
          },
          "metadata": {
            "tags": []
          }
        }
      ]
    },
    {
      "cell_type": "code",
      "metadata": {
        "id": "bqjLvvziYG4r",
        "colab_type": "code",
        "colab": {
          "base_uri": "https://localhost:8080/",
          "height": 256
        },
        "outputId": "a35d75fd-b4f8-4bcc-95be-7ab2a3dfc835"
      },
      "source": [
        "data = data[data[\"PRI_jet_leading_pt\"] > 500]\n",
        "ax = pl.figure().add_subplot(111)\n",
        "ax.set_aspect('equal')\n",
        "data.plot(\"PRI_met\",\t\"PRI_jet_leading_pt\", \n",
        "          style='.', ax=ax)\n"
      ],
      "execution_count": 22,
      "outputs": [
        {
          "output_type": "execute_result",
          "data": {
            "text/plain": [
              "<matplotlib.axes._subplots.AxesSubplot at 0x7f4c4a393c18>"
            ]
          },
          "metadata": {
            "tags": []
          },
          "execution_count": 22
        },
        {
          "output_type": "display_data",
          "data": {
            "image/png": "[encoded data removed]",
            "text/plain": [
              "<Figure size 432x288 with 1 Axes>"
            ]
          },
          "metadata": {
            "tags": []
          }
        }
      ]
    },
    {
      "cell_type": "code",
      "metadata": {
        "id": "qe2-5ICTYutG",
        "colab_type": "code",
        "colab": {
          "base_uri": "https://localhost:8080/",
          "height": 54
        },
        "outputId": "e0d75d0a-caf3-46e7-8117-5271c029261a"
      },
      "source": [
        "\n",
        "from sklearn import preprocessing\n",
        "X = data[[\"PRI_met\",\t\"PRI_jet_leading_pt\"]].values\n",
        "X_scaled = preprocessing.scale(X)\n",
        "\n",
        "\n",
        "print(\"scaled training data feature mean and standard deviations: \", \n",
        "      X_scaled.mean(axis=0), X_scaled.std(axis=0))\n"
      ],
      "execution_count": 23,
      "outputs": [
        {
          "output_type": "stream",
          "text": [
            "scaled training data feature mean and standard deviations:  [ 1.70610544e-16 -3.31185173e-16] [1. 1.]\n"
          ],
          "name": "stdout"
        }
      ]
    },
    {
      "cell_type": "code",
      "metadata": {
        "id": "YdVg6V3NYGpv",
        "colab_type": "code",
        "outputId": "6fe63cd5-73dc-4030-a6fa-232f46df2d21",
        "colab": {
          "base_uri": "https://localhost:8080/",
          "height": 518
        }
      },
      "source": [
        "ax = pl.figure().add_subplot(111)\n",
        "ax.set_aspect('equal')\n",
        "ax.plot(X.T[0],\tX.T[1], \n",
        "          '.')\n",
        "pl.xlabel(\"PRI_met\")\n",
        "pl.ylabel(\"PRI_jet_leading_pt\")\n",
        "\n",
        "ax = pl.figure().add_subplot(111)\n",
        "ax.set_aspect('equal')\n",
        "ax.plot(X_scaled.T[0],\tX_scaled.T[1], \n",
        "          '.')\n",
        "pl.xlabel(\"scaled PRI_met\")\n",
        "pl.ylabel(\"scaled PRI_jet_leading_pt\")\n",
        "\n"
      ],
      "execution_count": 29,
      "outputs": [
        {
          "output_type": "execute_result",
          "data": {
            "text/plain": [
              "Text(0, 0.5, 'scaled PRI_jet_leading_pt')"
            ]
          },
          "metadata": {
            "tags": []
          },
          "execution_count": 29
        },
        {
          "output_type": "display_data",
          "data": {
            "image/png": "[encoded data removed]",
            "text/plain": [
              "<Figure size 432x288 with 1 Axes>"
            ]
          },
          "metadata": {
            "tags": []
          }
        },
        {
          "output_type": "display_data",
          "data": {
            "image/png": "[encoded data removed]",
            "text/plain": [
              "<Figure size 432x288 with 1 Axes>"
            ]
          },
          "metadata": {
            "tags": []
          }
        }
      ]
    },
    {
      "cell_type": "markdown",
      "metadata": {
        "id": "NyVqpa5fZpSl",
        "colab_type": "text"
      },
      "source": [
        "# summary: you can think about scaling as squaring up the feature space "
      ]
    }
  ]
}